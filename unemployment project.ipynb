{
 "cells": [
  {
   "cell_type": "code",
   "execution_count": 43,
   "id": "1df18c44",
   "metadata": {},
   "outputs": [],
   "source": [
    "import pandas as pd\n",
    "import numpy as np\n",
    "import matplotlib.pyplot as plt\n",
    "import plotly.express as px\n",
    "import seaborn as sb"
   ]
  },
  {
   "cell_type": "code",
   "execution_count": 44,
   "id": "31be26b6",
   "metadata": {},
   "outputs": [
    {
     "data": {
      "text/html": [
       "<div>\n",
       "<style scoped>\n",
       "    .dataframe tbody tr th:only-of-type {\n",
       "        vertical-align: middle;\n",
       "    }\n",
       "\n",
       "    .dataframe tbody tr th {\n",
       "        vertical-align: top;\n",
       "    }\n",
       "\n",
       "    .dataframe thead th {\n",
       "        text-align: right;\n",
       "    }\n",
       "</style>\n",
       "<table border=\"1\" class=\"dataframe\">\n",
       "  <thead>\n",
       "    <tr style=\"text-align: right;\">\n",
       "      <th></th>\n",
       "      <th>Region</th>\n",
       "      <th>Date</th>\n",
       "      <th>Frequency</th>\n",
       "      <th>Estimated Unemployment Rate (%)</th>\n",
       "      <th>Estimated Employed</th>\n",
       "      <th>Estimated Labour Participation Rate (%)</th>\n",
       "      <th>Region.1</th>\n",
       "      <th>longitude</th>\n",
       "      <th>latitude</th>\n",
       "    </tr>\n",
       "  </thead>\n",
       "  <tbody>\n",
       "    <tr>\n",
       "      <th>0</th>\n",
       "      <td>Andhra Pradesh</td>\n",
       "      <td>31-01-2020</td>\n",
       "      <td>M</td>\n",
       "      <td>5.48</td>\n",
       "      <td>16635535</td>\n",
       "      <td>41.02</td>\n",
       "      <td>South</td>\n",
       "      <td>15.9129</td>\n",
       "      <td>79.74</td>\n",
       "    </tr>\n",
       "    <tr>\n",
       "      <th>1</th>\n",
       "      <td>Andhra Pradesh</td>\n",
       "      <td>29-02-2020</td>\n",
       "      <td>M</td>\n",
       "      <td>5.83</td>\n",
       "      <td>16545652</td>\n",
       "      <td>40.90</td>\n",
       "      <td>South</td>\n",
       "      <td>15.9129</td>\n",
       "      <td>79.74</td>\n",
       "    </tr>\n",
       "    <tr>\n",
       "      <th>2</th>\n",
       "      <td>Andhra Pradesh</td>\n",
       "      <td>31-03-2020</td>\n",
       "      <td>M</td>\n",
       "      <td>5.79</td>\n",
       "      <td>15881197</td>\n",
       "      <td>39.18</td>\n",
       "      <td>South</td>\n",
       "      <td>15.9129</td>\n",
       "      <td>79.74</td>\n",
       "    </tr>\n",
       "    <tr>\n",
       "      <th>3</th>\n",
       "      <td>Andhra Pradesh</td>\n",
       "      <td>30-04-2020</td>\n",
       "      <td>M</td>\n",
       "      <td>20.51</td>\n",
       "      <td>11336911</td>\n",
       "      <td>33.10</td>\n",
       "      <td>South</td>\n",
       "      <td>15.9129</td>\n",
       "      <td>79.74</td>\n",
       "    </tr>\n",
       "    <tr>\n",
       "      <th>4</th>\n",
       "      <td>Andhra Pradesh</td>\n",
       "      <td>31-05-2020</td>\n",
       "      <td>M</td>\n",
       "      <td>17.43</td>\n",
       "      <td>12988845</td>\n",
       "      <td>36.46</td>\n",
       "      <td>South</td>\n",
       "      <td>15.9129</td>\n",
       "      <td>79.74</td>\n",
       "    </tr>\n",
       "  </tbody>\n",
       "</table>\n",
       "</div>"
      ],
      "text/plain": [
       "           Region         Date  Frequency   Estimated Unemployment Rate (%)  \\\n",
       "0  Andhra Pradesh   31-01-2020          M                              5.48   \n",
       "1  Andhra Pradesh   29-02-2020          M                              5.83   \n",
       "2  Andhra Pradesh   31-03-2020          M                              5.79   \n",
       "3  Andhra Pradesh   30-04-2020          M                             20.51   \n",
       "4  Andhra Pradesh   31-05-2020          M                             17.43   \n",
       "\n",
       "    Estimated Employed   Estimated Labour Participation Rate (%) Region.1  \\\n",
       "0             16635535                                     41.02    South   \n",
       "1             16545652                                     40.90    South   \n",
       "2             15881197                                     39.18    South   \n",
       "3             11336911                                     33.10    South   \n",
       "4             12988845                                     36.46    South   \n",
       "\n",
       "   longitude  latitude  \n",
       "0    15.9129     79.74  \n",
       "1    15.9129     79.74  \n",
       "2    15.9129     79.74  \n",
       "3    15.9129     79.74  \n",
       "4    15.9129     79.74  "
      ]
     },
     "execution_count": 44,
     "metadata": {},
     "output_type": "execute_result"
    }
   ],
   "source": [
    "df = pd.read_csv('Unemployment_Rate_upto_11_2020.csv')\n",
    "df.head()"
   ]
  },
  {
   "cell_type": "code",
   "execution_count": 45,
   "id": "a289c80f",
   "metadata": {},
   "outputs": [
    {
     "data": {
      "text/html": [
       "<div>\n",
       "<style scoped>\n",
       "    .dataframe tbody tr th:only-of-type {\n",
       "        vertical-align: middle;\n",
       "    }\n",
       "\n",
       "    .dataframe tbody tr th {\n",
       "        vertical-align: top;\n",
       "    }\n",
       "\n",
       "    .dataframe thead th {\n",
       "        text-align: right;\n",
       "    }\n",
       "</style>\n",
       "<table border=\"1\" class=\"dataframe\">\n",
       "  <thead>\n",
       "    <tr style=\"text-align: right;\">\n",
       "      <th></th>\n",
       "      <th>Region</th>\n",
       "      <th>Date</th>\n",
       "      <th>Frequency</th>\n",
       "      <th>Estimated Unemployment Rate (%)</th>\n",
       "      <th>Estimated Employed</th>\n",
       "      <th>Estimated Labour Participation Rate (%)</th>\n",
       "      <th>Region.1</th>\n",
       "      <th>longitude</th>\n",
       "      <th>latitude</th>\n",
       "    </tr>\n",
       "  </thead>\n",
       "  <tbody>\n",
       "    <tr>\n",
       "      <th>262</th>\n",
       "      <td>West Bengal</td>\n",
       "      <td>30-06-2020</td>\n",
       "      <td>M</td>\n",
       "      <td>7.29</td>\n",
       "      <td>30726310</td>\n",
       "      <td>40.39</td>\n",
       "      <td>East</td>\n",
       "      <td>22.9868</td>\n",
       "      <td>87.855</td>\n",
       "    </tr>\n",
       "    <tr>\n",
       "      <th>263</th>\n",
       "      <td>West Bengal</td>\n",
       "      <td>31-07-2020</td>\n",
       "      <td>M</td>\n",
       "      <td>6.83</td>\n",
       "      <td>35372506</td>\n",
       "      <td>46.17</td>\n",
       "      <td>East</td>\n",
       "      <td>22.9868</td>\n",
       "      <td>87.855</td>\n",
       "    </tr>\n",
       "    <tr>\n",
       "      <th>264</th>\n",
       "      <td>West Bengal</td>\n",
       "      <td>31-08-2020</td>\n",
       "      <td>M</td>\n",
       "      <td>14.87</td>\n",
       "      <td>33298644</td>\n",
       "      <td>47.48</td>\n",
       "      <td>East</td>\n",
       "      <td>22.9868</td>\n",
       "      <td>87.855</td>\n",
       "    </tr>\n",
       "    <tr>\n",
       "      <th>265</th>\n",
       "      <td>West Bengal</td>\n",
       "      <td>30-09-2020</td>\n",
       "      <td>M</td>\n",
       "      <td>9.35</td>\n",
       "      <td>35707239</td>\n",
       "      <td>47.73</td>\n",
       "      <td>East</td>\n",
       "      <td>22.9868</td>\n",
       "      <td>87.855</td>\n",
       "    </tr>\n",
       "    <tr>\n",
       "      <th>266</th>\n",
       "      <td>West Bengal</td>\n",
       "      <td>31-10-2020</td>\n",
       "      <td>M</td>\n",
       "      <td>9.98</td>\n",
       "      <td>33962549</td>\n",
       "      <td>45.63</td>\n",
       "      <td>East</td>\n",
       "      <td>22.9868</td>\n",
       "      <td>87.855</td>\n",
       "    </tr>\n",
       "  </tbody>\n",
       "</table>\n",
       "</div>"
      ],
      "text/plain": [
       "          Region         Date  Frequency   Estimated Unemployment Rate (%)  \\\n",
       "262  West Bengal   30-06-2020          M                              7.29   \n",
       "263  West Bengal   31-07-2020          M                              6.83   \n",
       "264  West Bengal   31-08-2020          M                             14.87   \n",
       "265  West Bengal   30-09-2020          M                              9.35   \n",
       "266  West Bengal   31-10-2020          M                              9.98   \n",
       "\n",
       "      Estimated Employed   Estimated Labour Participation Rate (%) Region.1  \\\n",
       "262             30726310                                     40.39     East   \n",
       "263             35372506                                     46.17     East   \n",
       "264             33298644                                     47.48     East   \n",
       "265             35707239                                     47.73     East   \n",
       "266             33962549                                     45.63     East   \n",
       "\n",
       "     longitude  latitude  \n",
       "262    22.9868    87.855  \n",
       "263    22.9868    87.855  \n",
       "264    22.9868    87.855  \n",
       "265    22.9868    87.855  \n",
       "266    22.9868    87.855  "
      ]
     },
     "execution_count": 45,
     "metadata": {},
     "output_type": "execute_result"
    }
   ],
   "source": [
    "df.tail()"
   ]
  },
  {
   "cell_type": "code",
   "execution_count": 46,
   "id": "7bcf9a6d",
   "metadata": {},
   "outputs": [
    {
     "name": "stdout",
     "output_type": "stream",
     "text": [
      "<class 'pandas.core.frame.DataFrame'>\n",
      "RangeIndex: 267 entries, 0 to 266\n",
      "Data columns (total 9 columns):\n",
      " #   Column                                    Non-Null Count  Dtype  \n",
      "---  ------                                    --------------  -----  \n",
      " 0   Region                                    267 non-null    object \n",
      " 1    Date                                     267 non-null    object \n",
      " 2    Frequency                                267 non-null    object \n",
      " 3    Estimated Unemployment Rate (%)          267 non-null    float64\n",
      " 4    Estimated Employed                       267 non-null    int64  \n",
      " 5    Estimated Labour Participation Rate (%)  267 non-null    float64\n",
      " 6   Region.1                                  267 non-null    object \n",
      " 7   longitude                                 267 non-null    float64\n",
      " 8   latitude                                  267 non-null    float64\n",
      "dtypes: float64(4), int64(1), object(4)\n",
      "memory usage: 18.9+ KB\n"
     ]
    }
   ],
   "source": [
    "df.info()"
   ]
  },
  {
   "cell_type": "code",
   "execution_count": 47,
   "id": "f24fe3d8",
   "metadata": {},
   "outputs": [
    {
     "data": {
      "text/plain": [
       "(267, 9)"
      ]
     },
     "execution_count": 47,
     "metadata": {},
     "output_type": "execute_result"
    }
   ],
   "source": [
    "df.shape"
   ]
  },
  {
   "cell_type": "code",
   "execution_count": 48,
   "id": "93c5fe9a",
   "metadata": {},
   "outputs": [
    {
     "data": {
      "text/html": [
       "<div>\n",
       "<style scoped>\n",
       "    .dataframe tbody tr th:only-of-type {\n",
       "        vertical-align: middle;\n",
       "    }\n",
       "\n",
       "    .dataframe tbody tr th {\n",
       "        vertical-align: top;\n",
       "    }\n",
       "\n",
       "    .dataframe thead th {\n",
       "        text-align: right;\n",
       "    }\n",
       "</style>\n",
       "<table border=\"1\" class=\"dataframe\">\n",
       "  <thead>\n",
       "    <tr style=\"text-align: right;\">\n",
       "      <th></th>\n",
       "      <th>Estimated Unemployment Rate (%)</th>\n",
       "      <th>Estimated Employed</th>\n",
       "      <th>Estimated Labour Participation Rate (%)</th>\n",
       "      <th>longitude</th>\n",
       "      <th>latitude</th>\n",
       "    </tr>\n",
       "  </thead>\n",
       "  <tbody>\n",
       "    <tr>\n",
       "      <th>count</th>\n",
       "      <td>267.000000</td>\n",
       "      <td>2.670000e+02</td>\n",
       "      <td>267.000000</td>\n",
       "      <td>267.000000</td>\n",
       "      <td>267.000000</td>\n",
       "    </tr>\n",
       "    <tr>\n",
       "      <th>mean</th>\n",
       "      <td>12.236929</td>\n",
       "      <td>1.396211e+07</td>\n",
       "      <td>41.681573</td>\n",
       "      <td>22.826048</td>\n",
       "      <td>80.532425</td>\n",
       "    </tr>\n",
       "    <tr>\n",
       "      <th>std</th>\n",
       "      <td>10.803283</td>\n",
       "      <td>1.336632e+07</td>\n",
       "      <td>7.845419</td>\n",
       "      <td>6.270731</td>\n",
       "      <td>5.831738</td>\n",
       "    </tr>\n",
       "    <tr>\n",
       "      <th>min</th>\n",
       "      <td>0.500000</td>\n",
       "      <td>1.175420e+05</td>\n",
       "      <td>16.770000</td>\n",
       "      <td>10.850500</td>\n",
       "      <td>71.192400</td>\n",
       "    </tr>\n",
       "    <tr>\n",
       "      <th>25%</th>\n",
       "      <td>4.845000</td>\n",
       "      <td>2.838930e+06</td>\n",
       "      <td>37.265000</td>\n",
       "      <td>18.112400</td>\n",
       "      <td>76.085600</td>\n",
       "    </tr>\n",
       "    <tr>\n",
       "      <th>50%</th>\n",
       "      <td>9.650000</td>\n",
       "      <td>9.732417e+06</td>\n",
       "      <td>40.390000</td>\n",
       "      <td>23.610200</td>\n",
       "      <td>79.019300</td>\n",
       "    </tr>\n",
       "    <tr>\n",
       "      <th>75%</th>\n",
       "      <td>16.755000</td>\n",
       "      <td>2.187869e+07</td>\n",
       "      <td>44.055000</td>\n",
       "      <td>27.278400</td>\n",
       "      <td>85.279900</td>\n",
       "    </tr>\n",
       "    <tr>\n",
       "      <th>max</th>\n",
       "      <td>75.850000</td>\n",
       "      <td>5.943376e+07</td>\n",
       "      <td>69.690000</td>\n",
       "      <td>33.778200</td>\n",
       "      <td>92.937600</td>\n",
       "    </tr>\n",
       "  </tbody>\n",
       "</table>\n",
       "</div>"
      ],
      "text/plain": [
       "        Estimated Unemployment Rate (%)   Estimated Employed  \\\n",
       "count                        267.000000         2.670000e+02   \n",
       "mean                          12.236929         1.396211e+07   \n",
       "std                           10.803283         1.336632e+07   \n",
       "min                            0.500000         1.175420e+05   \n",
       "25%                            4.845000         2.838930e+06   \n",
       "50%                            9.650000         9.732417e+06   \n",
       "75%                           16.755000         2.187869e+07   \n",
       "max                           75.850000         5.943376e+07   \n",
       "\n",
       "        Estimated Labour Participation Rate (%)   longitude    latitude  \n",
       "count                                267.000000  267.000000  267.000000  \n",
       "mean                                  41.681573   22.826048   80.532425  \n",
       "std                                    7.845419    6.270731    5.831738  \n",
       "min                                   16.770000   10.850500   71.192400  \n",
       "25%                                   37.265000   18.112400   76.085600  \n",
       "50%                                   40.390000   23.610200   79.019300  \n",
       "75%                                   44.055000   27.278400   85.279900  \n",
       "max                                   69.690000   33.778200   92.937600  "
      ]
     },
     "execution_count": 48,
     "metadata": {},
     "output_type": "execute_result"
    }
   ],
   "source": [
    "df.describe()"
   ]
  },
  {
   "cell_type": "code",
   "execution_count": 49,
   "id": "5a9ea307",
   "metadata": {},
   "outputs": [],
   "source": [
    "df2=df.iloc[:3]"
   ]
  },
  {
   "cell_type": "code",
   "execution_count": 50,
   "id": "2705753a",
   "metadata": {},
   "outputs": [
    {
     "name": "stdout",
     "output_type": "stream",
     "text": [
      "0      Andhra Pradesh\n",
      "1      Andhra Pradesh\n",
      "2      Andhra Pradesh\n",
      "3      Andhra Pradesh\n",
      "4      Andhra Pradesh\n",
      "            ...      \n",
      "262       West Bengal\n",
      "263       West Bengal\n",
      "264       West Bengal\n",
      "265       West Bengal\n",
      "266       West Bengal\n",
      "Name: Region, Length: 267, dtype: object\n"
     ]
    }
   ],
   "source": [
    "x= df['Region']\n",
    "print(x)"
   ]
  },
  {
   "cell_type": "code",
   "execution_count": 51,
   "id": "009d99a2",
   "metadata": {},
   "outputs": [
    {
     "name": "stdout",
     "output_type": "stream",
     "text": [
      "Index(['Region', ' Date', ' Frequency', ' Estimated Unemployment Rate (%)',\n",
      "       ' Estimated Employed', ' Estimated Labour Participation Rate (%)',\n",
      "       'Region.1', 'longitude', 'latitude'],\n",
      "      dtype='object')\n"
     ]
    }
   ],
   "source": [
    "print(df.columns)"
   ]
  },
  {
   "cell_type": "code",
   "execution_count": 52,
   "id": "c3532207",
   "metadata": {},
   "outputs": [
    {
     "data": {
      "text/plain": [
       "0       5.48\n",
       "1       5.83\n",
       "2       5.79\n",
       "3      20.51\n",
       "4      17.43\n",
       "       ...  \n",
       "262     7.29\n",
       "263     6.83\n",
       "264    14.87\n",
       "265     9.35\n",
       "266     9.98\n",
       "Name:  Estimated Unemployment Rate (%), Length: 267, dtype: float64"
      ]
     },
     "execution_count": 52,
     "metadata": {},
     "output_type": "execute_result"
    }
   ],
   "source": [
    "y= df[' Estimated Unemployment Rate (%)']\n",
    "y"
   ]
  },
  {
   "cell_type": "code",
   "execution_count": 53,
   "id": "da95c959",
   "metadata": {},
   "outputs": [
    {
     "data": {
      "application/vnd.plotly.v1+json": {
       "config": {
        "plotlyServerURL": "https://plot.ly"
       },
       "data": [
        {
         "alignmentgroup": "True",
         "hovertemplate": "Region=%{x}<br> Estimated Unemployment Rate (%)=%{y}<extra></extra>",
         "legendgroup": "Andhra Pradesh",
         "marker": {
          "color": "#636efa",
          "pattern": {
           "shape": ""
          }
         },
         "name": "Andhra Pradesh",
         "offsetgroup": "Andhra Pradesh",
         "orientation": "v",
         "showlegend": true,
         "textposition": "auto",
         "type": "bar",
         "x": [
          "Andhra Pradesh",
          "Andhra Pradesh",
          "Andhra Pradesh",
          "Andhra Pradesh",
          "Andhra Pradesh",
          "Andhra Pradesh",
          "Andhra Pradesh",
          "Andhra Pradesh",
          "Andhra Pradesh",
          "Andhra Pradesh"
         ],
         "xaxis": "x",
         "y": [
          5.48,
          5.83,
          5.79,
          20.51,
          17.43,
          3.31,
          8.34,
          6.96,
          6.4,
          6.59
         ],
         "yaxis": "y"
        },
        {
         "alignmentgroup": "True",
         "hovertemplate": "Region=%{x}<br> Estimated Unemployment Rate (%)=%{y}<extra></extra>",
         "legendgroup": "Assam",
         "marker": {
          "color": "#EF553B",
          "pattern": {
           "shape": ""
          }
         },
         "name": "Assam",
         "offsetgroup": "Assam",
         "orientation": "v",
         "showlegend": true,
         "textposition": "auto",
         "type": "bar",
         "x": [
          "Assam",
          "Assam",
          "Assam",
          "Assam",
          "Assam",
          "Assam",
          "Assam",
          "Assam",
          "Assam",
          "Assam"
         ],
         "xaxis": "x",
         "y": [
          4.66,
          4.41,
          4.77,
          11.06,
          9.55,
          0.6,
          3.77,
          5.53,
          1.19,
          3.02
         ],
         "yaxis": "y"
        },
        {
         "alignmentgroup": "True",
         "hovertemplate": "Region=%{x}<br> Estimated Unemployment Rate (%)=%{y}<extra></extra>",
         "legendgroup": "Bihar",
         "marker": {
          "color": "#00cc96",
          "pattern": {
           "shape": ""
          }
         },
         "name": "Bihar",
         "offsetgroup": "Bihar",
         "orientation": "v",
         "showlegend": true,
         "textposition": "auto",
         "type": "bar",
         "x": [
          "Bihar",
          "Bihar",
          "Bihar",
          "Bihar",
          "Bihar",
          "Bihar",
          "Bihar",
          "Bihar",
          "Bihar",
          "Bihar"
         ],
         "xaxis": "x",
         "y": [
          10.61,
          10.29,
          15.43,
          46.64,
          45.96,
          17.82,
          12.79,
          13.44,
          11.91,
          9.82
         ],
         "yaxis": "y"
        },
        {
         "alignmentgroup": "True",
         "hovertemplate": "Region=%{x}<br> Estimated Unemployment Rate (%)=%{y}<extra></extra>",
         "legendgroup": "Chhattisgarh",
         "marker": {
          "color": "#ab63fa",
          "pattern": {
           "shape": ""
          }
         },
         "name": "Chhattisgarh",
         "offsetgroup": "Chhattisgarh",
         "orientation": "v",
         "showlegend": true,
         "textposition": "auto",
         "type": "bar",
         "x": [
          "Chhattisgarh",
          "Chhattisgarh",
          "Chhattisgarh",
          "Chhattisgarh",
          "Chhattisgarh",
          "Chhattisgarh",
          "Chhattisgarh",
          "Chhattisgarh",
          "Chhattisgarh",
          "Chhattisgarh"
         ],
         "xaxis": "x",
         "y": [
          9.65,
          8.38,
          7.54,
          3.41,
          10.5,
          14.23,
          10.27,
          5.63,
          1.96,
          6.62
         ],
         "yaxis": "y"
        },
        {
         "alignmentgroup": "True",
         "hovertemplate": "Region=%{x}<br> Estimated Unemployment Rate (%)=%{y}<extra></extra>",
         "legendgroup": "Delhi",
         "marker": {
          "color": "#FFA15A",
          "pattern": {
           "shape": ""
          }
         },
         "name": "Delhi",
         "offsetgroup": "Delhi",
         "orientation": "v",
         "showlegend": true,
         "textposition": "auto",
         "type": "bar",
         "x": [
          "Delhi",
          "Delhi",
          "Delhi",
          "Delhi",
          "Delhi",
          "Delhi",
          "Delhi",
          "Delhi",
          "Delhi",
          "Delhi"
         ],
         "xaxis": "x",
         "y": [
          22.23,
          14.84,
          17.04,
          16.68,
          42.27,
          18.19,
          20.3,
          13.79,
          12.53,
          6.27
         ],
         "yaxis": "y"
        },
        {
         "alignmentgroup": "True",
         "hovertemplate": "Region=%{x}<br> Estimated Unemployment Rate (%)=%{y}<extra></extra>",
         "legendgroup": "Goa",
         "marker": {
          "color": "#19d3f3",
          "pattern": {
           "shape": ""
          }
         },
         "name": "Goa",
         "offsetgroup": "Goa",
         "orientation": "v",
         "showlegend": true,
         "textposition": "auto",
         "type": "bar",
         "x": [
          "Goa",
          "Goa",
          "Goa",
          "Goa",
          "Goa",
          "Goa",
          "Goa",
          "Goa",
          "Goa",
          "Goa"
         ],
         "xaxis": "x",
         "y": [
          8.89,
          2.81,
          5.25,
          13.31,
          21.25,
          9.96,
          17.07,
          16.21,
          15.38,
          11.54
         ],
         "yaxis": "y"
        },
        {
         "alignmentgroup": "True",
         "hovertemplate": "Region=%{x}<br> Estimated Unemployment Rate (%)=%{y}<extra></extra>",
         "legendgroup": "Gujarat",
         "marker": {
          "color": "#FF6692",
          "pattern": {
           "shape": ""
          }
         },
         "name": "Gujarat",
         "offsetgroup": "Gujarat",
         "orientation": "v",
         "showlegend": true,
         "textposition": "auto",
         "type": "bar",
         "x": [
          "Gujarat",
          "Gujarat",
          "Gujarat",
          "Gujarat",
          "Gujarat",
          "Gujarat",
          "Gujarat",
          "Gujarat",
          "Gujarat",
          "Gujarat"
         ],
         "xaxis": "x",
         "y": [
          5.54,
          6.38,
          6.66,
          18.71,
          12.11,
          3.2,
          1.84,
          1.87,
          3.42,
          4.03
         ],
         "yaxis": "y"
        },
        {
         "alignmentgroup": "True",
         "hovertemplate": "Region=%{x}<br> Estimated Unemployment Rate (%)=%{y}<extra></extra>",
         "legendgroup": "Haryana",
         "marker": {
          "color": "#B6E880",
          "pattern": {
           "shape": ""
          }
         },
         "name": "Haryana",
         "offsetgroup": "Haryana",
         "orientation": "v",
         "showlegend": true,
         "textposition": "auto",
         "type": "bar",
         "x": [
          "Haryana",
          "Haryana",
          "Haryana",
          "Haryana",
          "Haryana",
          "Haryana",
          "Haryana",
          "Haryana",
          "Haryana",
          "Haryana"
         ],
         "xaxis": "x",
         "y": [
          20.34,
          25.77,
          25.05,
          43.22,
          29.02,
          26.7,
          24.18,
          33.5,
          19.68,
          27.31
         ],
         "yaxis": "y"
        },
        {
         "alignmentgroup": "True",
         "hovertemplate": "Region=%{x}<br> Estimated Unemployment Rate (%)=%{y}<extra></extra>",
         "legendgroup": "Himachal Pradesh",
         "marker": {
          "color": "#FF97FF",
          "pattern": {
           "shape": ""
          }
         },
         "name": "Himachal Pradesh",
         "offsetgroup": "Himachal Pradesh",
         "orientation": "v",
         "showlegend": true,
         "textposition": "auto",
         "type": "bar",
         "x": [
          "Himachal Pradesh",
          "Himachal Pradesh",
          "Himachal Pradesh",
          "Himachal Pradesh",
          "Himachal Pradesh",
          "Himachal Pradesh",
          "Himachal Pradesh",
          "Himachal Pradesh",
          "Himachal Pradesh",
          "Himachal Pradesh"
         ],
         "xaxis": "x",
         "y": [
          16.83,
          16.84,
          18.76,
          2.2,
          26.95,
          13.47,
          24.31,
          15.79,
          12.04,
          13.46
         ],
         "yaxis": "y"
        },
        {
         "alignmentgroup": "True",
         "hovertemplate": "Region=%{x}<br> Estimated Unemployment Rate (%)=%{y}<extra></extra>",
         "legendgroup": "Jammu & Kashmir",
         "marker": {
          "color": "#FECB52",
          "pattern": {
           "shape": ""
          }
         },
         "name": "Jammu & Kashmir",
         "offsetgroup": "Jammu & Kashmir",
         "orientation": "v",
         "showlegend": true,
         "textposition": "auto",
         "type": "bar",
         "x": [
          "Jammu & Kashmir",
          "Jammu & Kashmir",
          "Jammu & Kashmir",
          "Jammu & Kashmir",
          "Jammu & Kashmir",
          "Jammu & Kashmir",
          "Jammu & Kashmir",
          "Jammu & Kashmir",
          "Jammu & Kashmir"
         ],
         "xaxis": "x",
         "y": [
          21.08,
          20.78,
          15.5,
          18.74,
          17.92,
          10.88,
          11.09,
          16.17,
          16.14
         ],
         "yaxis": "y"
        },
        {
         "alignmentgroup": "True",
         "hovertemplate": "Region=%{x}<br> Estimated Unemployment Rate (%)=%{y}<extra></extra>",
         "legendgroup": "Jharkhand",
         "marker": {
          "color": "#636efa",
          "pattern": {
           "shape": ""
          }
         },
         "name": "Jharkhand",
         "offsetgroup": "Jharkhand",
         "orientation": "v",
         "showlegend": true,
         "textposition": "auto",
         "type": "bar",
         "x": [
          "Jharkhand",
          "Jharkhand",
          "Jharkhand",
          "Jharkhand",
          "Jharkhand",
          "Jharkhand",
          "Jharkhand",
          "Jharkhand",
          "Jharkhand",
          "Jharkhand"
         ],
         "xaxis": "x",
         "y": [
          10.61,
          11.85,
          8.23,
          47.09,
          59.23,
          20.95,
          7.63,
          9.76,
          8.24,
          11.8
         ],
         "yaxis": "y"
        },
        {
         "alignmentgroup": "True",
         "hovertemplate": "Region=%{x}<br> Estimated Unemployment Rate (%)=%{y}<extra></extra>",
         "legendgroup": "Karnataka",
         "marker": {
          "color": "#EF553B",
          "pattern": {
           "shape": ""
          }
         },
         "name": "Karnataka",
         "offsetgroup": "Karnataka",
         "orientation": "v",
         "showlegend": true,
         "textposition": "auto",
         "type": "bar",
         "x": [
          "Karnataka",
          "Karnataka",
          "Karnataka",
          "Karnataka",
          "Karnataka",
          "Karnataka",
          "Karnataka",
          "Karnataka",
          "Karnataka",
          "Karnataka"
         ],
         "xaxis": "x",
         "y": [
          2.86,
          3.61,
          3.46,
          29.84,
          19.97,
          8.44,
          4.01,
          0.5,
          2.41,
          1.58
         ],
         "yaxis": "y"
        },
        {
         "alignmentgroup": "True",
         "hovertemplate": "Region=%{x}<br> Estimated Unemployment Rate (%)=%{y}<extra></extra>",
         "legendgroup": "Kerala",
         "marker": {
          "color": "#00cc96",
          "pattern": {
           "shape": ""
          }
         },
         "name": "Kerala",
         "offsetgroup": "Kerala",
         "orientation": "v",
         "showlegend": true,
         "textposition": "auto",
         "type": "bar",
         "x": [
          "Kerala",
          "Kerala",
          "Kerala",
          "Kerala",
          "Kerala",
          "Kerala",
          "Kerala",
          "Kerala",
          "Kerala",
          "Kerala"
         ],
         "xaxis": "x",
         "y": [
          5.31,
          7.6,
          8.99,
          16.99,
          17.88,
          9.71,
          7.09,
          10.98,
          5.91,
          3.88
         ],
         "yaxis": "y"
        },
        {
         "alignmentgroup": "True",
         "hovertemplate": "Region=%{x}<br> Estimated Unemployment Rate (%)=%{y}<extra></extra>",
         "legendgroup": "Madhya Pradesh",
         "marker": {
          "color": "#ab63fa",
          "pattern": {
           "shape": ""
          }
         },
         "name": "Madhya Pradesh",
         "offsetgroup": "Madhya Pradesh",
         "orientation": "v",
         "showlegend": true,
         "textposition": "auto",
         "type": "bar",
         "x": [
          "Madhya Pradesh",
          "Madhya Pradesh",
          "Madhya Pradesh",
          "Madhya Pradesh",
          "Madhya Pradesh",
          "Madhya Pradesh",
          "Madhya Pradesh",
          "Madhya Pradesh",
          "Madhya Pradesh",
          "Madhya Pradesh"
         ],
         "xaxis": "x",
         "y": [
          4.11,
          4.57,
          2.22,
          12.36,
          21.98,
          6.48,
          5.08,
          4.7,
          3.91,
          3.13
         ],
         "yaxis": "y"
        },
        {
         "alignmentgroup": "True",
         "hovertemplate": "Region=%{x}<br> Estimated Unemployment Rate (%)=%{y}<extra></extra>",
         "legendgroup": "Maharashtra",
         "marker": {
          "color": "#FFA15A",
          "pattern": {
           "shape": ""
          }
         },
         "name": "Maharashtra",
         "offsetgroup": "Maharashtra",
         "orientation": "v",
         "showlegend": true,
         "textposition": "auto",
         "type": "bar",
         "x": [
          "Maharashtra",
          "Maharashtra",
          "Maharashtra",
          "Maharashtra",
          "Maharashtra",
          "Maharashtra",
          "Maharashtra",
          "Maharashtra",
          "Maharashtra",
          "Maharashtra"
         ],
         "xaxis": "x",
         "y": [
          4.95,
          4.69,
          5.79,
          20.9,
          15.46,
          9.23,
          3.89,
          6.23,
          4.55,
          4.1
         ],
         "yaxis": "y"
        },
        {
         "alignmentgroup": "True",
         "hovertemplate": "Region=%{x}<br> Estimated Unemployment Rate (%)=%{y}<extra></extra>",
         "legendgroup": "Meghalaya",
         "marker": {
          "color": "#19d3f3",
          "pattern": {
           "shape": ""
          }
         },
         "name": "Meghalaya",
         "offsetgroup": "Meghalaya",
         "orientation": "v",
         "showlegend": true,
         "textposition": "auto",
         "type": "bar",
         "x": [
          "Meghalaya",
          "Meghalaya",
          "Meghalaya",
          "Meghalaya",
          "Meghalaya",
          "Meghalaya",
          "Meghalaya",
          "Meghalaya",
          "Meghalaya",
          "Meghalaya"
         ],
         "xaxis": "x",
         "y": [
          1.66,
          3.59,
          1.58,
          10.03,
          5.92,
          1.15,
          2.1,
          3.74,
          4.29,
          4.6
         ],
         "yaxis": "y"
        },
        {
         "alignmentgroup": "True",
         "hovertemplate": "Region=%{x}<br> Estimated Unemployment Rate (%)=%{y}<extra></extra>",
         "legendgroup": "Odisha",
         "marker": {
          "color": "#FF6692",
          "pattern": {
           "shape": ""
          }
         },
         "name": "Odisha",
         "offsetgroup": "Odisha",
         "orientation": "v",
         "showlegend": true,
         "textposition": "auto",
         "type": "bar",
         "x": [
          "Odisha",
          "Odisha",
          "Odisha",
          "Odisha",
          "Odisha",
          "Odisha",
          "Odisha",
          "Odisha",
          "Odisha",
          "Odisha"
         ],
         "xaxis": "x",
         "y": [
          1.9,
          3.12,
          13.08,
          23.76,
          11.41,
          3.77,
          1.88,
          1.42,
          2.1,
          2.18
         ],
         "yaxis": "y"
        },
        {
         "alignmentgroup": "True",
         "hovertemplate": "Region=%{x}<br> Estimated Unemployment Rate (%)=%{y}<extra></extra>",
         "legendgroup": "Puducherry",
         "marker": {
          "color": "#B6E880",
          "pattern": {
           "shape": ""
          }
         },
         "name": "Puducherry",
         "offsetgroup": "Puducherry",
         "orientation": "v",
         "showlegend": true,
         "textposition": "auto",
         "type": "bar",
         "x": [
          "Puducherry",
          "Puducherry",
          "Puducherry",
          "Puducherry",
          "Puducherry",
          "Puducherry",
          "Puducherry",
          "Puducherry",
          "Puducherry",
          "Puducherry"
         ],
         "xaxis": "x",
         "y": [
          0.58,
          1.76,
          1.2,
          75.85,
          58.19,
          4.24,
          15.47,
          5.05,
          10.9,
          6.18
         ],
         "yaxis": "y"
        },
        {
         "alignmentgroup": "True",
         "hovertemplate": "Region=%{x}<br> Estimated Unemployment Rate (%)=%{y}<extra></extra>",
         "legendgroup": "Punjab",
         "marker": {
          "color": "#FF97FF",
          "pattern": {
           "shape": ""
          }
         },
         "name": "Punjab",
         "offsetgroup": "Punjab",
         "orientation": "v",
         "showlegend": true,
         "textposition": "auto",
         "type": "bar",
         "x": [
          "Punjab",
          "Punjab",
          "Punjab",
          "Punjab",
          "Punjab",
          "Punjab",
          "Punjab",
          "Punjab",
          "Punjab",
          "Punjab"
         ],
         "xaxis": "x",
         "y": [
          11.11,
          10.97,
          10.32,
          2.86,
          28.33,
          16.55,
          9.19,
          10.99,
          9.61,
          9.88
         ],
         "yaxis": "y"
        },
        {
         "alignmentgroup": "True",
         "hovertemplate": "Region=%{x}<br> Estimated Unemployment Rate (%)=%{y}<extra></extra>",
         "legendgroup": "Rajasthan",
         "marker": {
          "color": "#FECB52",
          "pattern": {
           "shape": ""
          }
         },
         "name": "Rajasthan",
         "offsetgroup": "Rajasthan",
         "orientation": "v",
         "showlegend": true,
         "textposition": "auto",
         "type": "bar",
         "x": [
          "Rajasthan",
          "Rajasthan",
          "Rajasthan",
          "Rajasthan",
          "Rajasthan",
          "Rajasthan",
          "Rajasthan",
          "Rajasthan",
          "Rajasthan",
          "Rajasthan"
         ],
         "xaxis": "x",
         "y": [
          10.97,
          15.16,
          11.9,
          17.7,
          15.74,
          14.39,
          15.81,
          17.51,
          15.35,
          24.15
         ],
         "yaxis": "y"
        },
        {
         "alignmentgroup": "True",
         "hovertemplate": "Region=%{x}<br> Estimated Unemployment Rate (%)=%{y}<extra></extra>",
         "legendgroup": "Sikkim",
         "marker": {
          "color": "#636efa",
          "pattern": {
           "shape": ""
          }
         },
         "name": "Sikkim",
         "offsetgroup": "Sikkim",
         "orientation": "v",
         "showlegend": true,
         "textposition": "auto",
         "type": "bar",
         "x": [
          "Sikkim",
          "Sikkim",
          "Sikkim",
          "Sikkim",
          "Sikkim",
          "Sikkim",
          "Sikkim",
          "Sikkim"
         ],
         "xaxis": "x",
         "y": [
          23.57,
          2.28,
          24.51,
          4.46,
          4.45,
          12.49,
          5.7,
          0.88
         ],
         "yaxis": "y"
        },
        {
         "alignmentgroup": "True",
         "hovertemplate": "Region=%{x}<br> Estimated Unemployment Rate (%)=%{y}<extra></extra>",
         "legendgroup": "Tamil Nadu",
         "marker": {
          "color": "#EF553B",
          "pattern": {
           "shape": ""
          }
         },
         "name": "Tamil Nadu",
         "offsetgroup": "Tamil Nadu",
         "orientation": "v",
         "showlegend": true,
         "textposition": "auto",
         "type": "bar",
         "x": [
          "Tamil Nadu",
          "Tamil Nadu",
          "Tamil Nadu",
          "Tamil Nadu",
          "Tamil Nadu",
          "Tamil Nadu",
          "Tamil Nadu",
          "Tamil Nadu",
          "Tamil Nadu",
          "Tamil Nadu"
         ],
         "xaxis": "x",
         "y": [
          1.57,
          2.09,
          6.4,
          49.83,
          33.16,
          12.2,
          6.81,
          2.65,
          5,
          2.16
         ],
         "yaxis": "y"
        },
        {
         "alignmentgroup": "True",
         "hovertemplate": "Region=%{x}<br> Estimated Unemployment Rate (%)=%{y}<extra></extra>",
         "legendgroup": "Telangana",
         "marker": {
          "color": "#00cc96",
          "pattern": {
           "shape": ""
          }
         },
         "name": "Telangana",
         "offsetgroup": "Telangana",
         "orientation": "v",
         "showlegend": true,
         "textposition": "auto",
         "type": "bar",
         "x": [
          "Telangana",
          "Telangana",
          "Telangana",
          "Telangana",
          "Telangana",
          "Telangana",
          "Telangana",
          "Telangana",
          "Telangana",
          "Telangana"
         ],
         "xaxis": "x",
         "y": [
          5.49,
          8.29,
          5.77,
          6.25,
          14.7,
          10.55,
          5.36,
          5.79,
          3.27,
          2.86
         ],
         "yaxis": "y"
        },
        {
         "alignmentgroup": "True",
         "hovertemplate": "Region=%{x}<br> Estimated Unemployment Rate (%)=%{y}<extra></extra>",
         "legendgroup": "Tripura",
         "marker": {
          "color": "#ab63fa",
          "pattern": {
           "shape": ""
          }
         },
         "name": "Tripura",
         "offsetgroup": "Tripura",
         "orientation": "v",
         "showlegend": true,
         "textposition": "auto",
         "type": "bar",
         "x": [
          "Tripura",
          "Tripura",
          "Tripura",
          "Tripura",
          "Tripura",
          "Tripura",
          "Tripura",
          "Tripura",
          "Tripura",
          "Tripura"
         ],
         "xaxis": "x",
         "y": [
          32.67,
          28.4,
          29.95,
          41.23,
          21.51,
          21.71,
          18.24,
          27.92,
          17.35,
          11.57
         ],
         "yaxis": "y"
        },
        {
         "alignmentgroup": "True",
         "hovertemplate": "Region=%{x}<br> Estimated Unemployment Rate (%)=%{y}<extra></extra>",
         "legendgroup": "Uttar Pradesh",
         "marker": {
          "color": "#FFA15A",
          "pattern": {
           "shape": ""
          }
         },
         "name": "Uttar Pradesh",
         "offsetgroup": "Uttar Pradesh",
         "orientation": "v",
         "showlegend": true,
         "textposition": "auto",
         "type": "bar",
         "x": [
          "Uttar Pradesh",
          "Uttar Pradesh",
          "Uttar Pradesh",
          "Uttar Pradesh",
          "Uttar Pradesh",
          "Uttar Pradesh",
          "Uttar Pradesh",
          "Uttar Pradesh",
          "Uttar Pradesh",
          "Uttar Pradesh"
         ],
         "xaxis": "x",
         "y": [
          7.58,
          8.98,
          10.11,
          21.54,
          20.41,
          9.47,
          5.56,
          5.79,
          4.18,
          3.75
         ],
         "yaxis": "y"
        },
        {
         "alignmentgroup": "True",
         "hovertemplate": "Region=%{x}<br> Estimated Unemployment Rate (%)=%{y}<extra></extra>",
         "legendgroup": "Uttarakhand",
         "marker": {
          "color": "#19d3f3",
          "pattern": {
           "shape": ""
          }
         },
         "name": "Uttarakhand",
         "offsetgroup": "Uttarakhand",
         "orientation": "v",
         "showlegend": true,
         "textposition": "auto",
         "type": "bar",
         "x": [
          "Uttarakhand",
          "Uttarakhand",
          "Uttarakhand",
          "Uttarakhand",
          "Uttarakhand",
          "Uttarakhand",
          "Uttarakhand",
          "Uttarakhand",
          "Uttarakhand",
          "Uttarakhand"
         ],
         "xaxis": "x",
         "y": [
          5.49,
          4.99,
          19.85,
          6.48,
          8.01,
          8.61,
          12.38,
          14.26,
          22.26,
          9.23
         ],
         "yaxis": "y"
        },
        {
         "alignmentgroup": "True",
         "hovertemplate": "Region=%{x}<br> Estimated Unemployment Rate (%)=%{y}<extra></extra>",
         "legendgroup": "West Bengal",
         "marker": {
          "color": "#FF6692",
          "pattern": {
           "shape": ""
          }
         },
         "name": "West Bengal",
         "offsetgroup": "West Bengal",
         "orientation": "v",
         "showlegend": true,
         "textposition": "auto",
         "type": "bar",
         "x": [
          "West Bengal",
          "West Bengal",
          "West Bengal",
          "West Bengal",
          "West Bengal",
          "West Bengal",
          "West Bengal",
          "West Bengal",
          "West Bengal",
          "West Bengal"
         ],
         "xaxis": "x",
         "y": [
          6.94,
          4.92,
          6.92,
          17.41,
          17.41,
          7.29,
          6.83,
          14.87,
          9.35,
          9.98
         ],
         "yaxis": "y"
        }
       ],
       "layout": {
        "barmode": "relative",
        "legend": {
         "title": {
          "text": "Region"
         },
         "tracegroupgap": 0
        },
        "template": {
         "data": {
          "bar": [
           {
            "error_x": {
             "color": "#2a3f5f"
            },
            "error_y": {
             "color": "#2a3f5f"
            },
            "marker": {
             "line": {
              "color": "#E5ECF6",
              "width": 0.5
             },
             "pattern": {
              "fillmode": "overlay",
              "size": 10,
              "solidity": 0.2
             }
            },
            "type": "bar"
           }
          ],
          "barpolar": [
           {
            "marker": {
             "line": {
              "color": "#E5ECF6",
              "width": 0.5
             },
             "pattern": {
              "fillmode": "overlay",
              "size": 10,
              "solidity": 0.2
             }
            },
            "type": "barpolar"
           }
          ],
          "carpet": [
           {
            "aaxis": {
             "endlinecolor": "#2a3f5f",
             "gridcolor": "white",
             "linecolor": "white",
             "minorgridcolor": "white",
             "startlinecolor": "#2a3f5f"
            },
            "baxis": {
             "endlinecolor": "#2a3f5f",
             "gridcolor": "white",
             "linecolor": "white",
             "minorgridcolor": "white",
             "startlinecolor": "#2a3f5f"
            },
            "type": "carpet"
           }
          ],
          "choropleth": [
           {
            "colorbar": {
             "outlinewidth": 0,
             "ticks": ""
            },
            "type": "choropleth"
           }
          ],
          "contour": [
           {
            "colorbar": {
             "outlinewidth": 0,
             "ticks": ""
            },
            "colorscale": [
             [
              0,
              "#0d0887"
             ],
             [
              0.1111111111111111,
              "#46039f"
             ],
             [
              0.2222222222222222,
              "#7201a8"
             ],
             [
              0.3333333333333333,
              "#9c179e"
             ],
             [
              0.4444444444444444,
              "#bd3786"
             ],
             [
              0.5555555555555556,
              "#d8576b"
             ],
             [
              0.6666666666666666,
              "#ed7953"
             ],
             [
              0.7777777777777778,
              "#fb9f3a"
             ],
             [
              0.8888888888888888,
              "#fdca26"
             ],
             [
              1,
              "#f0f921"
             ]
            ],
            "type": "contour"
           }
          ],
          "contourcarpet": [
           {
            "colorbar": {
             "outlinewidth": 0,
             "ticks": ""
            },
            "type": "contourcarpet"
           }
          ],
          "heatmap": [
           {
            "colorbar": {
             "outlinewidth": 0,
             "ticks": ""
            },
            "colorscale": [
             [
              0,
              "#0d0887"
             ],
             [
              0.1111111111111111,
              "#46039f"
             ],
             [
              0.2222222222222222,
              "#7201a8"
             ],
             [
              0.3333333333333333,
              "#9c179e"
             ],
             [
              0.4444444444444444,
              "#bd3786"
             ],
             [
              0.5555555555555556,
              "#d8576b"
             ],
             [
              0.6666666666666666,
              "#ed7953"
             ],
             [
              0.7777777777777778,
              "#fb9f3a"
             ],
             [
              0.8888888888888888,
              "#fdca26"
             ],
             [
              1,
              "#f0f921"
             ]
            ],
            "type": "heatmap"
           }
          ],
          "heatmapgl": [
           {
            "colorbar": {
             "outlinewidth": 0,
             "ticks": ""
            },
            "colorscale": [
             [
              0,
              "#0d0887"
             ],
             [
              0.1111111111111111,
              "#46039f"
             ],
             [
              0.2222222222222222,
              "#7201a8"
             ],
             [
              0.3333333333333333,
              "#9c179e"
             ],
             [
              0.4444444444444444,
              "#bd3786"
             ],
             [
              0.5555555555555556,
              "#d8576b"
             ],
             [
              0.6666666666666666,
              "#ed7953"
             ],
             [
              0.7777777777777778,
              "#fb9f3a"
             ],
             [
              0.8888888888888888,
              "#fdca26"
             ],
             [
              1,
              "#f0f921"
             ]
            ],
            "type": "heatmapgl"
           }
          ],
          "histogram": [
           {
            "marker": {
             "pattern": {
              "fillmode": "overlay",
              "size": 10,
              "solidity": 0.2
             }
            },
            "type": "histogram"
           }
          ],
          "histogram2d": [
           {
            "colorbar": {
             "outlinewidth": 0,
             "ticks": ""
            },
            "colorscale": [
             [
              0,
              "#0d0887"
             ],
             [
              0.1111111111111111,
              "#46039f"
             ],
             [
              0.2222222222222222,
              "#7201a8"
             ],
             [
              0.3333333333333333,
              "#9c179e"
             ],
             [
              0.4444444444444444,
              "#bd3786"
             ],
             [
              0.5555555555555556,
              "#d8576b"
             ],
             [
              0.6666666666666666,
              "#ed7953"
             ],
             [
              0.7777777777777778,
              "#fb9f3a"
             ],
             [
              0.8888888888888888,
              "#fdca26"
             ],
             [
              1,
              "#f0f921"
             ]
            ],
            "type": "histogram2d"
           }
          ],
          "histogram2dcontour": [
           {
            "colorbar": {
             "outlinewidth": 0,
             "ticks": ""
            },
            "colorscale": [
             [
              0,
              "#0d0887"
             ],
             [
              0.1111111111111111,
              "#46039f"
             ],
             [
              0.2222222222222222,
              "#7201a8"
             ],
             [
              0.3333333333333333,
              "#9c179e"
             ],
             [
              0.4444444444444444,
              "#bd3786"
             ],
             [
              0.5555555555555556,
              "#d8576b"
             ],
             [
              0.6666666666666666,
              "#ed7953"
             ],
             [
              0.7777777777777778,
              "#fb9f3a"
             ],
             [
              0.8888888888888888,
              "#fdca26"
             ],
             [
              1,
              "#f0f921"
             ]
            ],
            "type": "histogram2dcontour"
           }
          ],
          "mesh3d": [
           {
            "colorbar": {
             "outlinewidth": 0,
             "ticks": ""
            },
            "type": "mesh3d"
           }
          ],
          "parcoords": [
           {
            "line": {
             "colorbar": {
              "outlinewidth": 0,
              "ticks": ""
             }
            },
            "type": "parcoords"
           }
          ],
          "pie": [
           {
            "automargin": true,
            "type": "pie"
           }
          ],
          "scatter": [
           {
            "fillpattern": {
             "fillmode": "overlay",
             "size": 10,
             "solidity": 0.2
            },
            "type": "scatter"
           }
          ],
          "scatter3d": [
           {
            "line": {
             "colorbar": {
              "outlinewidth": 0,
              "ticks": ""
             }
            },
            "marker": {
             "colorbar": {
              "outlinewidth": 0,
              "ticks": ""
             }
            },
            "type": "scatter3d"
           }
          ],
          "scattercarpet": [
           {
            "marker": {
             "colorbar": {
              "outlinewidth": 0,
              "ticks": ""
             }
            },
            "type": "scattercarpet"
           }
          ],
          "scattergeo": [
           {
            "marker": {
             "colorbar": {
              "outlinewidth": 0,
              "ticks": ""
             }
            },
            "type": "scattergeo"
           }
          ],
          "scattergl": [
           {
            "marker": {
             "colorbar": {
              "outlinewidth": 0,
              "ticks": ""
             }
            },
            "type": "scattergl"
           }
          ],
          "scattermapbox": [
           {
            "marker": {
             "colorbar": {
              "outlinewidth": 0,
              "ticks": ""
             }
            },
            "type": "scattermapbox"
           }
          ],
          "scatterpolar": [
           {
            "marker": {
             "colorbar": {
              "outlinewidth": 0,
              "ticks": ""
             }
            },
            "type": "scatterpolar"
           }
          ],
          "scatterpolargl": [
           {
            "marker": {
             "colorbar": {
              "outlinewidth": 0,
              "ticks": ""
             }
            },
            "type": "scatterpolargl"
           }
          ],
          "scatterternary": [
           {
            "marker": {
             "colorbar": {
              "outlinewidth": 0,
              "ticks": ""
             }
            },
            "type": "scatterternary"
           }
          ],
          "surface": [
           {
            "colorbar": {
             "outlinewidth": 0,
             "ticks": ""
            },
            "colorscale": [
             [
              0,
              "#0d0887"
             ],
             [
              0.1111111111111111,
              "#46039f"
             ],
             [
              0.2222222222222222,
              "#7201a8"
             ],
             [
              0.3333333333333333,
              "#9c179e"
             ],
             [
              0.4444444444444444,
              "#bd3786"
             ],
             [
              0.5555555555555556,
              "#d8576b"
             ],
             [
              0.6666666666666666,
              "#ed7953"
             ],
             [
              0.7777777777777778,
              "#fb9f3a"
             ],
             [
              0.8888888888888888,
              "#fdca26"
             ],
             [
              1,
              "#f0f921"
             ]
            ],
            "type": "surface"
           }
          ],
          "table": [
           {
            "cells": {
             "fill": {
              "color": "#EBF0F8"
             },
             "line": {
              "color": "white"
             }
            },
            "header": {
             "fill": {
              "color": "#C8D4E3"
             },
             "line": {
              "color": "white"
             }
            },
            "type": "table"
           }
          ]
         },
         "layout": {
          "annotationdefaults": {
           "arrowcolor": "#2a3f5f",
           "arrowhead": 0,
           "arrowwidth": 1
          },
          "autotypenumbers": "strict",
          "coloraxis": {
           "colorbar": {
            "outlinewidth": 0,
            "ticks": ""
           }
          },
          "colorscale": {
           "diverging": [
            [
             0,
             "#8e0152"
            ],
            [
             0.1,
             "#c51b7d"
            ],
            [
             0.2,
             "#de77ae"
            ],
            [
             0.3,
             "#f1b6da"
            ],
            [
             0.4,
             "#fde0ef"
            ],
            [
             0.5,
             "#f7f7f7"
            ],
            [
             0.6,
             "#e6f5d0"
            ],
            [
             0.7,
             "#b8e186"
            ],
            [
             0.8,
             "#7fbc41"
            ],
            [
             0.9,
             "#4d9221"
            ],
            [
             1,
             "#276419"
            ]
           ],
           "sequential": [
            [
             0,
             "#0d0887"
            ],
            [
             0.1111111111111111,
             "#46039f"
            ],
            [
             0.2222222222222222,
             "#7201a8"
            ],
            [
             0.3333333333333333,
             "#9c179e"
            ],
            [
             0.4444444444444444,
             "#bd3786"
            ],
            [
             0.5555555555555556,
             "#d8576b"
            ],
            [
             0.6666666666666666,
             "#ed7953"
            ],
            [
             0.7777777777777778,
             "#fb9f3a"
            ],
            [
             0.8888888888888888,
             "#fdca26"
            ],
            [
             1,
             "#f0f921"
            ]
           ],
           "sequentialminus": [
            [
             0,
             "#0d0887"
            ],
            [
             0.1111111111111111,
             "#46039f"
            ],
            [
             0.2222222222222222,
             "#7201a8"
            ],
            [
             0.3333333333333333,
             "#9c179e"
            ],
            [
             0.4444444444444444,
             "#bd3786"
            ],
            [
             0.5555555555555556,
             "#d8576b"
            ],
            [
             0.6666666666666666,
             "#ed7953"
            ],
            [
             0.7777777777777778,
             "#fb9f3a"
            ],
            [
             0.8888888888888888,
             "#fdca26"
            ],
            [
             1,
             "#f0f921"
            ]
           ]
          },
          "colorway": [
           "#636efa",
           "#EF553B",
           "#00cc96",
           "#ab63fa",
           "#FFA15A",
           "#19d3f3",
           "#FF6692",
           "#B6E880",
           "#FF97FF",
           "#FECB52"
          ],
          "font": {
           "color": "#2a3f5f"
          },
          "geo": {
           "bgcolor": "white",
           "lakecolor": "white",
           "landcolor": "#E5ECF6",
           "showlakes": true,
           "showland": true,
           "subunitcolor": "white"
          },
          "hoverlabel": {
           "align": "left"
          },
          "hovermode": "closest",
          "mapbox": {
           "style": "light"
          },
          "paper_bgcolor": "white",
          "plot_bgcolor": "#E5ECF6",
          "polar": {
           "angularaxis": {
            "gridcolor": "white",
            "linecolor": "white",
            "ticks": ""
           },
           "bgcolor": "#E5ECF6",
           "radialaxis": {
            "gridcolor": "white",
            "linecolor": "white",
            "ticks": ""
           }
          },
          "scene": {
           "xaxis": {
            "backgroundcolor": "#E5ECF6",
            "gridcolor": "white",
            "gridwidth": 2,
            "linecolor": "white",
            "showbackground": true,
            "ticks": "",
            "zerolinecolor": "white"
           },
           "yaxis": {
            "backgroundcolor": "#E5ECF6",
            "gridcolor": "white",
            "gridwidth": 2,
            "linecolor": "white",
            "showbackground": true,
            "ticks": "",
            "zerolinecolor": "white"
           },
           "zaxis": {
            "backgroundcolor": "#E5ECF6",
            "gridcolor": "white",
            "gridwidth": 2,
            "linecolor": "white",
            "showbackground": true,
            "ticks": "",
            "zerolinecolor": "white"
           }
          },
          "shapedefaults": {
           "line": {
            "color": "#2a3f5f"
           }
          },
          "ternary": {
           "aaxis": {
            "gridcolor": "white",
            "linecolor": "white",
            "ticks": ""
           },
           "baxis": {
            "gridcolor": "white",
            "linecolor": "white",
            "ticks": ""
           },
           "bgcolor": "#E5ECF6",
           "caxis": {
            "gridcolor": "white",
            "linecolor": "white",
            "ticks": ""
           }
          },
          "title": {
           "x": 0.05
          },
          "xaxis": {
           "automargin": true,
           "gridcolor": "white",
           "linecolor": "white",
           "ticks": "",
           "title": {
            "standoff": 15
           },
           "zerolinecolor": "white",
           "zerolinewidth": 2
          },
          "yaxis": {
           "automargin": true,
           "gridcolor": "white",
           "linecolor": "white",
           "ticks": "",
           "title": {
            "standoff": 15
           },
           "zerolinecolor": "white",
           "zerolinewidth": 2
          }
         }
        },
        "title": {
         "text": "Unemployment Rate State Wise"
        },
        "xaxis": {
         "anchor": "y",
         "categoryarray": [
          "Andhra Pradesh",
          "Assam",
          "Bihar",
          "Chhattisgarh",
          "Delhi",
          "Goa",
          "Gujarat",
          "Haryana",
          "Himachal Pradesh",
          "Jammu & Kashmir",
          "Jharkhand",
          "Karnataka",
          "Kerala",
          "Madhya Pradesh",
          "Maharashtra",
          "Meghalaya",
          "Odisha",
          "Puducherry",
          "Punjab",
          "Rajasthan",
          "Sikkim",
          "Tamil Nadu",
          "Telangana",
          "Tripura",
          "Uttar Pradesh",
          "Uttarakhand",
          "West Bengal"
         ],
         "categoryorder": "total ascending",
         "domain": [
          0,
          1
         ],
         "title": {
          "text": "Region"
         }
        },
        "yaxis": {
         "anchor": "x",
         "domain": [
          0,
          1
         ],
         "title": {
          "text": " Estimated Unemployment Rate (%)"
         }
        }
       }
      },
      "text/html": [
       "<div>                            <div id=\"37a0f67c-45fd-4d59-af87-8944f78727d6\" class=\"plotly-graph-div\" style=\"height:525px; width:100%;\"></div>            <script type=\"text/javascript\">                require([\"plotly\"], function(Plotly) {                    window.PLOTLYENV=window.PLOTLYENV || {};                                    if (document.getElementById(\"37a0f67c-45fd-4d59-af87-8944f78727d6\")) {                    Plotly.newPlot(                        \"37a0f67c-45fd-4d59-af87-8944f78727d6\",                        [{\"alignmentgroup\":\"True\",\"hovertemplate\":\"Region=%{x}<br> Estimated Unemployment Rate (%)=%{y}<extra></extra>\",\"legendgroup\":\"Andhra Pradesh\",\"marker\":{\"color\":\"#636efa\",\"pattern\":{\"shape\":\"\"}},\"name\":\"Andhra Pradesh\",\"offsetgroup\":\"Andhra Pradesh\",\"orientation\":\"v\",\"showlegend\":true,\"textposition\":\"auto\",\"x\":[\"Andhra Pradesh\",\"Andhra Pradesh\",\"Andhra Pradesh\",\"Andhra Pradesh\",\"Andhra Pradesh\",\"Andhra Pradesh\",\"Andhra Pradesh\",\"Andhra Pradesh\",\"Andhra Pradesh\",\"Andhra Pradesh\"],\"xaxis\":\"x\",\"y\":[5.48,5.83,5.79,20.51,17.43,3.31,8.34,6.96,6.4,6.59],\"yaxis\":\"y\",\"type\":\"bar\"},{\"alignmentgroup\":\"True\",\"hovertemplate\":\"Region=%{x}<br> Estimated Unemployment Rate (%)=%{y}<extra></extra>\",\"legendgroup\":\"Assam\",\"marker\":{\"color\":\"#EF553B\",\"pattern\":{\"shape\":\"\"}},\"name\":\"Assam\",\"offsetgroup\":\"Assam\",\"orientation\":\"v\",\"showlegend\":true,\"textposition\":\"auto\",\"x\":[\"Assam\",\"Assam\",\"Assam\",\"Assam\",\"Assam\",\"Assam\",\"Assam\",\"Assam\",\"Assam\",\"Assam\"],\"xaxis\":\"x\",\"y\":[4.66,4.41,4.77,11.06,9.55,0.6,3.77,5.53,1.19,3.02],\"yaxis\":\"y\",\"type\":\"bar\"},{\"alignmentgroup\":\"True\",\"hovertemplate\":\"Region=%{x}<br> Estimated Unemployment Rate (%)=%{y}<extra></extra>\",\"legendgroup\":\"Bihar\",\"marker\":{\"color\":\"#00cc96\",\"pattern\":{\"shape\":\"\"}},\"name\":\"Bihar\",\"offsetgroup\":\"Bihar\",\"orientation\":\"v\",\"showlegend\":true,\"textposition\":\"auto\",\"x\":[\"Bihar\",\"Bihar\",\"Bihar\",\"Bihar\",\"Bihar\",\"Bihar\",\"Bihar\",\"Bihar\",\"Bihar\",\"Bihar\"],\"xaxis\":\"x\",\"y\":[10.61,10.29,15.43,46.64,45.96,17.82,12.79,13.44,11.91,9.82],\"yaxis\":\"y\",\"type\":\"bar\"},{\"alignmentgroup\":\"True\",\"hovertemplate\":\"Region=%{x}<br> Estimated Unemployment Rate (%)=%{y}<extra></extra>\",\"legendgroup\":\"Chhattisgarh\",\"marker\":{\"color\":\"#ab63fa\",\"pattern\":{\"shape\":\"\"}},\"name\":\"Chhattisgarh\",\"offsetgroup\":\"Chhattisgarh\",\"orientation\":\"v\",\"showlegend\":true,\"textposition\":\"auto\",\"x\":[\"Chhattisgarh\",\"Chhattisgarh\",\"Chhattisgarh\",\"Chhattisgarh\",\"Chhattisgarh\",\"Chhattisgarh\",\"Chhattisgarh\",\"Chhattisgarh\",\"Chhattisgarh\",\"Chhattisgarh\"],\"xaxis\":\"x\",\"y\":[9.65,8.38,7.54,3.41,10.5,14.23,10.27,5.63,1.96,6.62],\"yaxis\":\"y\",\"type\":\"bar\"},{\"alignmentgroup\":\"True\",\"hovertemplate\":\"Region=%{x}<br> Estimated Unemployment Rate (%)=%{y}<extra></extra>\",\"legendgroup\":\"Delhi\",\"marker\":{\"color\":\"#FFA15A\",\"pattern\":{\"shape\":\"\"}},\"name\":\"Delhi\",\"offsetgroup\":\"Delhi\",\"orientation\":\"v\",\"showlegend\":true,\"textposition\":\"auto\",\"x\":[\"Delhi\",\"Delhi\",\"Delhi\",\"Delhi\",\"Delhi\",\"Delhi\",\"Delhi\",\"Delhi\",\"Delhi\",\"Delhi\"],\"xaxis\":\"x\",\"y\":[22.23,14.84,17.04,16.68,42.27,18.19,20.3,13.79,12.53,6.27],\"yaxis\":\"y\",\"type\":\"bar\"},{\"alignmentgroup\":\"True\",\"hovertemplate\":\"Region=%{x}<br> Estimated Unemployment Rate (%)=%{y}<extra></extra>\",\"legendgroup\":\"Goa\",\"marker\":{\"color\":\"#19d3f3\",\"pattern\":{\"shape\":\"\"}},\"name\":\"Goa\",\"offsetgroup\":\"Goa\",\"orientation\":\"v\",\"showlegend\":true,\"textposition\":\"auto\",\"x\":[\"Goa\",\"Goa\",\"Goa\",\"Goa\",\"Goa\",\"Goa\",\"Goa\",\"Goa\",\"Goa\",\"Goa\"],\"xaxis\":\"x\",\"y\":[8.89,2.81,5.25,13.31,21.25,9.96,17.07,16.21,15.38,11.54],\"yaxis\":\"y\",\"type\":\"bar\"},{\"alignmentgroup\":\"True\",\"hovertemplate\":\"Region=%{x}<br> Estimated Unemployment Rate (%)=%{y}<extra></extra>\",\"legendgroup\":\"Gujarat\",\"marker\":{\"color\":\"#FF6692\",\"pattern\":{\"shape\":\"\"}},\"name\":\"Gujarat\",\"offsetgroup\":\"Gujarat\",\"orientation\":\"v\",\"showlegend\":true,\"textposition\":\"auto\",\"x\":[\"Gujarat\",\"Gujarat\",\"Gujarat\",\"Gujarat\",\"Gujarat\",\"Gujarat\",\"Gujarat\",\"Gujarat\",\"Gujarat\",\"Gujarat\"],\"xaxis\":\"x\",\"y\":[5.54,6.38,6.66,18.71,12.11,3.2,1.84,1.87,3.42,4.03],\"yaxis\":\"y\",\"type\":\"bar\"},{\"alignmentgroup\":\"True\",\"hovertemplate\":\"Region=%{x}<br> Estimated Unemployment Rate (%)=%{y}<extra></extra>\",\"legendgroup\":\"Haryana\",\"marker\":{\"color\":\"#B6E880\",\"pattern\":{\"shape\":\"\"}},\"name\":\"Haryana\",\"offsetgroup\":\"Haryana\",\"orientation\":\"v\",\"showlegend\":true,\"textposition\":\"auto\",\"x\":[\"Haryana\",\"Haryana\",\"Haryana\",\"Haryana\",\"Haryana\",\"Haryana\",\"Haryana\",\"Haryana\",\"Haryana\",\"Haryana\"],\"xaxis\":\"x\",\"y\":[20.34,25.77,25.05,43.22,29.02,26.7,24.18,33.5,19.68,27.31],\"yaxis\":\"y\",\"type\":\"bar\"},{\"alignmentgroup\":\"True\",\"hovertemplate\":\"Region=%{x}<br> Estimated Unemployment Rate (%)=%{y}<extra></extra>\",\"legendgroup\":\"Himachal Pradesh\",\"marker\":{\"color\":\"#FF97FF\",\"pattern\":{\"shape\":\"\"}},\"name\":\"Himachal Pradesh\",\"offsetgroup\":\"Himachal Pradesh\",\"orientation\":\"v\",\"showlegend\":true,\"textposition\":\"auto\",\"x\":[\"Himachal Pradesh\",\"Himachal Pradesh\",\"Himachal Pradesh\",\"Himachal Pradesh\",\"Himachal Pradesh\",\"Himachal Pradesh\",\"Himachal Pradesh\",\"Himachal Pradesh\",\"Himachal Pradesh\",\"Himachal Pradesh\"],\"xaxis\":\"x\",\"y\":[16.83,16.84,18.76,2.2,26.95,13.47,24.31,15.79,12.04,13.46],\"yaxis\":\"y\",\"type\":\"bar\"},{\"alignmentgroup\":\"True\",\"hovertemplate\":\"Region=%{x}<br> Estimated Unemployment Rate (%)=%{y}<extra></extra>\",\"legendgroup\":\"Jammu & Kashmir\",\"marker\":{\"color\":\"#FECB52\",\"pattern\":{\"shape\":\"\"}},\"name\":\"Jammu & Kashmir\",\"offsetgroup\":\"Jammu & Kashmir\",\"orientation\":\"v\",\"showlegend\":true,\"textposition\":\"auto\",\"x\":[\"Jammu & Kashmir\",\"Jammu & Kashmir\",\"Jammu & Kashmir\",\"Jammu & Kashmir\",\"Jammu & Kashmir\",\"Jammu & Kashmir\",\"Jammu & Kashmir\",\"Jammu & Kashmir\",\"Jammu & Kashmir\"],\"xaxis\":\"x\",\"y\":[21.08,20.78,15.5,18.74,17.92,10.88,11.09,16.17,16.14],\"yaxis\":\"y\",\"type\":\"bar\"},{\"alignmentgroup\":\"True\",\"hovertemplate\":\"Region=%{x}<br> Estimated Unemployment Rate (%)=%{y}<extra></extra>\",\"legendgroup\":\"Jharkhand\",\"marker\":{\"color\":\"#636efa\",\"pattern\":{\"shape\":\"\"}},\"name\":\"Jharkhand\",\"offsetgroup\":\"Jharkhand\",\"orientation\":\"v\",\"showlegend\":true,\"textposition\":\"auto\",\"x\":[\"Jharkhand\",\"Jharkhand\",\"Jharkhand\",\"Jharkhand\",\"Jharkhand\",\"Jharkhand\",\"Jharkhand\",\"Jharkhand\",\"Jharkhand\",\"Jharkhand\"],\"xaxis\":\"x\",\"y\":[10.61,11.85,8.23,47.09,59.23,20.95,7.63,9.76,8.24,11.8],\"yaxis\":\"y\",\"type\":\"bar\"},{\"alignmentgroup\":\"True\",\"hovertemplate\":\"Region=%{x}<br> Estimated Unemployment Rate (%)=%{y}<extra></extra>\",\"legendgroup\":\"Karnataka\",\"marker\":{\"color\":\"#EF553B\",\"pattern\":{\"shape\":\"\"}},\"name\":\"Karnataka\",\"offsetgroup\":\"Karnataka\",\"orientation\":\"v\",\"showlegend\":true,\"textposition\":\"auto\",\"x\":[\"Karnataka\",\"Karnataka\",\"Karnataka\",\"Karnataka\",\"Karnataka\",\"Karnataka\",\"Karnataka\",\"Karnataka\",\"Karnataka\",\"Karnataka\"],\"xaxis\":\"x\",\"y\":[2.86,3.61,3.46,29.84,19.97,8.44,4.01,0.5,2.41,1.58],\"yaxis\":\"y\",\"type\":\"bar\"},{\"alignmentgroup\":\"True\",\"hovertemplate\":\"Region=%{x}<br> Estimated Unemployment Rate (%)=%{y}<extra></extra>\",\"legendgroup\":\"Kerala\",\"marker\":{\"color\":\"#00cc96\",\"pattern\":{\"shape\":\"\"}},\"name\":\"Kerala\",\"offsetgroup\":\"Kerala\",\"orientation\":\"v\",\"showlegend\":true,\"textposition\":\"auto\",\"x\":[\"Kerala\",\"Kerala\",\"Kerala\",\"Kerala\",\"Kerala\",\"Kerala\",\"Kerala\",\"Kerala\",\"Kerala\",\"Kerala\"],\"xaxis\":\"x\",\"y\":[5.31,7.6,8.99,16.99,17.88,9.71,7.09,10.98,5.91,3.88],\"yaxis\":\"y\",\"type\":\"bar\"},{\"alignmentgroup\":\"True\",\"hovertemplate\":\"Region=%{x}<br> Estimated Unemployment Rate (%)=%{y}<extra></extra>\",\"legendgroup\":\"Madhya Pradesh\",\"marker\":{\"color\":\"#ab63fa\",\"pattern\":{\"shape\":\"\"}},\"name\":\"Madhya Pradesh\",\"offsetgroup\":\"Madhya Pradesh\",\"orientation\":\"v\",\"showlegend\":true,\"textposition\":\"auto\",\"x\":[\"Madhya Pradesh\",\"Madhya Pradesh\",\"Madhya Pradesh\",\"Madhya Pradesh\",\"Madhya Pradesh\",\"Madhya Pradesh\",\"Madhya Pradesh\",\"Madhya Pradesh\",\"Madhya Pradesh\",\"Madhya Pradesh\"],\"xaxis\":\"x\",\"y\":[4.11,4.57,2.22,12.36,21.98,6.48,5.08,4.7,3.91,3.13],\"yaxis\":\"y\",\"type\":\"bar\"},{\"alignmentgroup\":\"True\",\"hovertemplate\":\"Region=%{x}<br> Estimated Unemployment Rate (%)=%{y}<extra></extra>\",\"legendgroup\":\"Maharashtra\",\"marker\":{\"color\":\"#FFA15A\",\"pattern\":{\"shape\":\"\"}},\"name\":\"Maharashtra\",\"offsetgroup\":\"Maharashtra\",\"orientation\":\"v\",\"showlegend\":true,\"textposition\":\"auto\",\"x\":[\"Maharashtra\",\"Maharashtra\",\"Maharashtra\",\"Maharashtra\",\"Maharashtra\",\"Maharashtra\",\"Maharashtra\",\"Maharashtra\",\"Maharashtra\",\"Maharashtra\"],\"xaxis\":\"x\",\"y\":[4.95,4.69,5.79,20.9,15.46,9.23,3.89,6.23,4.55,4.1],\"yaxis\":\"y\",\"type\":\"bar\"},{\"alignmentgroup\":\"True\",\"hovertemplate\":\"Region=%{x}<br> Estimated Unemployment Rate (%)=%{y}<extra></extra>\",\"legendgroup\":\"Meghalaya\",\"marker\":{\"color\":\"#19d3f3\",\"pattern\":{\"shape\":\"\"}},\"name\":\"Meghalaya\",\"offsetgroup\":\"Meghalaya\",\"orientation\":\"v\",\"showlegend\":true,\"textposition\":\"auto\",\"x\":[\"Meghalaya\",\"Meghalaya\",\"Meghalaya\",\"Meghalaya\",\"Meghalaya\",\"Meghalaya\",\"Meghalaya\",\"Meghalaya\",\"Meghalaya\",\"Meghalaya\"],\"xaxis\":\"x\",\"y\":[1.66,3.59,1.58,10.03,5.92,1.15,2.1,3.74,4.29,4.6],\"yaxis\":\"y\",\"type\":\"bar\"},{\"alignmentgroup\":\"True\",\"hovertemplate\":\"Region=%{x}<br> Estimated Unemployment Rate (%)=%{y}<extra></extra>\",\"legendgroup\":\"Odisha\",\"marker\":{\"color\":\"#FF6692\",\"pattern\":{\"shape\":\"\"}},\"name\":\"Odisha\",\"offsetgroup\":\"Odisha\",\"orientation\":\"v\",\"showlegend\":true,\"textposition\":\"auto\",\"x\":[\"Odisha\",\"Odisha\",\"Odisha\",\"Odisha\",\"Odisha\",\"Odisha\",\"Odisha\",\"Odisha\",\"Odisha\",\"Odisha\"],\"xaxis\":\"x\",\"y\":[1.9,3.12,13.08,23.76,11.41,3.77,1.88,1.42,2.1,2.18],\"yaxis\":\"y\",\"type\":\"bar\"},{\"alignmentgroup\":\"True\",\"hovertemplate\":\"Region=%{x}<br> Estimated Unemployment Rate (%)=%{y}<extra></extra>\",\"legendgroup\":\"Puducherry\",\"marker\":{\"color\":\"#B6E880\",\"pattern\":{\"shape\":\"\"}},\"name\":\"Puducherry\",\"offsetgroup\":\"Puducherry\",\"orientation\":\"v\",\"showlegend\":true,\"textposition\":\"auto\",\"x\":[\"Puducherry\",\"Puducherry\",\"Puducherry\",\"Puducherry\",\"Puducherry\",\"Puducherry\",\"Puducherry\",\"Puducherry\",\"Puducherry\",\"Puducherry\"],\"xaxis\":\"x\",\"y\":[0.58,1.76,1.2,75.85,58.19,4.24,15.47,5.05,10.9,6.18],\"yaxis\":\"y\",\"type\":\"bar\"},{\"alignmentgroup\":\"True\",\"hovertemplate\":\"Region=%{x}<br> Estimated Unemployment Rate (%)=%{y}<extra></extra>\",\"legendgroup\":\"Punjab\",\"marker\":{\"color\":\"#FF97FF\",\"pattern\":{\"shape\":\"\"}},\"name\":\"Punjab\",\"offsetgroup\":\"Punjab\",\"orientation\":\"v\",\"showlegend\":true,\"textposition\":\"auto\",\"x\":[\"Punjab\",\"Punjab\",\"Punjab\",\"Punjab\",\"Punjab\",\"Punjab\",\"Punjab\",\"Punjab\",\"Punjab\",\"Punjab\"],\"xaxis\":\"x\",\"y\":[11.11,10.97,10.32,2.86,28.33,16.55,9.19,10.99,9.61,9.88],\"yaxis\":\"y\",\"type\":\"bar\"},{\"alignmentgroup\":\"True\",\"hovertemplate\":\"Region=%{x}<br> Estimated Unemployment Rate (%)=%{y}<extra></extra>\",\"legendgroup\":\"Rajasthan\",\"marker\":{\"color\":\"#FECB52\",\"pattern\":{\"shape\":\"\"}},\"name\":\"Rajasthan\",\"offsetgroup\":\"Rajasthan\",\"orientation\":\"v\",\"showlegend\":true,\"textposition\":\"auto\",\"x\":[\"Rajasthan\",\"Rajasthan\",\"Rajasthan\",\"Rajasthan\",\"Rajasthan\",\"Rajasthan\",\"Rajasthan\",\"Rajasthan\",\"Rajasthan\",\"Rajasthan\"],\"xaxis\":\"x\",\"y\":[10.97,15.16,11.9,17.7,15.74,14.39,15.81,17.51,15.35,24.15],\"yaxis\":\"y\",\"type\":\"bar\"},{\"alignmentgroup\":\"True\",\"hovertemplate\":\"Region=%{x}<br> Estimated Unemployment Rate (%)=%{y}<extra></extra>\",\"legendgroup\":\"Sikkim\",\"marker\":{\"color\":\"#636efa\",\"pattern\":{\"shape\":\"\"}},\"name\":\"Sikkim\",\"offsetgroup\":\"Sikkim\",\"orientation\":\"v\",\"showlegend\":true,\"textposition\":\"auto\",\"x\":[\"Sikkim\",\"Sikkim\",\"Sikkim\",\"Sikkim\",\"Sikkim\",\"Sikkim\",\"Sikkim\",\"Sikkim\"],\"xaxis\":\"x\",\"y\":[23.57,2.28,24.51,4.46,4.45,12.49,5.7,0.88],\"yaxis\":\"y\",\"type\":\"bar\"},{\"alignmentgroup\":\"True\",\"hovertemplate\":\"Region=%{x}<br> Estimated Unemployment Rate (%)=%{y}<extra></extra>\",\"legendgroup\":\"Tamil Nadu\",\"marker\":{\"color\":\"#EF553B\",\"pattern\":{\"shape\":\"\"}},\"name\":\"Tamil Nadu\",\"offsetgroup\":\"Tamil Nadu\",\"orientation\":\"v\",\"showlegend\":true,\"textposition\":\"auto\",\"x\":[\"Tamil Nadu\",\"Tamil Nadu\",\"Tamil Nadu\",\"Tamil Nadu\",\"Tamil Nadu\",\"Tamil Nadu\",\"Tamil Nadu\",\"Tamil Nadu\",\"Tamil Nadu\",\"Tamil Nadu\"],\"xaxis\":\"x\",\"y\":[1.57,2.09,6.4,49.83,33.16,12.2,6.81,2.65,5.0,2.16],\"yaxis\":\"y\",\"type\":\"bar\"},{\"alignmentgroup\":\"True\",\"hovertemplate\":\"Region=%{x}<br> Estimated Unemployment Rate (%)=%{y}<extra></extra>\",\"legendgroup\":\"Telangana\",\"marker\":{\"color\":\"#00cc96\",\"pattern\":{\"shape\":\"\"}},\"name\":\"Telangana\",\"offsetgroup\":\"Telangana\",\"orientation\":\"v\",\"showlegend\":true,\"textposition\":\"auto\",\"x\":[\"Telangana\",\"Telangana\",\"Telangana\",\"Telangana\",\"Telangana\",\"Telangana\",\"Telangana\",\"Telangana\",\"Telangana\",\"Telangana\"],\"xaxis\":\"x\",\"y\":[5.49,8.29,5.77,6.25,14.7,10.55,5.36,5.79,3.27,2.86],\"yaxis\":\"y\",\"type\":\"bar\"},{\"alignmentgroup\":\"True\",\"hovertemplate\":\"Region=%{x}<br> Estimated Unemployment Rate (%)=%{y}<extra></extra>\",\"legendgroup\":\"Tripura\",\"marker\":{\"color\":\"#ab63fa\",\"pattern\":{\"shape\":\"\"}},\"name\":\"Tripura\",\"offsetgroup\":\"Tripura\",\"orientation\":\"v\",\"showlegend\":true,\"textposition\":\"auto\",\"x\":[\"Tripura\",\"Tripura\",\"Tripura\",\"Tripura\",\"Tripura\",\"Tripura\",\"Tripura\",\"Tripura\",\"Tripura\",\"Tripura\"],\"xaxis\":\"x\",\"y\":[32.67,28.4,29.95,41.23,21.51,21.71,18.24,27.92,17.35,11.57],\"yaxis\":\"y\",\"type\":\"bar\"},{\"alignmentgroup\":\"True\",\"hovertemplate\":\"Region=%{x}<br> Estimated Unemployment Rate (%)=%{y}<extra></extra>\",\"legendgroup\":\"Uttar Pradesh\",\"marker\":{\"color\":\"#FFA15A\",\"pattern\":{\"shape\":\"\"}},\"name\":\"Uttar Pradesh\",\"offsetgroup\":\"Uttar Pradesh\",\"orientation\":\"v\",\"showlegend\":true,\"textposition\":\"auto\",\"x\":[\"Uttar Pradesh\",\"Uttar Pradesh\",\"Uttar Pradesh\",\"Uttar Pradesh\",\"Uttar Pradesh\",\"Uttar Pradesh\",\"Uttar Pradesh\",\"Uttar Pradesh\",\"Uttar Pradesh\",\"Uttar Pradesh\"],\"xaxis\":\"x\",\"y\":[7.58,8.98,10.11,21.54,20.41,9.47,5.56,5.79,4.18,3.75],\"yaxis\":\"y\",\"type\":\"bar\"},{\"alignmentgroup\":\"True\",\"hovertemplate\":\"Region=%{x}<br> Estimated Unemployment Rate (%)=%{y}<extra></extra>\",\"legendgroup\":\"Uttarakhand\",\"marker\":{\"color\":\"#19d3f3\",\"pattern\":{\"shape\":\"\"}},\"name\":\"Uttarakhand\",\"offsetgroup\":\"Uttarakhand\",\"orientation\":\"v\",\"showlegend\":true,\"textposition\":\"auto\",\"x\":[\"Uttarakhand\",\"Uttarakhand\",\"Uttarakhand\",\"Uttarakhand\",\"Uttarakhand\",\"Uttarakhand\",\"Uttarakhand\",\"Uttarakhand\",\"Uttarakhand\",\"Uttarakhand\"],\"xaxis\":\"x\",\"y\":[5.49,4.99,19.85,6.48,8.01,8.61,12.38,14.26,22.26,9.23],\"yaxis\":\"y\",\"type\":\"bar\"},{\"alignmentgroup\":\"True\",\"hovertemplate\":\"Region=%{x}<br> Estimated Unemployment Rate (%)=%{y}<extra></extra>\",\"legendgroup\":\"West Bengal\",\"marker\":{\"color\":\"#FF6692\",\"pattern\":{\"shape\":\"\"}},\"name\":\"West Bengal\",\"offsetgroup\":\"West Bengal\",\"orientation\":\"v\",\"showlegend\":true,\"textposition\":\"auto\",\"x\":[\"West Bengal\",\"West Bengal\",\"West Bengal\",\"West Bengal\",\"West Bengal\",\"West Bengal\",\"West Bengal\",\"West Bengal\",\"West Bengal\",\"West Bengal\"],\"xaxis\":\"x\",\"y\":[6.94,4.92,6.92,17.41,17.41,7.29,6.83,14.87,9.35,9.98],\"yaxis\":\"y\",\"type\":\"bar\"}],                        {\"template\":{\"data\":{\"histogram2dcontour\":[{\"type\":\"histogram2dcontour\",\"colorbar\":{\"outlinewidth\":0,\"ticks\":\"\"},\"colorscale\":[[0.0,\"#0d0887\"],[0.1111111111111111,\"#46039f\"],[0.2222222222222222,\"#7201a8\"],[0.3333333333333333,\"#9c179e\"],[0.4444444444444444,\"#bd3786\"],[0.5555555555555556,\"#d8576b\"],[0.6666666666666666,\"#ed7953\"],[0.7777777777777778,\"#fb9f3a\"],[0.8888888888888888,\"#fdca26\"],[1.0,\"#f0f921\"]]}],\"choropleth\":[{\"type\":\"choropleth\",\"colorbar\":{\"outlinewidth\":0,\"ticks\":\"\"}}],\"histogram2d\":[{\"type\":\"histogram2d\",\"colorbar\":{\"outlinewidth\":0,\"ticks\":\"\"},\"colorscale\":[[0.0,\"#0d0887\"],[0.1111111111111111,\"#46039f\"],[0.2222222222222222,\"#7201a8\"],[0.3333333333333333,\"#9c179e\"],[0.4444444444444444,\"#bd3786\"],[0.5555555555555556,\"#d8576b\"],[0.6666666666666666,\"#ed7953\"],[0.7777777777777778,\"#fb9f3a\"],[0.8888888888888888,\"#fdca26\"],[1.0,\"#f0f921\"]]}],\"heatmap\":[{\"type\":\"heatmap\",\"colorbar\":{\"outlinewidth\":0,\"ticks\":\"\"},\"colorscale\":[[0.0,\"#0d0887\"],[0.1111111111111111,\"#46039f\"],[0.2222222222222222,\"#7201a8\"],[0.3333333333333333,\"#9c179e\"],[0.4444444444444444,\"#bd3786\"],[0.5555555555555556,\"#d8576b\"],[0.6666666666666666,\"#ed7953\"],[0.7777777777777778,\"#fb9f3a\"],[0.8888888888888888,\"#fdca26\"],[1.0,\"#f0f921\"]]}],\"heatmapgl\":[{\"type\":\"heatmapgl\",\"colorbar\":{\"outlinewidth\":0,\"ticks\":\"\"},\"colorscale\":[[0.0,\"#0d0887\"],[0.1111111111111111,\"#46039f\"],[0.2222222222222222,\"#7201a8\"],[0.3333333333333333,\"#9c179e\"],[0.4444444444444444,\"#bd3786\"],[0.5555555555555556,\"#d8576b\"],[0.6666666666666666,\"#ed7953\"],[0.7777777777777778,\"#fb9f3a\"],[0.8888888888888888,\"#fdca26\"],[1.0,\"#f0f921\"]]}],\"contourcarpet\":[{\"type\":\"contourcarpet\",\"colorbar\":{\"outlinewidth\":0,\"ticks\":\"\"}}],\"contour\":[{\"type\":\"contour\",\"colorbar\":{\"outlinewidth\":0,\"ticks\":\"\"},\"colorscale\":[[0.0,\"#0d0887\"],[0.1111111111111111,\"#46039f\"],[0.2222222222222222,\"#7201a8\"],[0.3333333333333333,\"#9c179e\"],[0.4444444444444444,\"#bd3786\"],[0.5555555555555556,\"#d8576b\"],[0.6666666666666666,\"#ed7953\"],[0.7777777777777778,\"#fb9f3a\"],[0.8888888888888888,\"#fdca26\"],[1.0,\"#f0f921\"]]}],\"surface\":[{\"type\":\"surface\",\"colorbar\":{\"outlinewidth\":0,\"ticks\":\"\"},\"colorscale\":[[0.0,\"#0d0887\"],[0.1111111111111111,\"#46039f\"],[0.2222222222222222,\"#7201a8\"],[0.3333333333333333,\"#9c179e\"],[0.4444444444444444,\"#bd3786\"],[0.5555555555555556,\"#d8576b\"],[0.6666666666666666,\"#ed7953\"],[0.7777777777777778,\"#fb9f3a\"],[0.8888888888888888,\"#fdca26\"],[1.0,\"#f0f921\"]]}],\"mesh3d\":[{\"type\":\"mesh3d\",\"colorbar\":{\"outlinewidth\":0,\"ticks\":\"\"}}],\"scatter\":[{\"fillpattern\":{\"fillmode\":\"overlay\",\"size\":10,\"solidity\":0.2},\"type\":\"scatter\"}],\"parcoords\":[{\"type\":\"parcoords\",\"line\":{\"colorbar\":{\"outlinewidth\":0,\"ticks\":\"\"}}}],\"scatterpolargl\":[{\"type\":\"scatterpolargl\",\"marker\":{\"colorbar\":{\"outlinewidth\":0,\"ticks\":\"\"}}}],\"bar\":[{\"error_x\":{\"color\":\"#2a3f5f\"},\"error_y\":{\"color\":\"#2a3f5f\"},\"marker\":{\"line\":{\"color\":\"#E5ECF6\",\"width\":0.5},\"pattern\":{\"fillmode\":\"overlay\",\"size\":10,\"solidity\":0.2}},\"type\":\"bar\"}],\"scattergeo\":[{\"type\":\"scattergeo\",\"marker\":{\"colorbar\":{\"outlinewidth\":0,\"ticks\":\"\"}}}],\"scatterpolar\":[{\"type\":\"scatterpolar\",\"marker\":{\"colorbar\":{\"outlinewidth\":0,\"ticks\":\"\"}}}],\"histogram\":[{\"marker\":{\"pattern\":{\"fillmode\":\"overlay\",\"size\":10,\"solidity\":0.2}},\"type\":\"histogram\"}],\"scattergl\":[{\"type\":\"scattergl\",\"marker\":{\"colorbar\":{\"outlinewidth\":0,\"ticks\":\"\"}}}],\"scatter3d\":[{\"type\":\"scatter3d\",\"line\":{\"colorbar\":{\"outlinewidth\":0,\"ticks\":\"\"}},\"marker\":{\"colorbar\":{\"outlinewidth\":0,\"ticks\":\"\"}}}],\"scattermapbox\":[{\"type\":\"scattermapbox\",\"marker\":{\"colorbar\":{\"outlinewidth\":0,\"ticks\":\"\"}}}],\"scatterternary\":[{\"type\":\"scatterternary\",\"marker\":{\"colorbar\":{\"outlinewidth\":0,\"ticks\":\"\"}}}],\"scattercarpet\":[{\"type\":\"scattercarpet\",\"marker\":{\"colorbar\":{\"outlinewidth\":0,\"ticks\":\"\"}}}],\"carpet\":[{\"aaxis\":{\"endlinecolor\":\"#2a3f5f\",\"gridcolor\":\"white\",\"linecolor\":\"white\",\"minorgridcolor\":\"white\",\"startlinecolor\":\"#2a3f5f\"},\"baxis\":{\"endlinecolor\":\"#2a3f5f\",\"gridcolor\":\"white\",\"linecolor\":\"white\",\"minorgridcolor\":\"white\",\"startlinecolor\":\"#2a3f5f\"},\"type\":\"carpet\"}],\"table\":[{\"cells\":{\"fill\":{\"color\":\"#EBF0F8\"},\"line\":{\"color\":\"white\"}},\"header\":{\"fill\":{\"color\":\"#C8D4E3\"},\"line\":{\"color\":\"white\"}},\"type\":\"table\"}],\"barpolar\":[{\"marker\":{\"line\":{\"color\":\"#E5ECF6\",\"width\":0.5},\"pattern\":{\"fillmode\":\"overlay\",\"size\":10,\"solidity\":0.2}},\"type\":\"barpolar\"}],\"pie\":[{\"automargin\":true,\"type\":\"pie\"}]},\"layout\":{\"autotypenumbers\":\"strict\",\"colorway\":[\"#636efa\",\"#EF553B\",\"#00cc96\",\"#ab63fa\",\"#FFA15A\",\"#19d3f3\",\"#FF6692\",\"#B6E880\",\"#FF97FF\",\"#FECB52\"],\"font\":{\"color\":\"#2a3f5f\"},\"hovermode\":\"closest\",\"hoverlabel\":{\"align\":\"left\"},\"paper_bgcolor\":\"white\",\"plot_bgcolor\":\"#E5ECF6\",\"polar\":{\"bgcolor\":\"#E5ECF6\",\"angularaxis\":{\"gridcolor\":\"white\",\"linecolor\":\"white\",\"ticks\":\"\"},\"radialaxis\":{\"gridcolor\":\"white\",\"linecolor\":\"white\",\"ticks\":\"\"}},\"ternary\":{\"bgcolor\":\"#E5ECF6\",\"aaxis\":{\"gridcolor\":\"white\",\"linecolor\":\"white\",\"ticks\":\"\"},\"baxis\":{\"gridcolor\":\"white\",\"linecolor\":\"white\",\"ticks\":\"\"},\"caxis\":{\"gridcolor\":\"white\",\"linecolor\":\"white\",\"ticks\":\"\"}},\"coloraxis\":{\"colorbar\":{\"outlinewidth\":0,\"ticks\":\"\"}},\"colorscale\":{\"sequential\":[[0.0,\"#0d0887\"],[0.1111111111111111,\"#46039f\"],[0.2222222222222222,\"#7201a8\"],[0.3333333333333333,\"#9c179e\"],[0.4444444444444444,\"#bd3786\"],[0.5555555555555556,\"#d8576b\"],[0.6666666666666666,\"#ed7953\"],[0.7777777777777778,\"#fb9f3a\"],[0.8888888888888888,\"#fdca26\"],[1.0,\"#f0f921\"]],\"sequentialminus\":[[0.0,\"#0d0887\"],[0.1111111111111111,\"#46039f\"],[0.2222222222222222,\"#7201a8\"],[0.3333333333333333,\"#9c179e\"],[0.4444444444444444,\"#bd3786\"],[0.5555555555555556,\"#d8576b\"],[0.6666666666666666,\"#ed7953\"],[0.7777777777777778,\"#fb9f3a\"],[0.8888888888888888,\"#fdca26\"],[1.0,\"#f0f921\"]],\"diverging\":[[0,\"#8e0152\"],[0.1,\"#c51b7d\"],[0.2,\"#de77ae\"],[0.3,\"#f1b6da\"],[0.4,\"#fde0ef\"],[0.5,\"#f7f7f7\"],[0.6,\"#e6f5d0\"],[0.7,\"#b8e186\"],[0.8,\"#7fbc41\"],[0.9,\"#4d9221\"],[1,\"#276419\"]]},\"xaxis\":{\"gridcolor\":\"white\",\"linecolor\":\"white\",\"ticks\":\"\",\"title\":{\"standoff\":15},\"zerolinecolor\":\"white\",\"automargin\":true,\"zerolinewidth\":2},\"yaxis\":{\"gridcolor\":\"white\",\"linecolor\":\"white\",\"ticks\":\"\",\"title\":{\"standoff\":15},\"zerolinecolor\":\"white\",\"automargin\":true,\"zerolinewidth\":2},\"scene\":{\"xaxis\":{\"backgroundcolor\":\"#E5ECF6\",\"gridcolor\":\"white\",\"linecolor\":\"white\",\"showbackground\":true,\"ticks\":\"\",\"zerolinecolor\":\"white\",\"gridwidth\":2},\"yaxis\":{\"backgroundcolor\":\"#E5ECF6\",\"gridcolor\":\"white\",\"linecolor\":\"white\",\"showbackground\":true,\"ticks\":\"\",\"zerolinecolor\":\"white\",\"gridwidth\":2},\"zaxis\":{\"backgroundcolor\":\"#E5ECF6\",\"gridcolor\":\"white\",\"linecolor\":\"white\",\"showbackground\":true,\"ticks\":\"\",\"zerolinecolor\":\"white\",\"gridwidth\":2}},\"shapedefaults\":{\"line\":{\"color\":\"#2a3f5f\"}},\"annotationdefaults\":{\"arrowcolor\":\"#2a3f5f\",\"arrowhead\":0,\"arrowwidth\":1},\"geo\":{\"bgcolor\":\"white\",\"landcolor\":\"#E5ECF6\",\"subunitcolor\":\"white\",\"showland\":true,\"showlakes\":true,\"lakecolor\":\"white\"},\"title\":{\"x\":0.05},\"mapbox\":{\"style\":\"light\"}}},\"xaxis\":{\"anchor\":\"y\",\"domain\":[0.0,1.0],\"title\":{\"text\":\"Region\"},\"categoryorder\":\"total ascending\",\"categoryarray\":[\"Andhra Pradesh\",\"Assam\",\"Bihar\",\"Chhattisgarh\",\"Delhi\",\"Goa\",\"Gujarat\",\"Haryana\",\"Himachal Pradesh\",\"Jammu & Kashmir\",\"Jharkhand\",\"Karnataka\",\"Kerala\",\"Madhya Pradesh\",\"Maharashtra\",\"Meghalaya\",\"Odisha\",\"Puducherry\",\"Punjab\",\"Rajasthan\",\"Sikkim\",\"Tamil Nadu\",\"Telangana\",\"Tripura\",\"Uttar Pradesh\",\"Uttarakhand\",\"West Bengal\"]},\"yaxis\":{\"anchor\":\"x\",\"domain\":[0.0,1.0],\"title\":{\"text\":\" Estimated Unemployment Rate (%)\"}},\"legend\":{\"title\":{\"text\":\"Region\"},\"tracegroupgap\":0},\"title\":{\"text\":\"Unemployment Rate State Wise\"},\"barmode\":\"relative\"},                        {\"responsive\": true}                    ).then(function(){\n",
       "                            \n",
       "var gd = document.getElementById('37a0f67c-45fd-4d59-af87-8944f78727d6');\n",
       "var x = new MutationObserver(function (mutations, observer) {{\n",
       "        var display = window.getComputedStyle(gd).display;\n",
       "        if (!display || display === 'none') {{\n",
       "            console.log([gd, 'removed!']);\n",
       "            Plotly.purge(gd);\n",
       "            observer.disconnect();\n",
       "        }}\n",
       "}});\n",
       "\n",
       "// Listen for the removal of the full notebook cells\n",
       "var notebookContainer = gd.closest('#notebook-container');\n",
       "if (notebookContainer) {{\n",
       "    x.observe(notebookContainer, {childList: true});\n",
       "}}\n",
       "\n",
       "// Listen for the clearing of the current output cell\n",
       "var outputEl = gd.closest('.output');\n",
       "if (outputEl) {{\n",
       "    x.observe(outputEl, {childList: true});\n",
       "}}\n",
       "\n",
       "                        })                };                });            </script>        </div>"
      ]
     },
     "metadata": {},
     "output_type": "display_data"
    }
   ],
   "source": [
    "fg = px.bar(df, x='Region', y=' Estimated Unemployment Rate (%)', color='Region',\n",
    "            title='Unemployment Rate State Wise', template='plotly')\n",
    "fg.update_layout(xaxis={'categoryorder': 'total ascending'})\n",
    "fg.show()\n"
   ]
  },
  {
   "cell_type": "code",
   "execution_count": 54,
   "id": "ac3d9d95",
   "metadata": {},
   "outputs": [
    {
     "data": {
      "application/vnd.plotly.v1+json": {
       "config": {
        "plotlyServerURL": "https://plot.ly"
       },
       "data": [
        {
         "alignmentgroup": "True",
         "hovertemplate": "Region=%{x}<br> Estimated Unemployment Rate (%)=%{y}<extra></extra>",
         "legendgroup": "Andhra Pradesh",
         "marker": {
          "color": "#636efa"
         },
         "name": "Andhra Pradesh",
         "notched": false,
         "offsetgroup": "Andhra Pradesh",
         "orientation": "v",
         "showlegend": true,
         "type": "box",
         "x": [
          "Andhra Pradesh",
          "Andhra Pradesh",
          "Andhra Pradesh",
          "Andhra Pradesh",
          "Andhra Pradesh",
          "Andhra Pradesh",
          "Andhra Pradesh",
          "Andhra Pradesh",
          "Andhra Pradesh",
          "Andhra Pradesh"
         ],
         "x0": " ",
         "xaxis": "x",
         "y": [
          5.48,
          5.83,
          5.79,
          20.51,
          17.43,
          3.31,
          8.34,
          6.96,
          6.4,
          6.59
         ],
         "y0": " ",
         "yaxis": "y"
        },
        {
         "alignmentgroup": "True",
         "hovertemplate": "Region=%{x}<br> Estimated Unemployment Rate (%)=%{y}<extra></extra>",
         "legendgroup": "Assam",
         "marker": {
          "color": "#EF553B"
         },
         "name": "Assam",
         "notched": false,
         "offsetgroup": "Assam",
         "orientation": "v",
         "showlegend": true,
         "type": "box",
         "x": [
          "Assam",
          "Assam",
          "Assam",
          "Assam",
          "Assam",
          "Assam",
          "Assam",
          "Assam",
          "Assam",
          "Assam"
         ],
         "x0": " ",
         "xaxis": "x",
         "y": [
          4.66,
          4.41,
          4.77,
          11.06,
          9.55,
          0.6,
          3.77,
          5.53,
          1.19,
          3.02
         ],
         "y0": " ",
         "yaxis": "y"
        },
        {
         "alignmentgroup": "True",
         "hovertemplate": "Region=%{x}<br> Estimated Unemployment Rate (%)=%{y}<extra></extra>",
         "legendgroup": "Bihar",
         "marker": {
          "color": "#00cc96"
         },
         "name": "Bihar",
         "notched": false,
         "offsetgroup": "Bihar",
         "orientation": "v",
         "showlegend": true,
         "type": "box",
         "x": [
          "Bihar",
          "Bihar",
          "Bihar",
          "Bihar",
          "Bihar",
          "Bihar",
          "Bihar",
          "Bihar",
          "Bihar",
          "Bihar"
         ],
         "x0": " ",
         "xaxis": "x",
         "y": [
          10.61,
          10.29,
          15.43,
          46.64,
          45.96,
          17.82,
          12.79,
          13.44,
          11.91,
          9.82
         ],
         "y0": " ",
         "yaxis": "y"
        },
        {
         "alignmentgroup": "True",
         "hovertemplate": "Region=%{x}<br> Estimated Unemployment Rate (%)=%{y}<extra></extra>",
         "legendgroup": "Chhattisgarh",
         "marker": {
          "color": "#ab63fa"
         },
         "name": "Chhattisgarh",
         "notched": false,
         "offsetgroup": "Chhattisgarh",
         "orientation": "v",
         "showlegend": true,
         "type": "box",
         "x": [
          "Chhattisgarh",
          "Chhattisgarh",
          "Chhattisgarh",
          "Chhattisgarh",
          "Chhattisgarh",
          "Chhattisgarh",
          "Chhattisgarh",
          "Chhattisgarh",
          "Chhattisgarh",
          "Chhattisgarh"
         ],
         "x0": " ",
         "xaxis": "x",
         "y": [
          9.65,
          8.38,
          7.54,
          3.41,
          10.5,
          14.23,
          10.27,
          5.63,
          1.96,
          6.62
         ],
         "y0": " ",
         "yaxis": "y"
        },
        {
         "alignmentgroup": "True",
         "hovertemplate": "Region=%{x}<br> Estimated Unemployment Rate (%)=%{y}<extra></extra>",
         "legendgroup": "Delhi",
         "marker": {
          "color": "#FFA15A"
         },
         "name": "Delhi",
         "notched": false,
         "offsetgroup": "Delhi",
         "orientation": "v",
         "showlegend": true,
         "type": "box",
         "x": [
          "Delhi",
          "Delhi",
          "Delhi",
          "Delhi",
          "Delhi",
          "Delhi",
          "Delhi",
          "Delhi",
          "Delhi",
          "Delhi"
         ],
         "x0": " ",
         "xaxis": "x",
         "y": [
          22.23,
          14.84,
          17.04,
          16.68,
          42.27,
          18.19,
          20.3,
          13.79,
          12.53,
          6.27
         ],
         "y0": " ",
         "yaxis": "y"
        },
        {
         "alignmentgroup": "True",
         "hovertemplate": "Region=%{x}<br> Estimated Unemployment Rate (%)=%{y}<extra></extra>",
         "legendgroup": "Goa",
         "marker": {
          "color": "#19d3f3"
         },
         "name": "Goa",
         "notched": false,
         "offsetgroup": "Goa",
         "orientation": "v",
         "showlegend": true,
         "type": "box",
         "x": [
          "Goa",
          "Goa",
          "Goa",
          "Goa",
          "Goa",
          "Goa",
          "Goa",
          "Goa",
          "Goa",
          "Goa"
         ],
         "x0": " ",
         "xaxis": "x",
         "y": [
          8.89,
          2.81,
          5.25,
          13.31,
          21.25,
          9.96,
          17.07,
          16.21,
          15.38,
          11.54
         ],
         "y0": " ",
         "yaxis": "y"
        },
        {
         "alignmentgroup": "True",
         "hovertemplate": "Region=%{x}<br> Estimated Unemployment Rate (%)=%{y}<extra></extra>",
         "legendgroup": "Gujarat",
         "marker": {
          "color": "#FF6692"
         },
         "name": "Gujarat",
         "notched": false,
         "offsetgroup": "Gujarat",
         "orientation": "v",
         "showlegend": true,
         "type": "box",
         "x": [
          "Gujarat",
          "Gujarat",
          "Gujarat",
          "Gujarat",
          "Gujarat",
          "Gujarat",
          "Gujarat",
          "Gujarat",
          "Gujarat",
          "Gujarat"
         ],
         "x0": " ",
         "xaxis": "x",
         "y": [
          5.54,
          6.38,
          6.66,
          18.71,
          12.11,
          3.2,
          1.84,
          1.87,
          3.42,
          4.03
         ],
         "y0": " ",
         "yaxis": "y"
        },
        {
         "alignmentgroup": "True",
         "hovertemplate": "Region=%{x}<br> Estimated Unemployment Rate (%)=%{y}<extra></extra>",
         "legendgroup": "Haryana",
         "marker": {
          "color": "#B6E880"
         },
         "name": "Haryana",
         "notched": false,
         "offsetgroup": "Haryana",
         "orientation": "v",
         "showlegend": true,
         "type": "box",
         "x": [
          "Haryana",
          "Haryana",
          "Haryana",
          "Haryana",
          "Haryana",
          "Haryana",
          "Haryana",
          "Haryana",
          "Haryana",
          "Haryana"
         ],
         "x0": " ",
         "xaxis": "x",
         "y": [
          20.34,
          25.77,
          25.05,
          43.22,
          29.02,
          26.7,
          24.18,
          33.5,
          19.68,
          27.31
         ],
         "y0": " ",
         "yaxis": "y"
        },
        {
         "alignmentgroup": "True",
         "hovertemplate": "Region=%{x}<br> Estimated Unemployment Rate (%)=%{y}<extra></extra>",
         "legendgroup": "Himachal Pradesh",
         "marker": {
          "color": "#FF97FF"
         },
         "name": "Himachal Pradesh",
         "notched": false,
         "offsetgroup": "Himachal Pradesh",
         "orientation": "v",
         "showlegend": true,
         "type": "box",
         "x": [
          "Himachal Pradesh",
          "Himachal Pradesh",
          "Himachal Pradesh",
          "Himachal Pradesh",
          "Himachal Pradesh",
          "Himachal Pradesh",
          "Himachal Pradesh",
          "Himachal Pradesh",
          "Himachal Pradesh",
          "Himachal Pradesh"
         ],
         "x0": " ",
         "xaxis": "x",
         "y": [
          16.83,
          16.84,
          18.76,
          2.2,
          26.95,
          13.47,
          24.31,
          15.79,
          12.04,
          13.46
         ],
         "y0": " ",
         "yaxis": "y"
        },
        {
         "alignmentgroup": "True",
         "hovertemplate": "Region=%{x}<br> Estimated Unemployment Rate (%)=%{y}<extra></extra>",
         "legendgroup": "Jammu & Kashmir",
         "marker": {
          "color": "#FECB52"
         },
         "name": "Jammu & Kashmir",
         "notched": false,
         "offsetgroup": "Jammu & Kashmir",
         "orientation": "v",
         "showlegend": true,
         "type": "box",
         "x": [
          "Jammu & Kashmir",
          "Jammu & Kashmir",
          "Jammu & Kashmir",
          "Jammu & Kashmir",
          "Jammu & Kashmir",
          "Jammu & Kashmir",
          "Jammu & Kashmir",
          "Jammu & Kashmir",
          "Jammu & Kashmir"
         ],
         "x0": " ",
         "xaxis": "x",
         "y": [
          21.08,
          20.78,
          15.5,
          18.74,
          17.92,
          10.88,
          11.09,
          16.17,
          16.14
         ],
         "y0": " ",
         "yaxis": "y"
        },
        {
         "alignmentgroup": "True",
         "hovertemplate": "Region=%{x}<br> Estimated Unemployment Rate (%)=%{y}<extra></extra>",
         "legendgroup": "Jharkhand",
         "marker": {
          "color": "#636efa"
         },
         "name": "Jharkhand",
         "notched": false,
         "offsetgroup": "Jharkhand",
         "orientation": "v",
         "showlegend": true,
         "type": "box",
         "x": [
          "Jharkhand",
          "Jharkhand",
          "Jharkhand",
          "Jharkhand",
          "Jharkhand",
          "Jharkhand",
          "Jharkhand",
          "Jharkhand",
          "Jharkhand",
          "Jharkhand"
         ],
         "x0": " ",
         "xaxis": "x",
         "y": [
          10.61,
          11.85,
          8.23,
          47.09,
          59.23,
          20.95,
          7.63,
          9.76,
          8.24,
          11.8
         ],
         "y0": " ",
         "yaxis": "y"
        },
        {
         "alignmentgroup": "True",
         "hovertemplate": "Region=%{x}<br> Estimated Unemployment Rate (%)=%{y}<extra></extra>",
         "legendgroup": "Karnataka",
         "marker": {
          "color": "#EF553B"
         },
         "name": "Karnataka",
         "notched": false,
         "offsetgroup": "Karnataka",
         "orientation": "v",
         "showlegend": true,
         "type": "box",
         "x": [
          "Karnataka",
          "Karnataka",
          "Karnataka",
          "Karnataka",
          "Karnataka",
          "Karnataka",
          "Karnataka",
          "Karnataka",
          "Karnataka",
          "Karnataka"
         ],
         "x0": " ",
         "xaxis": "x",
         "y": [
          2.86,
          3.61,
          3.46,
          29.84,
          19.97,
          8.44,
          4.01,
          0.5,
          2.41,
          1.58
         ],
         "y0": " ",
         "yaxis": "y"
        },
        {
         "alignmentgroup": "True",
         "hovertemplate": "Region=%{x}<br> Estimated Unemployment Rate (%)=%{y}<extra></extra>",
         "legendgroup": "Kerala",
         "marker": {
          "color": "#00cc96"
         },
         "name": "Kerala",
         "notched": false,
         "offsetgroup": "Kerala",
         "orientation": "v",
         "showlegend": true,
         "type": "box",
         "x": [
          "Kerala",
          "Kerala",
          "Kerala",
          "Kerala",
          "Kerala",
          "Kerala",
          "Kerala",
          "Kerala",
          "Kerala",
          "Kerala"
         ],
         "x0": " ",
         "xaxis": "x",
         "y": [
          5.31,
          7.6,
          8.99,
          16.99,
          17.88,
          9.71,
          7.09,
          10.98,
          5.91,
          3.88
         ],
         "y0": " ",
         "yaxis": "y"
        },
        {
         "alignmentgroup": "True",
         "hovertemplate": "Region=%{x}<br> Estimated Unemployment Rate (%)=%{y}<extra></extra>",
         "legendgroup": "Madhya Pradesh",
         "marker": {
          "color": "#ab63fa"
         },
         "name": "Madhya Pradesh",
         "notched": false,
         "offsetgroup": "Madhya Pradesh",
         "orientation": "v",
         "showlegend": true,
         "type": "box",
         "x": [
          "Madhya Pradesh",
          "Madhya Pradesh",
          "Madhya Pradesh",
          "Madhya Pradesh",
          "Madhya Pradesh",
          "Madhya Pradesh",
          "Madhya Pradesh",
          "Madhya Pradesh",
          "Madhya Pradesh",
          "Madhya Pradesh"
         ],
         "x0": " ",
         "xaxis": "x",
         "y": [
          4.11,
          4.57,
          2.22,
          12.36,
          21.98,
          6.48,
          5.08,
          4.7,
          3.91,
          3.13
         ],
         "y0": " ",
         "yaxis": "y"
        },
        {
         "alignmentgroup": "True",
         "hovertemplate": "Region=%{x}<br> Estimated Unemployment Rate (%)=%{y}<extra></extra>",
         "legendgroup": "Maharashtra",
         "marker": {
          "color": "#FFA15A"
         },
         "name": "Maharashtra",
         "notched": false,
         "offsetgroup": "Maharashtra",
         "orientation": "v",
         "showlegend": true,
         "type": "box",
         "x": [
          "Maharashtra",
          "Maharashtra",
          "Maharashtra",
          "Maharashtra",
          "Maharashtra",
          "Maharashtra",
          "Maharashtra",
          "Maharashtra",
          "Maharashtra",
          "Maharashtra"
         ],
         "x0": " ",
         "xaxis": "x",
         "y": [
          4.95,
          4.69,
          5.79,
          20.9,
          15.46,
          9.23,
          3.89,
          6.23,
          4.55,
          4.1
         ],
         "y0": " ",
         "yaxis": "y"
        },
        {
         "alignmentgroup": "True",
         "hovertemplate": "Region=%{x}<br> Estimated Unemployment Rate (%)=%{y}<extra></extra>",
         "legendgroup": "Meghalaya",
         "marker": {
          "color": "#19d3f3"
         },
         "name": "Meghalaya",
         "notched": false,
         "offsetgroup": "Meghalaya",
         "orientation": "v",
         "showlegend": true,
         "type": "box",
         "x": [
          "Meghalaya",
          "Meghalaya",
          "Meghalaya",
          "Meghalaya",
          "Meghalaya",
          "Meghalaya",
          "Meghalaya",
          "Meghalaya",
          "Meghalaya",
          "Meghalaya"
         ],
         "x0": " ",
         "xaxis": "x",
         "y": [
          1.66,
          3.59,
          1.58,
          10.03,
          5.92,
          1.15,
          2.1,
          3.74,
          4.29,
          4.6
         ],
         "y0": " ",
         "yaxis": "y"
        },
        {
         "alignmentgroup": "True",
         "hovertemplate": "Region=%{x}<br> Estimated Unemployment Rate (%)=%{y}<extra></extra>",
         "legendgroup": "Odisha",
         "marker": {
          "color": "#FF6692"
         },
         "name": "Odisha",
         "notched": false,
         "offsetgroup": "Odisha",
         "orientation": "v",
         "showlegend": true,
         "type": "box",
         "x": [
          "Odisha",
          "Odisha",
          "Odisha",
          "Odisha",
          "Odisha",
          "Odisha",
          "Odisha",
          "Odisha",
          "Odisha",
          "Odisha"
         ],
         "x0": " ",
         "xaxis": "x",
         "y": [
          1.9,
          3.12,
          13.08,
          23.76,
          11.41,
          3.77,
          1.88,
          1.42,
          2.1,
          2.18
         ],
         "y0": " ",
         "yaxis": "y"
        },
        {
         "alignmentgroup": "True",
         "hovertemplate": "Region=%{x}<br> Estimated Unemployment Rate (%)=%{y}<extra></extra>",
         "legendgroup": "Puducherry",
         "marker": {
          "color": "#B6E880"
         },
         "name": "Puducherry",
         "notched": false,
         "offsetgroup": "Puducherry",
         "orientation": "v",
         "showlegend": true,
         "type": "box",
         "x": [
          "Puducherry",
          "Puducherry",
          "Puducherry",
          "Puducherry",
          "Puducherry",
          "Puducherry",
          "Puducherry",
          "Puducherry",
          "Puducherry",
          "Puducherry"
         ],
         "x0": " ",
         "xaxis": "x",
         "y": [
          0.58,
          1.76,
          1.2,
          75.85,
          58.19,
          4.24,
          15.47,
          5.05,
          10.9,
          6.18
         ],
         "y0": " ",
         "yaxis": "y"
        },
        {
         "alignmentgroup": "True",
         "hovertemplate": "Region=%{x}<br> Estimated Unemployment Rate (%)=%{y}<extra></extra>",
         "legendgroup": "Punjab",
         "marker": {
          "color": "#FF97FF"
         },
         "name": "Punjab",
         "notched": false,
         "offsetgroup": "Punjab",
         "orientation": "v",
         "showlegend": true,
         "type": "box",
         "x": [
          "Punjab",
          "Punjab",
          "Punjab",
          "Punjab",
          "Punjab",
          "Punjab",
          "Punjab",
          "Punjab",
          "Punjab",
          "Punjab"
         ],
         "x0": " ",
         "xaxis": "x",
         "y": [
          11.11,
          10.97,
          10.32,
          2.86,
          28.33,
          16.55,
          9.19,
          10.99,
          9.61,
          9.88
         ],
         "y0": " ",
         "yaxis": "y"
        },
        {
         "alignmentgroup": "True",
         "hovertemplate": "Region=%{x}<br> Estimated Unemployment Rate (%)=%{y}<extra></extra>",
         "legendgroup": "Rajasthan",
         "marker": {
          "color": "#FECB52"
         },
         "name": "Rajasthan",
         "notched": false,
         "offsetgroup": "Rajasthan",
         "orientation": "v",
         "showlegend": true,
         "type": "box",
         "x": [
          "Rajasthan",
          "Rajasthan",
          "Rajasthan",
          "Rajasthan",
          "Rajasthan",
          "Rajasthan",
          "Rajasthan",
          "Rajasthan",
          "Rajasthan",
          "Rajasthan"
         ],
         "x0": " ",
         "xaxis": "x",
         "y": [
          10.97,
          15.16,
          11.9,
          17.7,
          15.74,
          14.39,
          15.81,
          17.51,
          15.35,
          24.15
         ],
         "y0": " ",
         "yaxis": "y"
        },
        {
         "alignmentgroup": "True",
         "hovertemplate": "Region=%{x}<br> Estimated Unemployment Rate (%)=%{y}<extra></extra>",
         "legendgroup": "Sikkim",
         "marker": {
          "color": "#636efa"
         },
         "name": "Sikkim",
         "notched": false,
         "offsetgroup": "Sikkim",
         "orientation": "v",
         "showlegend": true,
         "type": "box",
         "x": [
          "Sikkim",
          "Sikkim",
          "Sikkim",
          "Sikkim",
          "Sikkim",
          "Sikkim",
          "Sikkim",
          "Sikkim"
         ],
         "x0": " ",
         "xaxis": "x",
         "y": [
          23.57,
          2.28,
          24.51,
          4.46,
          4.45,
          12.49,
          5.7,
          0.88
         ],
         "y0": " ",
         "yaxis": "y"
        },
        {
         "alignmentgroup": "True",
         "hovertemplate": "Region=%{x}<br> Estimated Unemployment Rate (%)=%{y}<extra></extra>",
         "legendgroup": "Tamil Nadu",
         "marker": {
          "color": "#EF553B"
         },
         "name": "Tamil Nadu",
         "notched": false,
         "offsetgroup": "Tamil Nadu",
         "orientation": "v",
         "showlegend": true,
         "type": "box",
         "x": [
          "Tamil Nadu",
          "Tamil Nadu",
          "Tamil Nadu",
          "Tamil Nadu",
          "Tamil Nadu",
          "Tamil Nadu",
          "Tamil Nadu",
          "Tamil Nadu",
          "Tamil Nadu",
          "Tamil Nadu"
         ],
         "x0": " ",
         "xaxis": "x",
         "y": [
          1.57,
          2.09,
          6.4,
          49.83,
          33.16,
          12.2,
          6.81,
          2.65,
          5,
          2.16
         ],
         "y0": " ",
         "yaxis": "y"
        },
        {
         "alignmentgroup": "True",
         "hovertemplate": "Region=%{x}<br> Estimated Unemployment Rate (%)=%{y}<extra></extra>",
         "legendgroup": "Telangana",
         "marker": {
          "color": "#00cc96"
         },
         "name": "Telangana",
         "notched": false,
         "offsetgroup": "Telangana",
         "orientation": "v",
         "showlegend": true,
         "type": "box",
         "x": [
          "Telangana",
          "Telangana",
          "Telangana",
          "Telangana",
          "Telangana",
          "Telangana",
          "Telangana",
          "Telangana",
          "Telangana",
          "Telangana"
         ],
         "x0": " ",
         "xaxis": "x",
         "y": [
          5.49,
          8.29,
          5.77,
          6.25,
          14.7,
          10.55,
          5.36,
          5.79,
          3.27,
          2.86
         ],
         "y0": " ",
         "yaxis": "y"
        },
        {
         "alignmentgroup": "True",
         "hovertemplate": "Region=%{x}<br> Estimated Unemployment Rate (%)=%{y}<extra></extra>",
         "legendgroup": "Tripura",
         "marker": {
          "color": "#ab63fa"
         },
         "name": "Tripura",
         "notched": false,
         "offsetgroup": "Tripura",
         "orientation": "v",
         "showlegend": true,
         "type": "box",
         "x": [
          "Tripura",
          "Tripura",
          "Tripura",
          "Tripura",
          "Tripura",
          "Tripura",
          "Tripura",
          "Tripura",
          "Tripura",
          "Tripura"
         ],
         "x0": " ",
         "xaxis": "x",
         "y": [
          32.67,
          28.4,
          29.95,
          41.23,
          21.51,
          21.71,
          18.24,
          27.92,
          17.35,
          11.57
         ],
         "y0": " ",
         "yaxis": "y"
        },
        {
         "alignmentgroup": "True",
         "hovertemplate": "Region=%{x}<br> Estimated Unemployment Rate (%)=%{y}<extra></extra>",
         "legendgroup": "Uttar Pradesh",
         "marker": {
          "color": "#FFA15A"
         },
         "name": "Uttar Pradesh",
         "notched": false,
         "offsetgroup": "Uttar Pradesh",
         "orientation": "v",
         "showlegend": true,
         "type": "box",
         "x": [
          "Uttar Pradesh",
          "Uttar Pradesh",
          "Uttar Pradesh",
          "Uttar Pradesh",
          "Uttar Pradesh",
          "Uttar Pradesh",
          "Uttar Pradesh",
          "Uttar Pradesh",
          "Uttar Pradesh",
          "Uttar Pradesh"
         ],
         "x0": " ",
         "xaxis": "x",
         "y": [
          7.58,
          8.98,
          10.11,
          21.54,
          20.41,
          9.47,
          5.56,
          5.79,
          4.18,
          3.75
         ],
         "y0": " ",
         "yaxis": "y"
        },
        {
         "alignmentgroup": "True",
         "hovertemplate": "Region=%{x}<br> Estimated Unemployment Rate (%)=%{y}<extra></extra>",
         "legendgroup": "Uttarakhand",
         "marker": {
          "color": "#19d3f3"
         },
         "name": "Uttarakhand",
         "notched": false,
         "offsetgroup": "Uttarakhand",
         "orientation": "v",
         "showlegend": true,
         "type": "box",
         "x": [
          "Uttarakhand",
          "Uttarakhand",
          "Uttarakhand",
          "Uttarakhand",
          "Uttarakhand",
          "Uttarakhand",
          "Uttarakhand",
          "Uttarakhand",
          "Uttarakhand",
          "Uttarakhand"
         ],
         "x0": " ",
         "xaxis": "x",
         "y": [
          5.49,
          4.99,
          19.85,
          6.48,
          8.01,
          8.61,
          12.38,
          14.26,
          22.26,
          9.23
         ],
         "y0": " ",
         "yaxis": "y"
        },
        {
         "alignmentgroup": "True",
         "hovertemplate": "Region=%{x}<br> Estimated Unemployment Rate (%)=%{y}<extra></extra>",
         "legendgroup": "West Bengal",
         "marker": {
          "color": "#FF6692"
         },
         "name": "West Bengal",
         "notched": false,
         "offsetgroup": "West Bengal",
         "orientation": "v",
         "showlegend": true,
         "type": "box",
         "x": [
          "West Bengal",
          "West Bengal",
          "West Bengal",
          "West Bengal",
          "West Bengal",
          "West Bengal",
          "West Bengal",
          "West Bengal",
          "West Bengal",
          "West Bengal"
         ],
         "x0": " ",
         "xaxis": "x",
         "y": [
          6.94,
          4.92,
          6.92,
          17.41,
          17.41,
          7.29,
          6.83,
          14.87,
          9.35,
          9.98
         ],
         "y0": " ",
         "yaxis": "y"
        }
       ],
       "layout": {
        "boxmode": "overlay",
        "legend": {
         "title": {
          "text": "Region"
         },
         "tracegroupgap": 0
        },
        "template": {
         "data": {
          "bar": [
           {
            "error_x": {
             "color": "#2a3f5f"
            },
            "error_y": {
             "color": "#2a3f5f"
            },
            "marker": {
             "line": {
              "color": "#E5ECF6",
              "width": 0.5
             },
             "pattern": {
              "fillmode": "overlay",
              "size": 10,
              "solidity": 0.2
             }
            },
            "type": "bar"
           }
          ],
          "barpolar": [
           {
            "marker": {
             "line": {
              "color": "#E5ECF6",
              "width": 0.5
             },
             "pattern": {
              "fillmode": "overlay",
              "size": 10,
              "solidity": 0.2
             }
            },
            "type": "barpolar"
           }
          ],
          "carpet": [
           {
            "aaxis": {
             "endlinecolor": "#2a3f5f",
             "gridcolor": "white",
             "linecolor": "white",
             "minorgridcolor": "white",
             "startlinecolor": "#2a3f5f"
            },
            "baxis": {
             "endlinecolor": "#2a3f5f",
             "gridcolor": "white",
             "linecolor": "white",
             "minorgridcolor": "white",
             "startlinecolor": "#2a3f5f"
            },
            "type": "carpet"
           }
          ],
          "choropleth": [
           {
            "colorbar": {
             "outlinewidth": 0,
             "ticks": ""
            },
            "type": "choropleth"
           }
          ],
          "contour": [
           {
            "colorbar": {
             "outlinewidth": 0,
             "ticks": ""
            },
            "colorscale": [
             [
              0,
              "#0d0887"
             ],
             [
              0.1111111111111111,
              "#46039f"
             ],
             [
              0.2222222222222222,
              "#7201a8"
             ],
             [
              0.3333333333333333,
              "#9c179e"
             ],
             [
              0.4444444444444444,
              "#bd3786"
             ],
             [
              0.5555555555555556,
              "#d8576b"
             ],
             [
              0.6666666666666666,
              "#ed7953"
             ],
             [
              0.7777777777777778,
              "#fb9f3a"
             ],
             [
              0.8888888888888888,
              "#fdca26"
             ],
             [
              1,
              "#f0f921"
             ]
            ],
            "type": "contour"
           }
          ],
          "contourcarpet": [
           {
            "colorbar": {
             "outlinewidth": 0,
             "ticks": ""
            },
            "type": "contourcarpet"
           }
          ],
          "heatmap": [
           {
            "colorbar": {
             "outlinewidth": 0,
             "ticks": ""
            },
            "colorscale": [
             [
              0,
              "#0d0887"
             ],
             [
              0.1111111111111111,
              "#46039f"
             ],
             [
              0.2222222222222222,
              "#7201a8"
             ],
             [
              0.3333333333333333,
              "#9c179e"
             ],
             [
              0.4444444444444444,
              "#bd3786"
             ],
             [
              0.5555555555555556,
              "#d8576b"
             ],
             [
              0.6666666666666666,
              "#ed7953"
             ],
             [
              0.7777777777777778,
              "#fb9f3a"
             ],
             [
              0.8888888888888888,
              "#fdca26"
             ],
             [
              1,
              "#f0f921"
             ]
            ],
            "type": "heatmap"
           }
          ],
          "heatmapgl": [
           {
            "colorbar": {
             "outlinewidth": 0,
             "ticks": ""
            },
            "colorscale": [
             [
              0,
              "#0d0887"
             ],
             [
              0.1111111111111111,
              "#46039f"
             ],
             [
              0.2222222222222222,
              "#7201a8"
             ],
             [
              0.3333333333333333,
              "#9c179e"
             ],
             [
              0.4444444444444444,
              "#bd3786"
             ],
             [
              0.5555555555555556,
              "#d8576b"
             ],
             [
              0.6666666666666666,
              "#ed7953"
             ],
             [
              0.7777777777777778,
              "#fb9f3a"
             ],
             [
              0.8888888888888888,
              "#fdca26"
             ],
             [
              1,
              "#f0f921"
             ]
            ],
            "type": "heatmapgl"
           }
          ],
          "histogram": [
           {
            "marker": {
             "pattern": {
              "fillmode": "overlay",
              "size": 10,
              "solidity": 0.2
             }
            },
            "type": "histogram"
           }
          ],
          "histogram2d": [
           {
            "colorbar": {
             "outlinewidth": 0,
             "ticks": ""
            },
            "colorscale": [
             [
              0,
              "#0d0887"
             ],
             [
              0.1111111111111111,
              "#46039f"
             ],
             [
              0.2222222222222222,
              "#7201a8"
             ],
             [
              0.3333333333333333,
              "#9c179e"
             ],
             [
              0.4444444444444444,
              "#bd3786"
             ],
             [
              0.5555555555555556,
              "#d8576b"
             ],
             [
              0.6666666666666666,
              "#ed7953"
             ],
             [
              0.7777777777777778,
              "#fb9f3a"
             ],
             [
              0.8888888888888888,
              "#fdca26"
             ],
             [
              1,
              "#f0f921"
             ]
            ],
            "type": "histogram2d"
           }
          ],
          "histogram2dcontour": [
           {
            "colorbar": {
             "outlinewidth": 0,
             "ticks": ""
            },
            "colorscale": [
             [
              0,
              "#0d0887"
             ],
             [
              0.1111111111111111,
              "#46039f"
             ],
             [
              0.2222222222222222,
              "#7201a8"
             ],
             [
              0.3333333333333333,
              "#9c179e"
             ],
             [
              0.4444444444444444,
              "#bd3786"
             ],
             [
              0.5555555555555556,
              "#d8576b"
             ],
             [
              0.6666666666666666,
              "#ed7953"
             ],
             [
              0.7777777777777778,
              "#fb9f3a"
             ],
             [
              0.8888888888888888,
              "#fdca26"
             ],
             [
              1,
              "#f0f921"
             ]
            ],
            "type": "histogram2dcontour"
           }
          ],
          "mesh3d": [
           {
            "colorbar": {
             "outlinewidth": 0,
             "ticks": ""
            },
            "type": "mesh3d"
           }
          ],
          "parcoords": [
           {
            "line": {
             "colorbar": {
              "outlinewidth": 0,
              "ticks": ""
             }
            },
            "type": "parcoords"
           }
          ],
          "pie": [
           {
            "automargin": true,
            "type": "pie"
           }
          ],
          "scatter": [
           {
            "fillpattern": {
             "fillmode": "overlay",
             "size": 10,
             "solidity": 0.2
            },
            "type": "scatter"
           }
          ],
          "scatter3d": [
           {
            "line": {
             "colorbar": {
              "outlinewidth": 0,
              "ticks": ""
             }
            },
            "marker": {
             "colorbar": {
              "outlinewidth": 0,
              "ticks": ""
             }
            },
            "type": "scatter3d"
           }
          ],
          "scattercarpet": [
           {
            "marker": {
             "colorbar": {
              "outlinewidth": 0,
              "ticks": ""
             }
            },
            "type": "scattercarpet"
           }
          ],
          "scattergeo": [
           {
            "marker": {
             "colorbar": {
              "outlinewidth": 0,
              "ticks": ""
             }
            },
            "type": "scattergeo"
           }
          ],
          "scattergl": [
           {
            "marker": {
             "colorbar": {
              "outlinewidth": 0,
              "ticks": ""
             }
            },
            "type": "scattergl"
           }
          ],
          "scattermapbox": [
           {
            "marker": {
             "colorbar": {
              "outlinewidth": 0,
              "ticks": ""
             }
            },
            "type": "scattermapbox"
           }
          ],
          "scatterpolar": [
           {
            "marker": {
             "colorbar": {
              "outlinewidth": 0,
              "ticks": ""
             }
            },
            "type": "scatterpolar"
           }
          ],
          "scatterpolargl": [
           {
            "marker": {
             "colorbar": {
              "outlinewidth": 0,
              "ticks": ""
             }
            },
            "type": "scatterpolargl"
           }
          ],
          "scatterternary": [
           {
            "marker": {
             "colorbar": {
              "outlinewidth": 0,
              "ticks": ""
             }
            },
            "type": "scatterternary"
           }
          ],
          "surface": [
           {
            "colorbar": {
             "outlinewidth": 0,
             "ticks": ""
            },
            "colorscale": [
             [
              0,
              "#0d0887"
             ],
             [
              0.1111111111111111,
              "#46039f"
             ],
             [
              0.2222222222222222,
              "#7201a8"
             ],
             [
              0.3333333333333333,
              "#9c179e"
             ],
             [
              0.4444444444444444,
              "#bd3786"
             ],
             [
              0.5555555555555556,
              "#d8576b"
             ],
             [
              0.6666666666666666,
              "#ed7953"
             ],
             [
              0.7777777777777778,
              "#fb9f3a"
             ],
             [
              0.8888888888888888,
              "#fdca26"
             ],
             [
              1,
              "#f0f921"
             ]
            ],
            "type": "surface"
           }
          ],
          "table": [
           {
            "cells": {
             "fill": {
              "color": "#EBF0F8"
             },
             "line": {
              "color": "white"
             }
            },
            "header": {
             "fill": {
              "color": "#C8D4E3"
             },
             "line": {
              "color": "white"
             }
            },
            "type": "table"
           }
          ]
         },
         "layout": {
          "annotationdefaults": {
           "arrowcolor": "#2a3f5f",
           "arrowhead": 0,
           "arrowwidth": 1
          },
          "autotypenumbers": "strict",
          "coloraxis": {
           "colorbar": {
            "outlinewidth": 0,
            "ticks": ""
           }
          },
          "colorscale": {
           "diverging": [
            [
             0,
             "#8e0152"
            ],
            [
             0.1,
             "#c51b7d"
            ],
            [
             0.2,
             "#de77ae"
            ],
            [
             0.3,
             "#f1b6da"
            ],
            [
             0.4,
             "#fde0ef"
            ],
            [
             0.5,
             "#f7f7f7"
            ],
            [
             0.6,
             "#e6f5d0"
            ],
            [
             0.7,
             "#b8e186"
            ],
            [
             0.8,
             "#7fbc41"
            ],
            [
             0.9,
             "#4d9221"
            ],
            [
             1,
             "#276419"
            ]
           ],
           "sequential": [
            [
             0,
             "#0d0887"
            ],
            [
             0.1111111111111111,
             "#46039f"
            ],
            [
             0.2222222222222222,
             "#7201a8"
            ],
            [
             0.3333333333333333,
             "#9c179e"
            ],
            [
             0.4444444444444444,
             "#bd3786"
            ],
            [
             0.5555555555555556,
             "#d8576b"
            ],
            [
             0.6666666666666666,
             "#ed7953"
            ],
            [
             0.7777777777777778,
             "#fb9f3a"
            ],
            [
             0.8888888888888888,
             "#fdca26"
            ],
            [
             1,
             "#f0f921"
            ]
           ],
           "sequentialminus": [
            [
             0,
             "#0d0887"
            ],
            [
             0.1111111111111111,
             "#46039f"
            ],
            [
             0.2222222222222222,
             "#7201a8"
            ],
            [
             0.3333333333333333,
             "#9c179e"
            ],
            [
             0.4444444444444444,
             "#bd3786"
            ],
            [
             0.5555555555555556,
             "#d8576b"
            ],
            [
             0.6666666666666666,
             "#ed7953"
            ],
            [
             0.7777777777777778,
             "#fb9f3a"
            ],
            [
             0.8888888888888888,
             "#fdca26"
            ],
            [
             1,
             "#f0f921"
            ]
           ]
          },
          "colorway": [
           "#636efa",
           "#EF553B",
           "#00cc96",
           "#ab63fa",
           "#FFA15A",
           "#19d3f3",
           "#FF6692",
           "#B6E880",
           "#FF97FF",
           "#FECB52"
          ],
          "font": {
           "color": "#2a3f5f"
          },
          "geo": {
           "bgcolor": "white",
           "lakecolor": "white",
           "landcolor": "#E5ECF6",
           "showlakes": true,
           "showland": true,
           "subunitcolor": "white"
          },
          "hoverlabel": {
           "align": "left"
          },
          "hovermode": "closest",
          "mapbox": {
           "style": "light"
          },
          "paper_bgcolor": "white",
          "plot_bgcolor": "#E5ECF6",
          "polar": {
           "angularaxis": {
            "gridcolor": "white",
            "linecolor": "white",
            "ticks": ""
           },
           "bgcolor": "#E5ECF6",
           "radialaxis": {
            "gridcolor": "white",
            "linecolor": "white",
            "ticks": ""
           }
          },
          "scene": {
           "xaxis": {
            "backgroundcolor": "#E5ECF6",
            "gridcolor": "white",
            "gridwidth": 2,
            "linecolor": "white",
            "showbackground": true,
            "ticks": "",
            "zerolinecolor": "white"
           },
           "yaxis": {
            "backgroundcolor": "#E5ECF6",
            "gridcolor": "white",
            "gridwidth": 2,
            "linecolor": "white",
            "showbackground": true,
            "ticks": "",
            "zerolinecolor": "white"
           },
           "zaxis": {
            "backgroundcolor": "#E5ECF6",
            "gridcolor": "white",
            "gridwidth": 2,
            "linecolor": "white",
            "showbackground": true,
            "ticks": "",
            "zerolinecolor": "white"
           }
          },
          "shapedefaults": {
           "line": {
            "color": "#2a3f5f"
           }
          },
          "ternary": {
           "aaxis": {
            "gridcolor": "white",
            "linecolor": "white",
            "ticks": ""
           },
           "baxis": {
            "gridcolor": "white",
            "linecolor": "white",
            "ticks": ""
           },
           "bgcolor": "#E5ECF6",
           "caxis": {
            "gridcolor": "white",
            "linecolor": "white",
            "ticks": ""
           }
          },
          "title": {
           "x": 0.05
          },
          "xaxis": {
           "automargin": true,
           "gridcolor": "white",
           "linecolor": "white",
           "ticks": "",
           "title": {
            "standoff": 15
           },
           "zerolinecolor": "white",
           "zerolinewidth": 2
          },
          "yaxis": {
           "automargin": true,
           "gridcolor": "white",
           "linecolor": "white",
           "ticks": "",
           "title": {
            "standoff": 15
           },
           "zerolinecolor": "white",
           "zerolinewidth": 2
          }
         }
        },
        "title": {
         "text": "Unemployment Rate State Wise"
        },
        "xaxis": {
         "anchor": "y",
         "categoryarray": [
          "Andhra Pradesh",
          "Assam",
          "Bihar",
          "Chhattisgarh",
          "Delhi",
          "Goa",
          "Gujarat",
          "Haryana",
          "Himachal Pradesh",
          "Jammu & Kashmir",
          "Jharkhand",
          "Karnataka",
          "Kerala",
          "Madhya Pradesh",
          "Maharashtra",
          "Meghalaya",
          "Odisha",
          "Puducherry",
          "Punjab",
          "Rajasthan",
          "Sikkim",
          "Tamil Nadu",
          "Telangana",
          "Tripura",
          "Uttar Pradesh",
          "Uttarakhand",
          "West Bengal"
         ],
         "categoryorder": "total ascending",
         "domain": [
          0,
          1
         ],
         "title": {
          "text": "Region"
         }
        },
        "yaxis": {
         "anchor": "x",
         "domain": [
          0,
          1
         ],
         "title": {
          "text": " Estimated Unemployment Rate (%)"
         }
        }
       }
      },
      "text/html": [
       "<div>                            <div id=\"c1c2d522-e888-4467-a7d1-22cdab8919e6\" class=\"plotly-graph-div\" style=\"height:525px; width:100%;\"></div>            <script type=\"text/javascript\">                require([\"plotly\"], function(Plotly) {                    window.PLOTLYENV=window.PLOTLYENV || {};                                    if (document.getElementById(\"c1c2d522-e888-4467-a7d1-22cdab8919e6\")) {                    Plotly.newPlot(                        \"c1c2d522-e888-4467-a7d1-22cdab8919e6\",                        [{\"alignmentgroup\":\"True\",\"hovertemplate\":\"Region=%{x}<br> Estimated Unemployment Rate (%)=%{y}<extra></extra>\",\"legendgroup\":\"Andhra Pradesh\",\"marker\":{\"color\":\"#636efa\"},\"name\":\"Andhra Pradesh\",\"notched\":false,\"offsetgroup\":\"Andhra Pradesh\",\"orientation\":\"v\",\"showlegend\":true,\"x\":[\"Andhra Pradesh\",\"Andhra Pradesh\",\"Andhra Pradesh\",\"Andhra Pradesh\",\"Andhra Pradesh\",\"Andhra Pradesh\",\"Andhra Pradesh\",\"Andhra Pradesh\",\"Andhra Pradesh\",\"Andhra Pradesh\"],\"x0\":\" \",\"xaxis\":\"x\",\"y\":[5.48,5.83,5.79,20.51,17.43,3.31,8.34,6.96,6.4,6.59],\"y0\":\" \",\"yaxis\":\"y\",\"type\":\"box\"},{\"alignmentgroup\":\"True\",\"hovertemplate\":\"Region=%{x}<br> Estimated Unemployment Rate (%)=%{y}<extra></extra>\",\"legendgroup\":\"Assam\",\"marker\":{\"color\":\"#EF553B\"},\"name\":\"Assam\",\"notched\":false,\"offsetgroup\":\"Assam\",\"orientation\":\"v\",\"showlegend\":true,\"x\":[\"Assam\",\"Assam\",\"Assam\",\"Assam\",\"Assam\",\"Assam\",\"Assam\",\"Assam\",\"Assam\",\"Assam\"],\"x0\":\" \",\"xaxis\":\"x\",\"y\":[4.66,4.41,4.77,11.06,9.55,0.6,3.77,5.53,1.19,3.02],\"y0\":\" \",\"yaxis\":\"y\",\"type\":\"box\"},{\"alignmentgroup\":\"True\",\"hovertemplate\":\"Region=%{x}<br> Estimated Unemployment Rate (%)=%{y}<extra></extra>\",\"legendgroup\":\"Bihar\",\"marker\":{\"color\":\"#00cc96\"},\"name\":\"Bihar\",\"notched\":false,\"offsetgroup\":\"Bihar\",\"orientation\":\"v\",\"showlegend\":true,\"x\":[\"Bihar\",\"Bihar\",\"Bihar\",\"Bihar\",\"Bihar\",\"Bihar\",\"Bihar\",\"Bihar\",\"Bihar\",\"Bihar\"],\"x0\":\" \",\"xaxis\":\"x\",\"y\":[10.61,10.29,15.43,46.64,45.96,17.82,12.79,13.44,11.91,9.82],\"y0\":\" \",\"yaxis\":\"y\",\"type\":\"box\"},{\"alignmentgroup\":\"True\",\"hovertemplate\":\"Region=%{x}<br> Estimated Unemployment Rate (%)=%{y}<extra></extra>\",\"legendgroup\":\"Chhattisgarh\",\"marker\":{\"color\":\"#ab63fa\"},\"name\":\"Chhattisgarh\",\"notched\":false,\"offsetgroup\":\"Chhattisgarh\",\"orientation\":\"v\",\"showlegend\":true,\"x\":[\"Chhattisgarh\",\"Chhattisgarh\",\"Chhattisgarh\",\"Chhattisgarh\",\"Chhattisgarh\",\"Chhattisgarh\",\"Chhattisgarh\",\"Chhattisgarh\",\"Chhattisgarh\",\"Chhattisgarh\"],\"x0\":\" \",\"xaxis\":\"x\",\"y\":[9.65,8.38,7.54,3.41,10.5,14.23,10.27,5.63,1.96,6.62],\"y0\":\" \",\"yaxis\":\"y\",\"type\":\"box\"},{\"alignmentgroup\":\"True\",\"hovertemplate\":\"Region=%{x}<br> Estimated Unemployment Rate (%)=%{y}<extra></extra>\",\"legendgroup\":\"Delhi\",\"marker\":{\"color\":\"#FFA15A\"},\"name\":\"Delhi\",\"notched\":false,\"offsetgroup\":\"Delhi\",\"orientation\":\"v\",\"showlegend\":true,\"x\":[\"Delhi\",\"Delhi\",\"Delhi\",\"Delhi\",\"Delhi\",\"Delhi\",\"Delhi\",\"Delhi\",\"Delhi\",\"Delhi\"],\"x0\":\" \",\"xaxis\":\"x\",\"y\":[22.23,14.84,17.04,16.68,42.27,18.19,20.3,13.79,12.53,6.27],\"y0\":\" \",\"yaxis\":\"y\",\"type\":\"box\"},{\"alignmentgroup\":\"True\",\"hovertemplate\":\"Region=%{x}<br> Estimated Unemployment Rate (%)=%{y}<extra></extra>\",\"legendgroup\":\"Goa\",\"marker\":{\"color\":\"#19d3f3\"},\"name\":\"Goa\",\"notched\":false,\"offsetgroup\":\"Goa\",\"orientation\":\"v\",\"showlegend\":true,\"x\":[\"Goa\",\"Goa\",\"Goa\",\"Goa\",\"Goa\",\"Goa\",\"Goa\",\"Goa\",\"Goa\",\"Goa\"],\"x0\":\" \",\"xaxis\":\"x\",\"y\":[8.89,2.81,5.25,13.31,21.25,9.96,17.07,16.21,15.38,11.54],\"y0\":\" \",\"yaxis\":\"y\",\"type\":\"box\"},{\"alignmentgroup\":\"True\",\"hovertemplate\":\"Region=%{x}<br> Estimated Unemployment Rate (%)=%{y}<extra></extra>\",\"legendgroup\":\"Gujarat\",\"marker\":{\"color\":\"#FF6692\"},\"name\":\"Gujarat\",\"notched\":false,\"offsetgroup\":\"Gujarat\",\"orientation\":\"v\",\"showlegend\":true,\"x\":[\"Gujarat\",\"Gujarat\",\"Gujarat\",\"Gujarat\",\"Gujarat\",\"Gujarat\",\"Gujarat\",\"Gujarat\",\"Gujarat\",\"Gujarat\"],\"x0\":\" \",\"xaxis\":\"x\",\"y\":[5.54,6.38,6.66,18.71,12.11,3.2,1.84,1.87,3.42,4.03],\"y0\":\" \",\"yaxis\":\"y\",\"type\":\"box\"},{\"alignmentgroup\":\"True\",\"hovertemplate\":\"Region=%{x}<br> Estimated Unemployment Rate (%)=%{y}<extra></extra>\",\"legendgroup\":\"Haryana\",\"marker\":{\"color\":\"#B6E880\"},\"name\":\"Haryana\",\"notched\":false,\"offsetgroup\":\"Haryana\",\"orientation\":\"v\",\"showlegend\":true,\"x\":[\"Haryana\",\"Haryana\",\"Haryana\",\"Haryana\",\"Haryana\",\"Haryana\",\"Haryana\",\"Haryana\",\"Haryana\",\"Haryana\"],\"x0\":\" \",\"xaxis\":\"x\",\"y\":[20.34,25.77,25.05,43.22,29.02,26.7,24.18,33.5,19.68,27.31],\"y0\":\" \",\"yaxis\":\"y\",\"type\":\"box\"},{\"alignmentgroup\":\"True\",\"hovertemplate\":\"Region=%{x}<br> Estimated Unemployment Rate (%)=%{y}<extra></extra>\",\"legendgroup\":\"Himachal Pradesh\",\"marker\":{\"color\":\"#FF97FF\"},\"name\":\"Himachal Pradesh\",\"notched\":false,\"offsetgroup\":\"Himachal Pradesh\",\"orientation\":\"v\",\"showlegend\":true,\"x\":[\"Himachal Pradesh\",\"Himachal Pradesh\",\"Himachal Pradesh\",\"Himachal Pradesh\",\"Himachal Pradesh\",\"Himachal Pradesh\",\"Himachal Pradesh\",\"Himachal Pradesh\",\"Himachal Pradesh\",\"Himachal Pradesh\"],\"x0\":\" \",\"xaxis\":\"x\",\"y\":[16.83,16.84,18.76,2.2,26.95,13.47,24.31,15.79,12.04,13.46],\"y0\":\" \",\"yaxis\":\"y\",\"type\":\"box\"},{\"alignmentgroup\":\"True\",\"hovertemplate\":\"Region=%{x}<br> Estimated Unemployment Rate (%)=%{y}<extra></extra>\",\"legendgroup\":\"Jammu & Kashmir\",\"marker\":{\"color\":\"#FECB52\"},\"name\":\"Jammu & Kashmir\",\"notched\":false,\"offsetgroup\":\"Jammu & Kashmir\",\"orientation\":\"v\",\"showlegend\":true,\"x\":[\"Jammu & Kashmir\",\"Jammu & Kashmir\",\"Jammu & Kashmir\",\"Jammu & Kashmir\",\"Jammu & Kashmir\",\"Jammu & Kashmir\",\"Jammu & Kashmir\",\"Jammu & Kashmir\",\"Jammu & Kashmir\"],\"x0\":\" \",\"xaxis\":\"x\",\"y\":[21.08,20.78,15.5,18.74,17.92,10.88,11.09,16.17,16.14],\"y0\":\" \",\"yaxis\":\"y\",\"type\":\"box\"},{\"alignmentgroup\":\"True\",\"hovertemplate\":\"Region=%{x}<br> Estimated Unemployment Rate (%)=%{y}<extra></extra>\",\"legendgroup\":\"Jharkhand\",\"marker\":{\"color\":\"#636efa\"},\"name\":\"Jharkhand\",\"notched\":false,\"offsetgroup\":\"Jharkhand\",\"orientation\":\"v\",\"showlegend\":true,\"x\":[\"Jharkhand\",\"Jharkhand\",\"Jharkhand\",\"Jharkhand\",\"Jharkhand\",\"Jharkhand\",\"Jharkhand\",\"Jharkhand\",\"Jharkhand\",\"Jharkhand\"],\"x0\":\" \",\"xaxis\":\"x\",\"y\":[10.61,11.85,8.23,47.09,59.23,20.95,7.63,9.76,8.24,11.8],\"y0\":\" \",\"yaxis\":\"y\",\"type\":\"box\"},{\"alignmentgroup\":\"True\",\"hovertemplate\":\"Region=%{x}<br> Estimated Unemployment Rate (%)=%{y}<extra></extra>\",\"legendgroup\":\"Karnataka\",\"marker\":{\"color\":\"#EF553B\"},\"name\":\"Karnataka\",\"notched\":false,\"offsetgroup\":\"Karnataka\",\"orientation\":\"v\",\"showlegend\":true,\"x\":[\"Karnataka\",\"Karnataka\",\"Karnataka\",\"Karnataka\",\"Karnataka\",\"Karnataka\",\"Karnataka\",\"Karnataka\",\"Karnataka\",\"Karnataka\"],\"x0\":\" \",\"xaxis\":\"x\",\"y\":[2.86,3.61,3.46,29.84,19.97,8.44,4.01,0.5,2.41,1.58],\"y0\":\" \",\"yaxis\":\"y\",\"type\":\"box\"},{\"alignmentgroup\":\"True\",\"hovertemplate\":\"Region=%{x}<br> Estimated Unemployment Rate (%)=%{y}<extra></extra>\",\"legendgroup\":\"Kerala\",\"marker\":{\"color\":\"#00cc96\"},\"name\":\"Kerala\",\"notched\":false,\"offsetgroup\":\"Kerala\",\"orientation\":\"v\",\"showlegend\":true,\"x\":[\"Kerala\",\"Kerala\",\"Kerala\",\"Kerala\",\"Kerala\",\"Kerala\",\"Kerala\",\"Kerala\",\"Kerala\",\"Kerala\"],\"x0\":\" \",\"xaxis\":\"x\",\"y\":[5.31,7.6,8.99,16.99,17.88,9.71,7.09,10.98,5.91,3.88],\"y0\":\" \",\"yaxis\":\"y\",\"type\":\"box\"},{\"alignmentgroup\":\"True\",\"hovertemplate\":\"Region=%{x}<br> Estimated Unemployment Rate (%)=%{y}<extra></extra>\",\"legendgroup\":\"Madhya Pradesh\",\"marker\":{\"color\":\"#ab63fa\"},\"name\":\"Madhya Pradesh\",\"notched\":false,\"offsetgroup\":\"Madhya Pradesh\",\"orientation\":\"v\",\"showlegend\":true,\"x\":[\"Madhya Pradesh\",\"Madhya Pradesh\",\"Madhya Pradesh\",\"Madhya Pradesh\",\"Madhya Pradesh\",\"Madhya Pradesh\",\"Madhya Pradesh\",\"Madhya Pradesh\",\"Madhya Pradesh\",\"Madhya Pradesh\"],\"x0\":\" \",\"xaxis\":\"x\",\"y\":[4.11,4.57,2.22,12.36,21.98,6.48,5.08,4.7,3.91,3.13],\"y0\":\" \",\"yaxis\":\"y\",\"type\":\"box\"},{\"alignmentgroup\":\"True\",\"hovertemplate\":\"Region=%{x}<br> Estimated Unemployment Rate (%)=%{y}<extra></extra>\",\"legendgroup\":\"Maharashtra\",\"marker\":{\"color\":\"#FFA15A\"},\"name\":\"Maharashtra\",\"notched\":false,\"offsetgroup\":\"Maharashtra\",\"orientation\":\"v\",\"showlegend\":true,\"x\":[\"Maharashtra\",\"Maharashtra\",\"Maharashtra\",\"Maharashtra\",\"Maharashtra\",\"Maharashtra\",\"Maharashtra\",\"Maharashtra\",\"Maharashtra\",\"Maharashtra\"],\"x0\":\" \",\"xaxis\":\"x\",\"y\":[4.95,4.69,5.79,20.9,15.46,9.23,3.89,6.23,4.55,4.1],\"y0\":\" \",\"yaxis\":\"y\",\"type\":\"box\"},{\"alignmentgroup\":\"True\",\"hovertemplate\":\"Region=%{x}<br> Estimated Unemployment Rate (%)=%{y}<extra></extra>\",\"legendgroup\":\"Meghalaya\",\"marker\":{\"color\":\"#19d3f3\"},\"name\":\"Meghalaya\",\"notched\":false,\"offsetgroup\":\"Meghalaya\",\"orientation\":\"v\",\"showlegend\":true,\"x\":[\"Meghalaya\",\"Meghalaya\",\"Meghalaya\",\"Meghalaya\",\"Meghalaya\",\"Meghalaya\",\"Meghalaya\",\"Meghalaya\",\"Meghalaya\",\"Meghalaya\"],\"x0\":\" \",\"xaxis\":\"x\",\"y\":[1.66,3.59,1.58,10.03,5.92,1.15,2.1,3.74,4.29,4.6],\"y0\":\" \",\"yaxis\":\"y\",\"type\":\"box\"},{\"alignmentgroup\":\"True\",\"hovertemplate\":\"Region=%{x}<br> Estimated Unemployment Rate (%)=%{y}<extra></extra>\",\"legendgroup\":\"Odisha\",\"marker\":{\"color\":\"#FF6692\"},\"name\":\"Odisha\",\"notched\":false,\"offsetgroup\":\"Odisha\",\"orientation\":\"v\",\"showlegend\":true,\"x\":[\"Odisha\",\"Odisha\",\"Odisha\",\"Odisha\",\"Odisha\",\"Odisha\",\"Odisha\",\"Odisha\",\"Odisha\",\"Odisha\"],\"x0\":\" \",\"xaxis\":\"x\",\"y\":[1.9,3.12,13.08,23.76,11.41,3.77,1.88,1.42,2.1,2.18],\"y0\":\" \",\"yaxis\":\"y\",\"type\":\"box\"},{\"alignmentgroup\":\"True\",\"hovertemplate\":\"Region=%{x}<br> Estimated Unemployment Rate (%)=%{y}<extra></extra>\",\"legendgroup\":\"Puducherry\",\"marker\":{\"color\":\"#B6E880\"},\"name\":\"Puducherry\",\"notched\":false,\"offsetgroup\":\"Puducherry\",\"orientation\":\"v\",\"showlegend\":true,\"x\":[\"Puducherry\",\"Puducherry\",\"Puducherry\",\"Puducherry\",\"Puducherry\",\"Puducherry\",\"Puducherry\",\"Puducherry\",\"Puducherry\",\"Puducherry\"],\"x0\":\" \",\"xaxis\":\"x\",\"y\":[0.58,1.76,1.2,75.85,58.19,4.24,15.47,5.05,10.9,6.18],\"y0\":\" \",\"yaxis\":\"y\",\"type\":\"box\"},{\"alignmentgroup\":\"True\",\"hovertemplate\":\"Region=%{x}<br> Estimated Unemployment Rate (%)=%{y}<extra></extra>\",\"legendgroup\":\"Punjab\",\"marker\":{\"color\":\"#FF97FF\"},\"name\":\"Punjab\",\"notched\":false,\"offsetgroup\":\"Punjab\",\"orientation\":\"v\",\"showlegend\":true,\"x\":[\"Punjab\",\"Punjab\",\"Punjab\",\"Punjab\",\"Punjab\",\"Punjab\",\"Punjab\",\"Punjab\",\"Punjab\",\"Punjab\"],\"x0\":\" \",\"xaxis\":\"x\",\"y\":[11.11,10.97,10.32,2.86,28.33,16.55,9.19,10.99,9.61,9.88],\"y0\":\" \",\"yaxis\":\"y\",\"type\":\"box\"},{\"alignmentgroup\":\"True\",\"hovertemplate\":\"Region=%{x}<br> Estimated Unemployment Rate (%)=%{y}<extra></extra>\",\"legendgroup\":\"Rajasthan\",\"marker\":{\"color\":\"#FECB52\"},\"name\":\"Rajasthan\",\"notched\":false,\"offsetgroup\":\"Rajasthan\",\"orientation\":\"v\",\"showlegend\":true,\"x\":[\"Rajasthan\",\"Rajasthan\",\"Rajasthan\",\"Rajasthan\",\"Rajasthan\",\"Rajasthan\",\"Rajasthan\",\"Rajasthan\",\"Rajasthan\",\"Rajasthan\"],\"x0\":\" \",\"xaxis\":\"x\",\"y\":[10.97,15.16,11.9,17.7,15.74,14.39,15.81,17.51,15.35,24.15],\"y0\":\" \",\"yaxis\":\"y\",\"type\":\"box\"},{\"alignmentgroup\":\"True\",\"hovertemplate\":\"Region=%{x}<br> Estimated Unemployment Rate (%)=%{y}<extra></extra>\",\"legendgroup\":\"Sikkim\",\"marker\":{\"color\":\"#636efa\"},\"name\":\"Sikkim\",\"notched\":false,\"offsetgroup\":\"Sikkim\",\"orientation\":\"v\",\"showlegend\":true,\"x\":[\"Sikkim\",\"Sikkim\",\"Sikkim\",\"Sikkim\",\"Sikkim\",\"Sikkim\",\"Sikkim\",\"Sikkim\"],\"x0\":\" \",\"xaxis\":\"x\",\"y\":[23.57,2.28,24.51,4.46,4.45,12.49,5.7,0.88],\"y0\":\" \",\"yaxis\":\"y\",\"type\":\"box\"},{\"alignmentgroup\":\"True\",\"hovertemplate\":\"Region=%{x}<br> Estimated Unemployment Rate (%)=%{y}<extra></extra>\",\"legendgroup\":\"Tamil Nadu\",\"marker\":{\"color\":\"#EF553B\"},\"name\":\"Tamil Nadu\",\"notched\":false,\"offsetgroup\":\"Tamil Nadu\",\"orientation\":\"v\",\"showlegend\":true,\"x\":[\"Tamil Nadu\",\"Tamil Nadu\",\"Tamil Nadu\",\"Tamil Nadu\",\"Tamil Nadu\",\"Tamil Nadu\",\"Tamil Nadu\",\"Tamil Nadu\",\"Tamil Nadu\",\"Tamil Nadu\"],\"x0\":\" \",\"xaxis\":\"x\",\"y\":[1.57,2.09,6.4,49.83,33.16,12.2,6.81,2.65,5.0,2.16],\"y0\":\" \",\"yaxis\":\"y\",\"type\":\"box\"},{\"alignmentgroup\":\"True\",\"hovertemplate\":\"Region=%{x}<br> Estimated Unemployment Rate (%)=%{y}<extra></extra>\",\"legendgroup\":\"Telangana\",\"marker\":{\"color\":\"#00cc96\"},\"name\":\"Telangana\",\"notched\":false,\"offsetgroup\":\"Telangana\",\"orientation\":\"v\",\"showlegend\":true,\"x\":[\"Telangana\",\"Telangana\",\"Telangana\",\"Telangana\",\"Telangana\",\"Telangana\",\"Telangana\",\"Telangana\",\"Telangana\",\"Telangana\"],\"x0\":\" \",\"xaxis\":\"x\",\"y\":[5.49,8.29,5.77,6.25,14.7,10.55,5.36,5.79,3.27,2.86],\"y0\":\" \",\"yaxis\":\"y\",\"type\":\"box\"},{\"alignmentgroup\":\"True\",\"hovertemplate\":\"Region=%{x}<br> Estimated Unemployment Rate (%)=%{y}<extra></extra>\",\"legendgroup\":\"Tripura\",\"marker\":{\"color\":\"#ab63fa\"},\"name\":\"Tripura\",\"notched\":false,\"offsetgroup\":\"Tripura\",\"orientation\":\"v\",\"showlegend\":true,\"x\":[\"Tripura\",\"Tripura\",\"Tripura\",\"Tripura\",\"Tripura\",\"Tripura\",\"Tripura\",\"Tripura\",\"Tripura\",\"Tripura\"],\"x0\":\" \",\"xaxis\":\"x\",\"y\":[32.67,28.4,29.95,41.23,21.51,21.71,18.24,27.92,17.35,11.57],\"y0\":\" \",\"yaxis\":\"y\",\"type\":\"box\"},{\"alignmentgroup\":\"True\",\"hovertemplate\":\"Region=%{x}<br> Estimated Unemployment Rate (%)=%{y}<extra></extra>\",\"legendgroup\":\"Uttar Pradesh\",\"marker\":{\"color\":\"#FFA15A\"},\"name\":\"Uttar Pradesh\",\"notched\":false,\"offsetgroup\":\"Uttar Pradesh\",\"orientation\":\"v\",\"showlegend\":true,\"x\":[\"Uttar Pradesh\",\"Uttar Pradesh\",\"Uttar Pradesh\",\"Uttar Pradesh\",\"Uttar Pradesh\",\"Uttar Pradesh\",\"Uttar Pradesh\",\"Uttar Pradesh\",\"Uttar Pradesh\",\"Uttar Pradesh\"],\"x0\":\" \",\"xaxis\":\"x\",\"y\":[7.58,8.98,10.11,21.54,20.41,9.47,5.56,5.79,4.18,3.75],\"y0\":\" \",\"yaxis\":\"y\",\"type\":\"box\"},{\"alignmentgroup\":\"True\",\"hovertemplate\":\"Region=%{x}<br> Estimated Unemployment Rate (%)=%{y}<extra></extra>\",\"legendgroup\":\"Uttarakhand\",\"marker\":{\"color\":\"#19d3f3\"},\"name\":\"Uttarakhand\",\"notched\":false,\"offsetgroup\":\"Uttarakhand\",\"orientation\":\"v\",\"showlegend\":true,\"x\":[\"Uttarakhand\",\"Uttarakhand\",\"Uttarakhand\",\"Uttarakhand\",\"Uttarakhand\",\"Uttarakhand\",\"Uttarakhand\",\"Uttarakhand\",\"Uttarakhand\",\"Uttarakhand\"],\"x0\":\" \",\"xaxis\":\"x\",\"y\":[5.49,4.99,19.85,6.48,8.01,8.61,12.38,14.26,22.26,9.23],\"y0\":\" \",\"yaxis\":\"y\",\"type\":\"box\"},{\"alignmentgroup\":\"True\",\"hovertemplate\":\"Region=%{x}<br> Estimated Unemployment Rate (%)=%{y}<extra></extra>\",\"legendgroup\":\"West Bengal\",\"marker\":{\"color\":\"#FF6692\"},\"name\":\"West Bengal\",\"notched\":false,\"offsetgroup\":\"West Bengal\",\"orientation\":\"v\",\"showlegend\":true,\"x\":[\"West Bengal\",\"West Bengal\",\"West Bengal\",\"West Bengal\",\"West Bengal\",\"West Bengal\",\"West Bengal\",\"West Bengal\",\"West Bengal\",\"West Bengal\"],\"x0\":\" \",\"xaxis\":\"x\",\"y\":[6.94,4.92,6.92,17.41,17.41,7.29,6.83,14.87,9.35,9.98],\"y0\":\" \",\"yaxis\":\"y\",\"type\":\"box\"}],                        {\"template\":{\"data\":{\"histogram2dcontour\":[{\"type\":\"histogram2dcontour\",\"colorbar\":{\"outlinewidth\":0,\"ticks\":\"\"},\"colorscale\":[[0.0,\"#0d0887\"],[0.1111111111111111,\"#46039f\"],[0.2222222222222222,\"#7201a8\"],[0.3333333333333333,\"#9c179e\"],[0.4444444444444444,\"#bd3786\"],[0.5555555555555556,\"#d8576b\"],[0.6666666666666666,\"#ed7953\"],[0.7777777777777778,\"#fb9f3a\"],[0.8888888888888888,\"#fdca26\"],[1.0,\"#f0f921\"]]}],\"choropleth\":[{\"type\":\"choropleth\",\"colorbar\":{\"outlinewidth\":0,\"ticks\":\"\"}}],\"histogram2d\":[{\"type\":\"histogram2d\",\"colorbar\":{\"outlinewidth\":0,\"ticks\":\"\"},\"colorscale\":[[0.0,\"#0d0887\"],[0.1111111111111111,\"#46039f\"],[0.2222222222222222,\"#7201a8\"],[0.3333333333333333,\"#9c179e\"],[0.4444444444444444,\"#bd3786\"],[0.5555555555555556,\"#d8576b\"],[0.6666666666666666,\"#ed7953\"],[0.7777777777777778,\"#fb9f3a\"],[0.8888888888888888,\"#fdca26\"],[1.0,\"#f0f921\"]]}],\"heatmap\":[{\"type\":\"heatmap\",\"colorbar\":{\"outlinewidth\":0,\"ticks\":\"\"},\"colorscale\":[[0.0,\"#0d0887\"],[0.1111111111111111,\"#46039f\"],[0.2222222222222222,\"#7201a8\"],[0.3333333333333333,\"#9c179e\"],[0.4444444444444444,\"#bd3786\"],[0.5555555555555556,\"#d8576b\"],[0.6666666666666666,\"#ed7953\"],[0.7777777777777778,\"#fb9f3a\"],[0.8888888888888888,\"#fdca26\"],[1.0,\"#f0f921\"]]}],\"heatmapgl\":[{\"type\":\"heatmapgl\",\"colorbar\":{\"outlinewidth\":0,\"ticks\":\"\"},\"colorscale\":[[0.0,\"#0d0887\"],[0.1111111111111111,\"#46039f\"],[0.2222222222222222,\"#7201a8\"],[0.3333333333333333,\"#9c179e\"],[0.4444444444444444,\"#bd3786\"],[0.5555555555555556,\"#d8576b\"],[0.6666666666666666,\"#ed7953\"],[0.7777777777777778,\"#fb9f3a\"],[0.8888888888888888,\"#fdca26\"],[1.0,\"#f0f921\"]]}],\"contourcarpet\":[{\"type\":\"contourcarpet\",\"colorbar\":{\"outlinewidth\":0,\"ticks\":\"\"}}],\"contour\":[{\"type\":\"contour\",\"colorbar\":{\"outlinewidth\":0,\"ticks\":\"\"},\"colorscale\":[[0.0,\"#0d0887\"],[0.1111111111111111,\"#46039f\"],[0.2222222222222222,\"#7201a8\"],[0.3333333333333333,\"#9c179e\"],[0.4444444444444444,\"#bd3786\"],[0.5555555555555556,\"#d8576b\"],[0.6666666666666666,\"#ed7953\"],[0.7777777777777778,\"#fb9f3a\"],[0.8888888888888888,\"#fdca26\"],[1.0,\"#f0f921\"]]}],\"surface\":[{\"type\":\"surface\",\"colorbar\":{\"outlinewidth\":0,\"ticks\":\"\"},\"colorscale\":[[0.0,\"#0d0887\"],[0.1111111111111111,\"#46039f\"],[0.2222222222222222,\"#7201a8\"],[0.3333333333333333,\"#9c179e\"],[0.4444444444444444,\"#bd3786\"],[0.5555555555555556,\"#d8576b\"],[0.6666666666666666,\"#ed7953\"],[0.7777777777777778,\"#fb9f3a\"],[0.8888888888888888,\"#fdca26\"],[1.0,\"#f0f921\"]]}],\"mesh3d\":[{\"type\":\"mesh3d\",\"colorbar\":{\"outlinewidth\":0,\"ticks\":\"\"}}],\"scatter\":[{\"fillpattern\":{\"fillmode\":\"overlay\",\"size\":10,\"solidity\":0.2},\"type\":\"scatter\"}],\"parcoords\":[{\"type\":\"parcoords\",\"line\":{\"colorbar\":{\"outlinewidth\":0,\"ticks\":\"\"}}}],\"scatterpolargl\":[{\"type\":\"scatterpolargl\",\"marker\":{\"colorbar\":{\"outlinewidth\":0,\"ticks\":\"\"}}}],\"bar\":[{\"error_x\":{\"color\":\"#2a3f5f\"},\"error_y\":{\"color\":\"#2a3f5f\"},\"marker\":{\"line\":{\"color\":\"#E5ECF6\",\"width\":0.5},\"pattern\":{\"fillmode\":\"overlay\",\"size\":10,\"solidity\":0.2}},\"type\":\"bar\"}],\"scattergeo\":[{\"type\":\"scattergeo\",\"marker\":{\"colorbar\":{\"outlinewidth\":0,\"ticks\":\"\"}}}],\"scatterpolar\":[{\"type\":\"scatterpolar\",\"marker\":{\"colorbar\":{\"outlinewidth\":0,\"ticks\":\"\"}}}],\"histogram\":[{\"marker\":{\"pattern\":{\"fillmode\":\"overlay\",\"size\":10,\"solidity\":0.2}},\"type\":\"histogram\"}],\"scattergl\":[{\"type\":\"scattergl\",\"marker\":{\"colorbar\":{\"outlinewidth\":0,\"ticks\":\"\"}}}],\"scatter3d\":[{\"type\":\"scatter3d\",\"line\":{\"colorbar\":{\"outlinewidth\":0,\"ticks\":\"\"}},\"marker\":{\"colorbar\":{\"outlinewidth\":0,\"ticks\":\"\"}}}],\"scattermapbox\":[{\"type\":\"scattermapbox\",\"marker\":{\"colorbar\":{\"outlinewidth\":0,\"ticks\":\"\"}}}],\"scatterternary\":[{\"type\":\"scatterternary\",\"marker\":{\"colorbar\":{\"outlinewidth\":0,\"ticks\":\"\"}}}],\"scattercarpet\":[{\"type\":\"scattercarpet\",\"marker\":{\"colorbar\":{\"outlinewidth\":0,\"ticks\":\"\"}}}],\"carpet\":[{\"aaxis\":{\"endlinecolor\":\"#2a3f5f\",\"gridcolor\":\"white\",\"linecolor\":\"white\",\"minorgridcolor\":\"white\",\"startlinecolor\":\"#2a3f5f\"},\"baxis\":{\"endlinecolor\":\"#2a3f5f\",\"gridcolor\":\"white\",\"linecolor\":\"white\",\"minorgridcolor\":\"white\",\"startlinecolor\":\"#2a3f5f\"},\"type\":\"carpet\"}],\"table\":[{\"cells\":{\"fill\":{\"color\":\"#EBF0F8\"},\"line\":{\"color\":\"white\"}},\"header\":{\"fill\":{\"color\":\"#C8D4E3\"},\"line\":{\"color\":\"white\"}},\"type\":\"table\"}],\"barpolar\":[{\"marker\":{\"line\":{\"color\":\"#E5ECF6\",\"width\":0.5},\"pattern\":{\"fillmode\":\"overlay\",\"size\":10,\"solidity\":0.2}},\"type\":\"barpolar\"}],\"pie\":[{\"automargin\":true,\"type\":\"pie\"}]},\"layout\":{\"autotypenumbers\":\"strict\",\"colorway\":[\"#636efa\",\"#EF553B\",\"#00cc96\",\"#ab63fa\",\"#FFA15A\",\"#19d3f3\",\"#FF6692\",\"#B6E880\",\"#FF97FF\",\"#FECB52\"],\"font\":{\"color\":\"#2a3f5f\"},\"hovermode\":\"closest\",\"hoverlabel\":{\"align\":\"left\"},\"paper_bgcolor\":\"white\",\"plot_bgcolor\":\"#E5ECF6\",\"polar\":{\"bgcolor\":\"#E5ECF6\",\"angularaxis\":{\"gridcolor\":\"white\",\"linecolor\":\"white\",\"ticks\":\"\"},\"radialaxis\":{\"gridcolor\":\"white\",\"linecolor\":\"white\",\"ticks\":\"\"}},\"ternary\":{\"bgcolor\":\"#E5ECF6\",\"aaxis\":{\"gridcolor\":\"white\",\"linecolor\":\"white\",\"ticks\":\"\"},\"baxis\":{\"gridcolor\":\"white\",\"linecolor\":\"white\",\"ticks\":\"\"},\"caxis\":{\"gridcolor\":\"white\",\"linecolor\":\"white\",\"ticks\":\"\"}},\"coloraxis\":{\"colorbar\":{\"outlinewidth\":0,\"ticks\":\"\"}},\"colorscale\":{\"sequential\":[[0.0,\"#0d0887\"],[0.1111111111111111,\"#46039f\"],[0.2222222222222222,\"#7201a8\"],[0.3333333333333333,\"#9c179e\"],[0.4444444444444444,\"#bd3786\"],[0.5555555555555556,\"#d8576b\"],[0.6666666666666666,\"#ed7953\"],[0.7777777777777778,\"#fb9f3a\"],[0.8888888888888888,\"#fdca26\"],[1.0,\"#f0f921\"]],\"sequentialminus\":[[0.0,\"#0d0887\"],[0.1111111111111111,\"#46039f\"],[0.2222222222222222,\"#7201a8\"],[0.3333333333333333,\"#9c179e\"],[0.4444444444444444,\"#bd3786\"],[0.5555555555555556,\"#d8576b\"],[0.6666666666666666,\"#ed7953\"],[0.7777777777777778,\"#fb9f3a\"],[0.8888888888888888,\"#fdca26\"],[1.0,\"#f0f921\"]],\"diverging\":[[0,\"#8e0152\"],[0.1,\"#c51b7d\"],[0.2,\"#de77ae\"],[0.3,\"#f1b6da\"],[0.4,\"#fde0ef\"],[0.5,\"#f7f7f7\"],[0.6,\"#e6f5d0\"],[0.7,\"#b8e186\"],[0.8,\"#7fbc41\"],[0.9,\"#4d9221\"],[1,\"#276419\"]]},\"xaxis\":{\"gridcolor\":\"white\",\"linecolor\":\"white\",\"ticks\":\"\",\"title\":{\"standoff\":15},\"zerolinecolor\":\"white\",\"automargin\":true,\"zerolinewidth\":2},\"yaxis\":{\"gridcolor\":\"white\",\"linecolor\":\"white\",\"ticks\":\"\",\"title\":{\"standoff\":15},\"zerolinecolor\":\"white\",\"automargin\":true,\"zerolinewidth\":2},\"scene\":{\"xaxis\":{\"backgroundcolor\":\"#E5ECF6\",\"gridcolor\":\"white\",\"linecolor\":\"white\",\"showbackground\":true,\"ticks\":\"\",\"zerolinecolor\":\"white\",\"gridwidth\":2},\"yaxis\":{\"backgroundcolor\":\"#E5ECF6\",\"gridcolor\":\"white\",\"linecolor\":\"white\",\"showbackground\":true,\"ticks\":\"\",\"zerolinecolor\":\"white\",\"gridwidth\":2},\"zaxis\":{\"backgroundcolor\":\"#E5ECF6\",\"gridcolor\":\"white\",\"linecolor\":\"white\",\"showbackground\":true,\"ticks\":\"\",\"zerolinecolor\":\"white\",\"gridwidth\":2}},\"shapedefaults\":{\"line\":{\"color\":\"#2a3f5f\"}},\"annotationdefaults\":{\"arrowcolor\":\"#2a3f5f\",\"arrowhead\":0,\"arrowwidth\":1},\"geo\":{\"bgcolor\":\"white\",\"landcolor\":\"#E5ECF6\",\"subunitcolor\":\"white\",\"showland\":true,\"showlakes\":true,\"lakecolor\":\"white\"},\"title\":{\"x\":0.05},\"mapbox\":{\"style\":\"light\"}}},\"xaxis\":{\"anchor\":\"y\",\"domain\":[0.0,1.0],\"title\":{\"text\":\"Region\"},\"categoryorder\":\"total ascending\",\"categoryarray\":[\"Andhra Pradesh\",\"Assam\",\"Bihar\",\"Chhattisgarh\",\"Delhi\",\"Goa\",\"Gujarat\",\"Haryana\",\"Himachal Pradesh\",\"Jammu & Kashmir\",\"Jharkhand\",\"Karnataka\",\"Kerala\",\"Madhya Pradesh\",\"Maharashtra\",\"Meghalaya\",\"Odisha\",\"Puducherry\",\"Punjab\",\"Rajasthan\",\"Sikkim\",\"Tamil Nadu\",\"Telangana\",\"Tripura\",\"Uttar Pradesh\",\"Uttarakhand\",\"West Bengal\"]},\"yaxis\":{\"anchor\":\"x\",\"domain\":[0.0,1.0],\"title\":{\"text\":\" Estimated Unemployment Rate (%)\"}},\"legend\":{\"title\":{\"text\":\"Region\"},\"tracegroupgap\":0},\"title\":{\"text\":\"Unemployment Rate State Wise\"},\"boxmode\":\"overlay\"},                        {\"responsive\": true}                    ).then(function(){\n",
       "                            \n",
       "var gd = document.getElementById('c1c2d522-e888-4467-a7d1-22cdab8919e6');\n",
       "var x = new MutationObserver(function (mutations, observer) {{\n",
       "        var display = window.getComputedStyle(gd).display;\n",
       "        if (!display || display === 'none') {{\n",
       "            console.log([gd, 'removed!']);\n",
       "            Plotly.purge(gd);\n",
       "            observer.disconnect();\n",
       "        }}\n",
       "}});\n",
       "\n",
       "// Listen for the removal of the full notebook cells\n",
       "var notebookContainer = gd.closest('#notebook-container');\n",
       "if (notebookContainer) {{\n",
       "    x.observe(notebookContainer, {childList: true});\n",
       "}}\n",
       "\n",
       "// Listen for the clearing of the current output cell\n",
       "var outputEl = gd.closest('.output');\n",
       "if (outputEl) {{\n",
       "    x.observe(outputEl, {childList: true});\n",
       "}}\n",
       "\n",
       "                        })                };                });            </script>        </div>"
      ]
     },
     "metadata": {},
     "output_type": "display_data"
    }
   ],
   "source": [
    "fg = px.box(df, x='Region', y=' Estimated Unemployment Rate (%)', color='Region',\n",
    "            title='Unemployment Rate State Wise', template='plotly')\n",
    "fg.update_layout(xaxis={'categoryorder': 'total ascending'})\n",
    "fg.show()"
   ]
  },
  {
   "cell_type": "code",
   "execution_count": 55,
   "id": "a4eee93a",
   "metadata": {},
   "outputs": [
    {
     "data": {
      "image/png": "[encoded data removed]",
      "text/plain": [
       "<Figure size 600x300 with 2 Axes>"
      ]
     },
     "metadata": {},
     "output_type": "display_data"
    }
   ],
   "source": [
    "df2 = df2.apply(pd.to_numeric, errors='coerce')\n",
    "plt.figure(figsize=(6, 3))\n",
    "sb.heatmap(df2)\n",
    "plt.show()\n"
   ]
  },
  {
   "cell_type": "code",
   "execution_count": 42,
   "id": "ee8f403a",
   "metadata": {},
   "outputs": [
    {
     "data": {
      "application/vnd.plotly.v1+json": {
       "config": {
        "plotlyServerURL": "https://plot.ly"
       },
       "data": [
        {
         "coloraxis": "coloraxis",
         "hovertemplate": "x: %{x}<br>y: %{y}<br>color: %{z}<extra></extra>",
         "name": "0",
         "type": "heatmap",
         "x": [
          "Region",
          " Date",
          " Frequency",
          " Estimated Unemployment Rate (%)",
          " Estimated Employed",
          " Estimated Labour Participation Rate (%)",
          "Region.1",
          "longitude",
          "latitude"
         ],
         "xaxis": "x",
         "y": [
          0,
          1,
          2,
          3,
          4,
          5,
          6,
          7,
          8,
          9,
          10,
          11,
          12,
          13,
          14,
          15,
          16,
          17,
          18,
          19,
          20,
          21,
          22,
          23,
          24,
          25,
          26,
          27,
          28,
          29,
          30,
          31,
          32,
          33,
          34,
          35,
          36,
          37,
          38,
          39,
          40,
          41,
          42,
          43,
          44,
          45,
          46,
          47,
          48,
          49,
          50,
          51,
          52,
          53,
          54,
          55,
          56,
          57,
          58,
          59,
          60,
          61,
          62,
          63,
          64,
          65,
          66,
          67,
          68,
          69,
          70,
          71,
          72,
          73,
          74,
          75,
          76,
          77,
          78,
          79,
          80,
          81,
          82,
          83,
          84,
          85,
          86,
          87,
          88,
          89,
          90,
          91,
          92,
          93,
          94,
          95,
          96,
          97,
          98,
          99,
          100,
          101,
          102,
          103,
          104,
          105,
          106,
          107,
          108,
          109,
          110,
          111,
          112,
          113,
          114,
          115,
          116,
          117,
          118,
          119,
          120,
          121,
          122,
          123,
          124,
          125,
          126,
          127,
          128,
          129,
          130,
          131,
          132,
          133,
          134,
          135,
          136,
          137,
          138,
          139,
          140,
          141,
          142,
          143,
          144,
          145,
          146,
          147,
          148,
          149,
          150,
          151,
          152,
          153,
          154,
          155,
          156,
          157,
          158,
          159,
          160,
          161,
          162,
          163,
          164,
          165,
          166,
          167,
          168,
          169,
          170,
          171,
          172,
          173,
          174,
          175,
          176,
          177,
          178,
          179,
          180,
          181,
          182,
          183,
          184,
          185,
          186,
          187,
          188,
          189,
          190,
          191,
          192,
          193,
          194,
          195,
          196,
          197,
          198,
          199,
          200,
          201,
          202,
          203,
          204,
          205,
          206,
          207,
          208,
          209,
          210,
          211,
          212,
          213,
          214,
          215,
          216,
          217,
          218,
          219,
          220,
          221,
          222,
          223,
          224,
          225,
          226,
          227,
          228,
          229,
          230,
          231,
          232,
          233,
          234,
          235,
          236,
          237,
          238,
          239,
          240,
          241,
          242,
          243,
          244,
          245,
          246,
          247,
          248,
          249,
          250,
          251,
          252,
          253,
          254,
          255,
          256,
          257,
          258,
          259,
          260,
          261,
          262,
          263,
          264,
          265,
          266
         ],
         "yaxis": "y",
         "z": [
          [
           "Andhra Pradesh",
           " 31-01-2020",
           " M",
           5.48,
           16635535,
           41.02,
           "South",
           15.9129,
           79.74
          ],
          [
           "Andhra Pradesh",
           " 29-02-2020",
           " M",
           5.83,
           16545652,
           40.9,
           "South",
           15.9129,
           79.74
          ],
          [
           "Andhra Pradesh",
           " 31-03-2020",
           " M",
           5.79,
           15881197,
           39.18,
           "South",
           15.9129,
           79.74
          ],
          [
           "Andhra Pradesh",
           " 30-04-2020",
           " M",
           20.51,
           11336911,
           33.1,
           "South",
           15.9129,
           79.74
          ],
          [
           "Andhra Pradesh",
           " 31-05-2020",
           " M",
           17.43,
           12988845,
           36.46,
           "South",
           15.9129,
           79.74
          ],
          [
           "Andhra Pradesh",
           " 30-06-2020",
           " M",
           3.31,
           19805400,
           47.41,
           "South",
           15.9129,
           79.74
          ],
          [
           "Andhra Pradesh",
           " 31-07-2020",
           " M",
           8.34,
           15431615,
           38.91,
           "South",
           15.9129,
           79.74
          ],
          [
           "Andhra Pradesh",
           " 31-08-2020",
           " M",
           6.96,
           15251776,
           37.83,
           "South",
           15.9129,
           79.74
          ],
          [
           "Andhra Pradesh",
           " 30-09-2020",
           " M",
           6.4,
           15220312,
           37.47,
           "South",
           15.9129,
           79.74
          ],
          [
           "Andhra Pradesh",
           " 31-10-2020",
           " M",
           6.59,
           15157557,
           37.34,
           "South",
           15.9129,
           79.74
          ],
          [
           "Assam",
           " 31-01-2020",
           " M",
           4.66,
           13051904,
           52.98,
           "Northeast",
           26.2006,
           92.9376
          ],
          [
           "Assam",
           " 29-02-2020",
           " M",
           4.41,
           10088268,
           40.77,
           "Northeast",
           26.2006,
           92.9376
          ],
          [
           "Assam",
           " 31-03-2020",
           " M",
           4.77,
           11542888,
           46.73,
           "Northeast",
           26.2006,
           92.9376
          ],
          [
           "Assam",
           " 30-04-2020",
           " M",
           11.06,
           6830817,
           29.55,
           "Northeast",
           26.2006,
           92.9376
          ],
          [
           "Assam",
           " 31-05-2020",
           " M",
           9.55,
           11367897,
           48.26,
           "Northeast",
           26.2006,
           92.9376
          ],
          [
           "Assam",
           " 30-06-2020",
           " M",
           0.6,
           9095944,
           35.07,
           "Northeast",
           26.2006,
           92.9376
          ],
          [
           "Assam",
           " 31-07-2020",
           " M",
           3.77,
           10286757,
           40.88,
           "Northeast",
           26.2006,
           92.9376
          ],
          [
           "Assam",
           " 31-08-2020",
           " M",
           5.53,
           9781310,
           39.52,
           "Northeast",
           26.2006,
           92.9376
          ],
          [
           "Assam",
           " 30-09-2020",
           " M",
           1.19,
           14107641,
           54.38,
           "Northeast",
           26.2006,
           92.9376
          ],
          [
           "Assam",
           " 31-10-2020",
           " M",
           3.02,
           11949329,
           46.84,
           "Northeast",
           26.2006,
           92.9376
          ],
          [
           "Bihar",
           " 31-01-2020",
           " M",
           10.61,
           26397671,
           37.72,
           "East",
           25.0961,
           85.3131
          ],
          [
           "Bihar",
           " 29-02-2020",
           " M",
           10.29,
           26281655,
           37.35,
           "East",
           25.0961,
           85.3131
          ],
          [
           "Bihar",
           " 31-03-2020",
           " M",
           15.43,
           25717519,
           38.69,
           "East",
           25.0961,
           85.3131
          ],
          [
           "Bihar",
           " 30-04-2020",
           " M",
           46.64,
           16046236,
           38.17,
           "East",
           25.0961,
           85.3131
          ],
          [
           "Bihar",
           " 31-05-2020",
           " M",
           45.96,
           16280203,
           38.16,
           "East",
           25.0961,
           85.3131
          ],
          [
           "Bihar",
           " 30-06-2020",
           " M",
           17.82,
           23963933,
           36.86,
           "East",
           25.0961,
           85.3131
          ],
          [
           "Bihar",
           " 31-07-2020",
           " M",
           12.79,
           24989370,
           36.14,
           "East",
           25.0961,
           85.3131
          ],
          [
           "Bihar",
           " 31-08-2020",
           " M",
           13.44,
           23795534,
           34.59,
           "East",
           25.0961,
           85.3131
          ],
          [
           "Bihar",
           " 30-09-2020",
           " M",
           11.91,
           26902907,
           38.35,
           "East",
           25.0961,
           85.3131
          ],
          [
           "Bihar",
           " 31-10-2020",
           " M",
           9.82,
           25693252,
           35.7,
           "East",
           25.0961,
           85.3131
          ],
          [
           "Chhattisgarh",
           " 31-01-2020",
           " M",
           9.65,
           8552172,
           43.08,
           "West",
           21.2787,
           81.8661
          ],
          [
           "Chhattisgarh",
           " 29-02-2020",
           " M",
           8.38,
           9195114,
           45.58,
           "West",
           21.2787,
           81.8661
          ],
          [
           "Chhattisgarh",
           " 31-03-2020",
           " M",
           7.54,
           9302317,
           45.59,
           "West",
           21.2787,
           81.8661
          ],
          [
           "Chhattisgarh",
           " 30-04-2020",
           " M",
           3.41,
           7600448,
           35.58,
           "West",
           21.2787,
           81.8661
          ],
          [
           "Chhattisgarh",
           " 31-05-2020",
           " M",
           10.5,
           6991217,
           35.23,
           "West",
           21.2787,
           81.8661
          ],
          [
           "Chhattisgarh",
           " 30-06-2020",
           " M",
           14.23,
           7332807,
           38.48,
           "West",
           21.2787,
           81.8661
          ],
          [
           "Chhattisgarh",
           " 31-07-2020",
           " M",
           10.27,
           8620294,
           43.14,
           "West",
           21.2787,
           81.8661
          ],
          [
           "Chhattisgarh",
           " 31-08-2020",
           " M",
           5.63,
           9050422,
           42.97,
           "West",
           21.2787,
           81.8661
          ],
          [
           "Chhattisgarh",
           " 30-09-2020",
           " M",
           1.96,
           9021854,
           41.14,
           "West",
           21.2787,
           81.8661
          ],
          [
           "Chhattisgarh",
           " 31-10-2020",
           " M",
           6.62,
           8546847,
           40.82,
           "West",
           21.2787,
           81.8661
          ],
          [
           "Delhi",
           " 31-01-2020",
           " M",
           22.23,
           5805284,
           47.79,
           "North",
           28.7041,
           77.1025
          ],
          [
           "Delhi",
           " 29-02-2020",
           " M",
           14.84,
           5856307,
           43.92,
           "North",
           28.7041,
           77.1025
          ],
          [
           "Delhi",
           " 31-03-2020",
           " M",
           17.04,
           5553805,
           42.65,
           "North",
           28.7041,
           77.1025
          ],
          [
           "Delhi",
           " 30-04-2020",
           " M",
           16.68,
           3119274,
           23.8,
           "North",
           28.7041,
           77.1025
          ],
          [
           "Delhi",
           " 31-05-2020",
           " M",
           42.27,
           2632404,
           28.91,
           "North",
           28.7041,
           77.1025
          ],
          [
           "Delhi",
           " 30-06-2020",
           " M",
           18.19,
           4418914,
           34.17,
           "North",
           28.7041,
           77.1025
          ],
          [
           "Delhi",
           " 31-07-2020",
           " M",
           20.3,
           4291053,
           33.97,
           "North",
           28.7041,
           77.1025
          ],
          [
           "Delhi",
           " 31-08-2020",
           " M",
           13.79,
           4850107,
           35.41,
           "North",
           28.7041,
           77.1025
          ],
          [
           "Delhi",
           " 30-09-2020",
           " M",
           12.53,
           4958373,
           35.59,
           "North",
           28.7041,
           77.1025
          ],
          [
           "Delhi",
           " 31-10-2020",
           " M",
           6.27,
           4842698,
           32.36,
           "North",
           28.7041,
           77.1025
          ],
          [
           "Goa",
           " 31-01-2020",
           " M",
           8.89,
           416750,
           35.73,
           "West",
           15.2993,
           74.124
          ],
          [
           "Goa",
           " 29-02-2020",
           " M",
           2.81,
           478068,
           38.38,
           "West",
           15.2993,
           74.124
          ],
          [
           "Goa",
           " 31-03-2020",
           " M",
           5.25,
           411761,
           33.88,
           "West",
           15.2993,
           74.124
          ],
          [
           "Goa",
           " 30-04-2020",
           " M",
           13.31,
           500614,
           44.97,
           "West",
           15.2993,
           74.124
          ],
          [
           "Goa",
           " 31-05-2020",
           " M",
           21.25,
           378244,
           37.36,
           "West",
           15.2993,
           74.124
          ],
          [
           "Goa",
           " 30-06-2020",
           " M",
           9.96,
           489111,
           42.21,
           "West",
           15.2993,
           74.124
          ],
          [
           "Goa",
           " 31-07-2020",
           " M",
           17.07,
           458876,
           42.94,
           "West",
           15.2993,
           74.124
          ],
          [
           "Goa",
           " 31-08-2020",
           " M",
           16.21,
           473016,
           43.76,
           "West",
           15.2993,
           74.124
          ],
          [
           "Goa",
           " 30-09-2020",
           " M",
           15.38,
           425004,
           38.89,
           "West",
           15.2993,
           74.124
          ],
          [
           "Goa",
           " 31-10-2020",
           " M",
           11.54,
           392304,
           34.3,
           "West",
           15.2993,
           74.124
          ],
          [
           "Gujarat",
           " 31-01-2020",
           " M",
           5.54,
           24126346,
           48.49,
           "West",
           22.2587,
           71.1924
          ],
          [
           "Gujarat",
           " 29-02-2020",
           " M",
           6.38,
           24757795,
           50.11,
           "West",
           22.2587,
           71.1924
          ],
          [
           "Gujarat",
           " 31-03-2020",
           " M",
           6.66,
           23566641,
           47.75,
           "West",
           22.2587,
           71.1924
          ],
          [
           "Gujarat",
           " 30-04-2020",
           " M",
           18.71,
           15288878,
           35.5,
           "West",
           22.2587,
           71.1924
          ],
          [
           "Gujarat",
           " 31-05-2020",
           " M",
           12.11,
           17836936,
           38.23,
           "West",
           22.2587,
           71.1924
          ],
          [
           "Gujarat",
           " 30-06-2020",
           " M",
           3.2,
           23657055,
           45.96,
           "West",
           22.2587,
           71.1924
          ],
          [
           "Gujarat",
           " 31-07-2020",
           " M",
           1.84,
           24276120,
           46.41,
           "West",
           22.2587,
           71.1924
          ],
          [
           "Gujarat",
           " 31-08-2020",
           " M",
           1.87,
           22817232,
           43.55,
           "West",
           22.2587,
           71.1924
          ],
          [
           "Gujarat",
           " 30-09-2020",
           " M",
           3.42,
           25010199,
           48.41,
           "West",
           22.2587,
           71.1924
          ],
          [
           "Gujarat",
           " 31-10-2020",
           " M",
           4.03,
           25970259,
           50.49,
           "West",
           22.2587,
           71.1924
          ],
          [
           "Haryana",
           " 31-01-2020",
           " M",
           20.34,
           7693231,
           43.36,
           "North",
           29.0588,
           76.0856
          ],
          [
           "Haryana",
           " 29-02-2020",
           " M",
           25.77,
           7322942,
           44.21,
           "North",
           29.0588,
           76.0856
          ],
          [
           "Haryana",
           " 31-03-2020",
           " M",
           25.05,
           6641555,
           39.63,
           "North",
           29.0588,
           76.0856
          ],
          [
           "Haryana",
           " 30-04-2020",
           " M",
           43.22,
           5647630,
           44.38,
           "North",
           29.0588,
           76.0856
          ],
          [
           "Haryana",
           " 31-05-2020",
           " M",
           29.02,
           6437868,
           40.39,
           "North",
           29.0588,
           76.0856
          ],
          [
           "Haryana",
           " 30-06-2020",
           " M",
           26.7,
           6951934,
           42.14,
           "North",
           29.0588,
           76.0856
          ],
          [
           "Haryana",
           " 31-07-2020",
           " M",
           24.18,
           6800652,
           39.77,
           "North",
           29.0588,
           76.0856
          ],
          [
           "Haryana",
           " 31-08-2020",
           " M",
           33.5,
           7113788,
           47.32,
           "North",
           29.0588,
           76.0856
          ],
          [
           "Haryana",
           " 30-09-2020",
           " M",
           19.68,
           7132439,
           39.2,
           "North",
           29.0588,
           76.0856
          ],
          [
           "Haryana",
           " 31-10-2020",
           " M",
           27.31,
           6698551,
           40.6,
           "North",
           29.0588,
           76.0856
          ],
          [
           "Himachal Pradesh",
           " 31-01-2020",
           " M",
           16.83,
           2287632,
           45.5,
           "North",
           31.1048,
           77.1734
          ],
          [
           "Himachal Pradesh",
           " 29-02-2020",
           " M",
           16.84,
           2180268,
           43.3,
           "North",
           31.1048,
           77.1734
          ],
          [
           "Himachal Pradesh",
           " 31-03-2020",
           " M",
           18.76,
           2021858,
           41.04,
           "North",
           31.1048,
           77.1734
          ],
          [
           "Himachal Pradesh",
           " 30-04-2020",
           " M",
           2.2,
           1131128,
           19.04,
           "North",
           31.1048,
           77.1734
          ],
          [
           "Himachal Pradesh",
           " 31-05-2020",
           " M",
           26.95,
           1897639,
           42.7,
           "North",
           31.1048,
           77.1734
          ],
          [
           "Himachal Pradesh",
           " 30-06-2020",
           " M",
           13.47,
           2199683,
           41.72,
           "North",
           31.1048,
           77.1734
          ],
          [
           "Himachal Pradesh",
           " 31-07-2020",
           " M",
           24.31,
           2229456,
           48.25,
           "North",
           31.1048,
           77.1734
          ],
          [
           "Himachal Pradesh",
           " 31-08-2020",
           " M",
           15.79,
           2029740,
           39.42,
           "North",
           31.1048,
           77.1734
          ],
          [
           "Himachal Pradesh",
           " 30-09-2020",
           " M",
           12.04,
           2237480,
           41.54,
           "North",
           31.1048,
           77.1734
          ],
          [
           "Himachal Pradesh",
           " 31-10-2020",
           " M",
           13.46,
           2123965,
           40.01,
           "North",
           31.1048,
           77.1734
          ],
          [
           "Jammu & Kashmir",
           " 31-01-2020",
           " M",
           21.08,
           3453025,
           42.2,
           "North",
           33.7782,
           76.5762
          ],
          [
           "Jammu & Kashmir",
           " 29-02-2020",
           " M",
           20.78,
           3223513,
           39.17,
           "North",
           33.7782,
           76.5762
          ],
          [
           "Jammu & Kashmir",
           " 31-03-2020",
           " M",
           15.5,
           3359107,
           38.18,
           "North",
           33.7782,
           76.5762
          ],
          [
           "Jammu & Kashmir",
           " 31-05-2020",
           " M",
           18.74,
           3246493,
           38.21,
           "North",
           33.7782,
           76.5762
          ],
          [
           "Jammu & Kashmir",
           " 30-06-2020",
           " M",
           17.92,
           3202336,
           37.24,
           "North",
           33.7782,
           76.5762
          ],
          [
           "Jammu & Kashmir",
           " 31-07-2020",
           " M",
           10.88,
           3558889,
           38.03,
           "North",
           33.7782,
           76.5762
          ],
          [
           "Jammu & Kashmir",
           " 31-08-2020",
           " M",
           11.09,
           3429950,
           36.66,
           "North",
           33.7782,
           76.5762
          ],
          [
           "Jammu & Kashmir",
           " 30-09-2020",
           " M",
           16.17,
           3210281,
           36.31,
           "North",
           33.7782,
           76.5762
          ],
          [
           "Jammu & Kashmir",
           " 31-10-2020",
           " M",
           16.14,
           3106691,
           35.05,
           "North",
           33.7782,
           76.5762
          ],
          [
           "Jharkhand",
           " 31-01-2020",
           " M",
           10.61,
           10198029,
           42.92,
           "East",
           23.6102,
           85.2799
          ],
          [
           "Jharkhand",
           " 29-02-2020",
           " M",
           11.85,
           10425425,
           44.4,
           "East",
           23.6102,
           85.2799
          ],
          [
           "Jharkhand",
           " 31-03-2020",
           " M",
           8.23,
           9638115,
           39.34,
           "East",
           23.6102,
           85.2799
          ],
          [
           "Jharkhand",
           " 30-04-2020",
           " M",
           47.09,
           5335262,
           37.69,
           "East",
           23.6102,
           85.2799
          ],
          [
           "Jharkhand",
           " 31-05-2020",
           " M",
           59.23,
           4145385,
           37.92,
           "East",
           23.6102,
           85.2799
          ],
          [
           "Jharkhand",
           " 30-06-2020",
           " M",
           20.95,
           8622722,
           40.59,
           "East",
           23.6102,
           85.2799
          ],
          [
           "Jharkhand",
           " 31-07-2020",
           " M",
           7.63,
           9521900,
           38.27,
           "East",
           23.6102,
           85.2799
          ],
          [
           "Jharkhand",
           " 31-08-2020",
           " M",
           9.76,
           9331640,
           38.31,
           "East",
           23.6102,
           85.2799
          ],
          [
           "Jharkhand",
           " 30-09-2020",
           " M",
           8.24,
           10185670,
           41.04,
           "East",
           23.6102,
           85.2799
          ],
          [
           "Jharkhand",
           " 31-10-2020",
           " M",
           11.8,
           10302276,
           43.08,
           "East",
           23.6102,
           85.2799
          ],
          [
           "Karnataka",
           " 31-01-2020",
           " M",
           2.86,
           22688028,
           42.18,
           "South",
           15.3173,
           75.7139
          ],
          [
           "Karnataka",
           " 29-02-2020",
           " M",
           3.61,
           21677719,
           40.54,
           "South",
           15.3173,
           75.7139
          ],
          [
           "Karnataka",
           " 31-03-2020",
           " M",
           3.46,
           22079653,
           41.14,
           "South",
           15.3173,
           75.7139
          ],
          [
           "Karnataka",
           " 30-04-2020",
           " M",
           29.84,
           16718395,
           42.78,
           "South",
           15.3173,
           75.7139
          ],
          [
           "Karnataka",
           " 31-05-2020",
           " M",
           19.97,
           19397853,
           43.43,
           "South",
           15.3173,
           75.7139
          ],
          [
           "Karnataka",
           " 30-06-2020",
           " M",
           8.44,
           24215057,
           47.29,
           "South",
           15.3173,
           75.7139
          ],
          [
           "Karnataka",
           " 31-07-2020",
           " M",
           4.01,
           22885616,
           42.55,
           "South",
           15.3173,
           75.7139
          ],
          [
           "Karnataka",
           " 31-08-2020",
           " M",
           0.5,
           24094289,
           43.13,
           "South",
           15.3173,
           75.7139
          ],
          [
           "Karnataka",
           " 30-09-2020",
           " M",
           2.41,
           20127176,
           36.66,
           "South",
           15.3173,
           75.7139
          ],
          [
           "Karnataka",
           " 31-10-2020",
           " M",
           1.58,
           22356390,
           40.3,
           "South",
           15.3173,
           75.7139
          ],
          [
           "Kerala",
           " 31-01-2020",
           " M",
           5.31,
           9904534,
           37.12,
           "South",
           10.8505,
           76.2711
          ],
          [
           "Kerala",
           " 29-02-2020",
           " M",
           7.6,
           9828023,
           37.71,
           "South",
           10.8505,
           76.2711
          ],
          [
           "Kerala",
           " 31-03-2020",
           " M",
           8.99,
           8221728,
           32,
           "South",
           10.8505,
           76.2711
          ],
          [
           "Kerala",
           " 30-04-2020",
           " M",
           16.99,
           3933276,
           16.77,
           "South",
           10.8505,
           76.2711
          ],
          [
           "Kerala",
           " 31-05-2020",
           " M",
           17.88,
           7921962,
           34.11,
           "South",
           10.8505,
           76.2711
          ],
          [
           "Kerala",
           " 30-06-2020",
           " M",
           9.71,
           9228268,
           36.11,
           "South",
           10.8505,
           76.2711
          ],
          [
           "Kerala",
           " 31-07-2020",
           " M",
           7.09,
           9504420,
           36.1,
           "South",
           10.8505,
           76.2711
          ],
          [
           "Kerala",
           " 31-08-2020",
           " M",
           10.98,
           9031944,
           35.78,
           "South",
           10.8505,
           76.2711
          ],
          [
           "Kerala",
           " 30-09-2020",
           " M",
           5.91,
           9240913,
           34.6,
           "South",
           10.8505,
           76.2711
          ],
          [
           "Kerala",
           " 31-10-2020",
           " M",
           3.88,
           9152881,
           33.52,
           "South",
           10.8505,
           76.2711
          ],
          [
           "Madhya Pradesh",
           " 31-01-2020",
           " M",
           4.11,
           23018632,
           39.42,
           "West",
           22.9734,
           78.6569
          ],
          [
           "Madhya Pradesh",
           " 29-02-2020",
           " M",
           4.57,
           22711479,
           39,
           "West",
           22.9734,
           78.6569
          ],
          [
           "Madhya Pradesh",
           " 31-03-2020",
           " M",
           2.22,
           22867164,
           38.24,
           "West",
           22.9734,
           78.6569
          ],
          [
           "Madhya Pradesh",
           " 30-04-2020",
           " M",
           12.36,
           19041832,
           35.45,
           "West",
           22.9734,
           78.6569
          ],
          [
           "Madhya Pradesh",
           " 31-05-2020",
           " M",
           21.98,
           18443927,
           38.48,
           "West",
           22.9734,
           78.6569
          ],
          [
           "Madhya Pradesh",
           " 30-06-2020",
           " M",
           6.48,
           23054646,
           40.04,
           "West",
           22.9734,
           78.6569
          ],
          [
           "Madhya Pradesh",
           " 31-07-2020",
           " M",
           5.08,
           23940158,
           40.88,
           "West",
           22.9734,
           78.6569
          ],
          [
           "Madhya Pradesh",
           " 31-08-2020",
           " M",
           4.7,
           23619011,
           40.08,
           "West",
           22.9734,
           78.6569
          ],
          [
           "Madhya Pradesh",
           " 30-09-2020",
           " M",
           3.91,
           23341952,
           39.2,
           "West",
           22.9734,
           78.6569
          ],
          [
           "Madhya Pradesh",
           " 31-10-2020",
           " M",
           3.13,
           23144552,
           38.47,
           "West",
           22.9734,
           78.6569
          ],
          [
           "Maharashtra",
           " 31-01-2020",
           " M",
           4.95,
           42596868,
           44.19,
           "West",
           19.7515,
           75.7139
          ],
          [
           "Maharashtra",
           " 29-02-2020",
           " M",
           4.69,
           42416317,
           43.8,
           "West",
           19.7515,
           75.7139
          ],
          [
           "Maharashtra",
           " 31-03-2020",
           " M",
           5.79,
           40196806,
           41.91,
           "West",
           19.7515,
           75.7139
          ],
          [
           "Maharashtra",
           " 30-04-2020",
           " M",
           20.9,
           27689253,
           34.32,
           "West",
           19.7515,
           75.7139
          ],
          [
           "Maharashtra",
           " 31-05-2020",
           " M",
           15.46,
           32116847,
           37.17,
           "West",
           19.7515,
           75.7139
          ],
          [
           "Maharashtra",
           " 30-06-2020",
           " M",
           9.23,
           39708538,
           42.71,
           "West",
           19.7515,
           75.7139
          ],
          [
           "Maharashtra",
           " 31-07-2020",
           " M",
           3.89,
           40998545,
           41.57,
           "West",
           19.7515,
           75.7139
          ],
          [
           "Maharashtra",
           " 31-08-2020",
           " M",
           6.23,
           40963616,
           42.49,
           "West",
           19.7515,
           75.7139
          ],
          [
           "Maharashtra",
           " 30-09-2020",
           " M",
           4.55,
           42042911,
           42.75,
           "West",
           19.7515,
           75.7139
          ],
          [
           "Maharashtra",
           " 31-10-2020",
           " M",
           4.1,
           43317881,
           43.75,
           "West",
           19.7515,
           75.7139
          ],
          [
           "Meghalaya",
           " 31-01-2020",
           " M",
           1.66,
           1491093,
           65.49,
           "Northeast",
           25.467,
           91.3662
          ],
          [
           "Meghalaya",
           " 29-02-2020",
           " M",
           3.59,
           1346829,
           60.2,
           "Northeast",
           25.467,
           91.3662
          ],
          [
           "Meghalaya",
           " 31-03-2020",
           " M",
           1.58,
           1482351,
           64.74,
           "Northeast",
           25.467,
           91.3662
          ],
          [
           "Meghalaya",
           " 30-04-2020",
           " M",
           10.03,
           965057,
           45.99,
           "Northeast",
           25.467,
           91.3662
          ],
          [
           "Meghalaya",
           " 31-05-2020",
           " M",
           5.92,
           1215064,
           55.24,
           "Northeast",
           25.467,
           91.3662
          ],
          [
           "Meghalaya",
           " 30-06-2020",
           " M",
           1.15,
           1350794,
           58.31,
           "Northeast",
           25.467,
           91.3662
          ],
          [
           "Meghalaya",
           " 31-07-2020",
           " M",
           2.1,
           1448106,
           62.96,
           "Northeast",
           25.467,
           91.3662
          ],
          [
           "Meghalaya",
           " 31-08-2020",
           " M",
           3.74,
           1357643,
           59.88,
           "Northeast",
           25.467,
           91.3662
          ],
          [
           "Meghalaya",
           " 30-09-2020",
           " M",
           4.29,
           1459726,
           64.6,
           "Northeast",
           25.467,
           91.3662
          ],
          [
           "Meghalaya",
           " 31-10-2020",
           " M",
           4.6,
           1381490,
           61.18,
           "Northeast",
           25.467,
           91.3662
          ],
          [
           "Odisha",
           " 31-01-2020",
           " M",
           1.9,
           13743448,
           39.44,
           "East",
           20.9517,
           85.0985
          ],
          [
           "Odisha",
           " 29-02-2020",
           " M",
           3.12,
           14280735,
           41.44,
           "East",
           20.9517,
           85.0985
          ],
          [
           "Odisha",
           " 31-03-2020",
           " M",
           13.08,
           12272109,
           39.62,
           "East",
           20.9517,
           85.0985
          ],
          [
           "Odisha",
           " 30-04-2020",
           " M",
           23.76,
           6865693,
           25.23,
           "East",
           20.9517,
           85.0985
          ],
          [
           "Odisha",
           " 31-05-2020",
           " M",
           11.41,
           11730937,
           37.04,
           "East",
           20.9517,
           85.0985
          ],
          [
           "Odisha",
           " 30-06-2020",
           " M",
           3.77,
           12903993,
           37.45,
           "East",
           20.9517,
           85.0985
          ],
          [
           "Odisha",
           " 31-07-2020",
           " M",
           1.88,
           13614400,
           38.69,
           "East",
           20.9517,
           85.0985
          ],
          [
           "Odisha",
           " 31-08-2020",
           " M",
           1.42,
           14154039,
           39.96,
           "East",
           20.9517,
           85.0985
          ],
          [
           "Odisha",
           " 30-09-2020",
           " M",
           2.1,
           13608422,
           38.63,
           "East",
           20.9517,
           85.0985
          ],
          [
           "Odisha",
           " 31-10-2020",
           " M",
           2.18,
           14094553,
           39.98,
           "East",
           20.9517,
           85.0985
          ],
          [
           "Puducherry",
           " 31-01-2020",
           " M",
           0.58,
           457950,
           37.46,
           "South",
           11.9416,
           79.8083
          ],
          [
           "Puducherry",
           " 29-02-2020",
           " M",
           1.76,
           493961,
           40.8,
           "South",
           11.9416,
           79.8083
          ],
          [
           "Puducherry",
           " 31-03-2020",
           " M",
           1.2,
           421028,
           34.49,
           "South",
           11.9416,
           79.8083
          ],
          [
           "Puducherry",
           " 30-04-2020",
           " M",
           75.85,
           117542,
           39.3,
           "South",
           11.9416,
           79.8083
          ],
          [
           "Puducherry",
           " 31-05-2020",
           " M",
           58.19,
           172308,
           33.19,
           "South",
           11.9416,
           79.8083
          ],
          [
           "Puducherry",
           " 30-06-2020",
           " M",
           4.24,
           367135,
           30.8,
           "South",
           11.9416,
           79.8083
          ],
          [
           "Puducherry",
           " 31-07-2020",
           " M",
           15.47,
           386563,
           36.64,
           "South",
           11.9416,
           79.8083
          ],
          [
           "Puducherry",
           " 31-08-2020",
           " M",
           5.05,
           396006,
           33.34,
           "South",
           11.9416,
           79.8083
          ],
          [
           "Puducherry",
           " 30-09-2020",
           " M",
           10.9,
           411717,
           36.84,
           "South",
           11.9416,
           79.8083
          ],
          [
           "Puducherry",
           " 31-10-2020",
           " M",
           6.18,
           428419,
           36.32,
           "South",
           11.9416,
           79.8083
          ],
          [
           "Punjab",
           " 31-01-2020",
           " M",
           11.11,
           9442093,
           42.82,
           "North",
           31.1471,
           75.3412
          ],
          [
           "Punjab",
           " 29-02-2020",
           " M",
           10.97,
           9229047,
           41.72,
           "North",
           31.1471,
           75.3412
          ],
          [
           "Punjab",
           " 31-03-2020",
           " M",
           10.32,
           9975485,
           44.69,
           "North",
           31.1471,
           75.3412
          ],
          [
           "Punjab",
           " 30-04-2020",
           " M",
           2.86,
           7020565,
           28.99,
           "North",
           31.1471,
           75.3412
          ],
          [
           "Punjab",
           " 31-05-2020",
           " M",
           28.33,
           6872938,
           38.39,
           "North",
           31.1471,
           75.3412
          ],
          [
           "Punjab",
           " 30-06-2020",
           " M",
           16.55,
           8390766,
           40.18,
           "North",
           31.1471,
           75.3412
          ],
          [
           "Punjab",
           " 31-07-2020",
           " M",
           9.19,
           9732417,
           42.76,
           "North",
           31.1471,
           75.3412
          ],
          [
           "Punjab",
           " 31-08-2020",
           " M",
           10.99,
           9386169,
           41.99,
           "North",
           31.1471,
           75.3412
          ],
          [
           "Punjab",
           " 30-09-2020",
           " M",
           9.61,
           8980432,
           39.5,
           "North",
           31.1471,
           75.3412
          ],
          [
           "Punjab",
           " 31-10-2020",
           " M",
           9.88,
           8800430,
           38.75,
           "North",
           31.1471,
           75.3412
          ],
          [
           "Rajasthan",
           " 31-01-2020",
           " M",
           10.97,
           20641716,
           40.51,
           "North",
           27.0238,
           74.2179
          ],
          [
           "Rajasthan",
           " 29-02-2020",
           " M",
           15.16,
           20328915,
           41.77,
           "North",
           27.0238,
           74.2179
          ],
          [
           "Rajasthan",
           " 31-03-2020",
           " M",
           11.9,
           20024680,
           39.54,
           "North",
           27.0238,
           74.2179
          ],
          [
           "Rajasthan",
           " 30-04-2020",
           " M",
           17.7,
           15984142,
           33.71,
           "North",
           27.0238,
           74.2179
          ],
          [
           "Rajasthan",
           " 31-05-2020",
           " M",
           15.74,
           19826602,
           40.74,
           "North",
           27.0238,
           74.2179
          ],
          [
           "Rajasthan",
           " 30-06-2020",
           " M",
           14.39,
           20506612,
           41.38,
           "North",
           27.0238,
           74.2179
          ],
          [
           "Rajasthan",
           " 31-07-2020",
           " M",
           15.81,
           19932393,
           40.8,
           "North",
           27.0238,
           74.2179
          ],
          [
           "Rajasthan",
           " 31-08-2020",
           " M",
           17.51,
           20014060,
           41.71,
           "North",
           27.0238,
           74.2179
          ],
          [
           "Rajasthan",
           " 30-09-2020",
           " M",
           15.35,
           20149594,
           40.83,
           "North",
           27.0238,
           74.2179
          ],
          [
           "Rajasthan",
           " 31-10-2020",
           " M",
           24.15,
           19908808,
           44.92,
           "North",
           27.0238,
           74.2179
          ],
          [
           "Sikkim",
           " 31-03-2020",
           " M",
           23.57,
           262895,
           60.59,
           "Northeast",
           27.533,
           88.5122
          ],
          [
           "Sikkim",
           " 30-04-2020",
           " M",
           2.28,
           215303,
           38.7,
           "Northeast",
           27.533,
           88.5122
          ],
          [
           "Sikkim",
           " 31-05-2020",
           " M",
           24.51,
           193427,
           44.88,
           "Northeast",
           27.533,
           88.5122
          ],
          [
           "Sikkim",
           " 30-06-2020",
           " M",
           4.46,
           221058,
           40.4,
           "Northeast",
           27.533,
           88.5122
          ],
          [
           "Sikkim",
           " 31-07-2020",
           " M",
           4.45,
           265175,
           48.32,
           "Northeast",
           27.533,
           88.5122
          ],
          [
           "Sikkim",
           " 31-08-2020",
           " M",
           12.49,
           244462,
           48.49,
           "Northeast",
           27.533,
           88.5122
          ],
          [
           "Sikkim",
           " 30-09-2020",
           " M",
           5.7,
           231798,
           42.54,
           "Northeast",
           27.533,
           88.5122
          ],
          [
           "Sikkim",
           " 31-10-2020",
           " M",
           0.88,
           242068,
           42.13,
           "Northeast",
           27.533,
           88.5122
          ],
          [
           "Tamil Nadu",
           " 31-01-2020",
           " M",
           1.57,
           26881641,
           41.96,
           "South",
           11.1271,
           78.6569
          ],
          [
           "Tamil Nadu",
           " 29-02-2020",
           " M",
           2.09,
           27570589,
           43.2,
           "South",
           11.1271,
           78.6569
          ],
          [
           "Tamil Nadu",
           " 31-03-2020",
           " M",
           6.4,
           26830768,
           43.91,
           "South",
           11.1271,
           78.6569
          ],
          [
           "Tamil Nadu",
           " 30-04-2020",
           " M",
           49.83,
           9719167,
           29.63,
           "South",
           11.1271,
           78.6569
          ],
          [
           "Tamil Nadu",
           " 31-05-2020",
           " M",
           33.16,
           11483256,
           26.23,
           "South",
           11.1271,
           78.6569
          ],
          [
           "Tamil Nadu",
           " 30-06-2020",
           " M",
           12.2,
           19096847,
           33.16,
           "South",
           11.1271,
           78.6569
          ],
          [
           "Tamil Nadu",
           " 31-07-2020",
           " M",
           6.81,
           24572827,
           40.13,
           "South",
           11.1271,
           78.6569
          ],
          [
           "Tamil Nadu",
           " 31-08-2020",
           " M",
           2.65,
           27046415,
           42.22,
           "South",
           11.1271,
           78.6569
          ],
          [
           "Tamil Nadu",
           " 30-09-2020",
           " M",
           5,
           23025845,
           36.77,
           "South",
           11.1271,
           78.6569
          ],
          [
           "Tamil Nadu",
           " 31-10-2020",
           " M",
           2.16,
           23651626,
           36.62,
           "South",
           11.1271,
           78.6569
          ],
          [
           "Telangana",
           " 31-01-2020",
           " M",
           5.49,
           17609295,
           59.25,
           "South",
           18.1124,
           79.0193
          ],
          [
           "Telangana",
           " 29-02-2020",
           " M",
           8.29,
           16825970,
           58.24,
           "South",
           18.1124,
           79.0193
          ],
          [
           "Telangana",
           " 31-03-2020",
           " M",
           5.77,
           17341613,
           58.31,
           "South",
           18.1124,
           79.0193
          ],
          [
           "Telangana",
           " 30-04-2020",
           " M",
           6.25,
           12172230,
           41.06,
           "South",
           18.1124,
           79.0193
          ],
          [
           "Telangana",
           " 31-05-2020",
           " M",
           14.7,
           14977774,
           55.43,
           "South",
           18.1124,
           79.0193
          ],
          [
           "Telangana",
           " 30-06-2020",
           " M",
           10.55,
           15108910,
           53.22,
           "South",
           18.1124,
           79.0193
          ],
          [
           "Telangana",
           " 31-07-2020",
           " M",
           5.36,
           15679417,
           52.1,
           "South",
           18.1124,
           79.0193
          ],
          [
           "Telangana",
           " 31-08-2020",
           " M",
           5.79,
           18185429,
           60.59,
           "South",
           18.1124,
           79.0193
          ],
          [
           "Telangana",
           " 30-09-2020",
           " M",
           3.27,
           16961448,
           54.94,
           "South",
           18.1124,
           79.0193
          ],
          [
           "Telangana",
           " 31-10-2020",
           " M",
           2.86,
           17578739,
           56.58,
           "South",
           18.1124,
           79.0193
          ],
          [
           "Tripura",
           " 31-01-2020",
           " M",
           32.67,
           1508130,
           69.69,
           "Northeast",
           23.9408,
           91.9882
          ],
          [
           "Tripura",
           " 29-02-2020",
           " M",
           28.4,
           1584686,
           68.74,
           "Northeast",
           23.9408,
           91.9882
          ],
          [
           "Tripura",
           " 31-03-2020",
           " M",
           29.95,
           1511217,
           66.89,
           "Northeast",
           23.9408,
           91.9882
          ],
          [
           "Tripura",
           " 30-04-2020",
           " M",
           41.23,
           971514,
           51.16,
           "Northeast",
           23.9408,
           91.9882
          ],
          [
           "Tripura",
           " 31-05-2020",
           " M",
           21.51,
           1290986,
           50.81,
           "Northeast",
           23.9408,
           91.9882
          ],
          [
           "Tripura",
           " 30-06-2020",
           " M",
           21.71,
           1494140,
           58.85,
           "Northeast",
           23.9408,
           91.9882
          ],
          [
           "Tripura",
           " 31-07-2020",
           " M",
           18.24,
           1348849,
           50.78,
           "Northeast",
           23.9408,
           91.9882
          ],
          [
           "Tripura",
           " 31-08-2020",
           " M",
           27.92,
           1318621,
           56.21,
           "Northeast",
           23.9408,
           91.9882
          ],
          [
           "Tripura",
           " 30-09-2020",
           " M",
           17.35,
           1368244,
           50.77,
           "Northeast",
           23.9408,
           91.9882
          ],
          [
           "Tripura",
           " 31-10-2020",
           " M",
           11.57,
           1576529,
           54.58,
           "Northeast",
           23.9408,
           91.9882
          ],
          [
           "Uttar Pradesh",
           " 31-01-2020",
           " M",
           7.58,
           59433759,
           39.63,
           "North",
           26.8467,
           80.9462
          ],
          [
           "Uttar Pradesh",
           " 29-02-2020",
           " M",
           8.98,
           58060531,
           39.23,
           "North",
           26.8467,
           80.9462
          ],
          [
           "Uttar Pradesh",
           " 31-03-2020",
           " M",
           10.11,
           56976338,
           38.89,
           "North",
           26.8467,
           80.9462
          ],
          [
           "Uttar Pradesh",
           " 30-04-2020",
           " M",
           21.54,
           50915056,
           39.73,
           "North",
           26.8467,
           80.9462
          ],
          [
           "Uttar Pradesh",
           " 31-05-2020",
           " M",
           20.41,
           49801902,
           38.22,
           "North",
           26.8467,
           80.9462
          ],
          [
           "Uttar Pradesh",
           " 30-06-2020",
           " M",
           9.47,
           55380649,
           37.29,
           "North",
           26.8467,
           80.9462
          ],
          [
           "Uttar Pradesh",
           " 31-07-2020",
           " M",
           5.56,
           56201654,
           36.19,
           "North",
           26.8467,
           80.9462
          ],
          [
           "Uttar Pradesh",
           " 31-08-2020",
           " M",
           5.79,
           55831744,
           35.96,
           "North",
           26.8467,
           80.9462
          ],
          [
           "Uttar Pradesh",
           " 30-09-2020",
           " M",
           4.18,
           56106836,
           35.45,
           "North",
           26.8467,
           80.9462
          ],
          [
           "Uttar Pradesh",
           " 31-10-2020",
           " M",
           3.75,
           56539521,
           35.49,
           "North",
           26.8467,
           80.9462
          ],
          [
           "Uttarakhand",
           " 31-01-2020",
           " M",
           5.49,
           2711639,
           32.99,
           "North",
           30.0668,
           79.0193
          ],
          [
           "Uttarakhand",
           " 29-02-2020",
           " M",
           4.99,
           3020931,
           36.48,
           "North",
           30.0668,
           79.0193
          ],
          [
           "Uttarakhand",
           " 31-03-2020",
           " M",
           19.85,
           2539302,
           36.27,
           "North",
           30.0668,
           79.0193
          ],
          [
           "Uttarakhand",
           " 30-04-2020",
           " M",
           6.48,
           2720115,
           33.23,
           "North",
           30.0668,
           79.0193
          ],
          [
           "Uttarakhand",
           " 31-05-2020",
           " M",
           8.01,
           2694072,
           33.38,
           "North",
           30.0668,
           79.0193
          ],
          [
           "Uttarakhand",
           " 30-06-2020",
           " M",
           8.61,
           2656071,
           33.06,
           "North",
           30.0668,
           79.0193
          ],
          [
           "Uttarakhand",
           " 31-07-2020",
           " M",
           12.38,
           2938552,
           38.07,
           "North",
           30.0668,
           79.0193
          ],
          [
           "Uttarakhand",
           " 31-08-2020",
           " M",
           14.26,
           2717528,
           35.9,
           "North",
           30.0668,
           79.0193
          ],
          [
           "Uttarakhand",
           " 30-09-2020",
           " M",
           22.26,
           2695230,
           39.18,
           "North",
           30.0668,
           79.0193
          ],
          [
           "Uttarakhand",
           " 31-10-2020",
           " M",
           9.23,
           2739309,
           34.03,
           "North",
           30.0668,
           79.0193
          ],
          [
           "West Bengal",
           " 31-01-2020",
           " M",
           6.94,
           35820789,
           47.35,
           "East",
           22.9868,
           87.855
          ],
          [
           "West Bengal",
           " 29-02-2020",
           " M",
           4.92,
           36964178,
           47.74,
           "East",
           22.9868,
           87.855
          ],
          [
           "West Bengal",
           " 31-03-2020",
           " M",
           6.92,
           35903917,
           47.27,
           "East",
           22.9868,
           87.855
          ],
          [
           "West Bengal",
           " 30-04-2020",
           " M",
           17.41,
           26938836,
           39.9,
           "East",
           22.9868,
           87.855
          ],
          [
           "West Bengal",
           " 31-05-2020",
           " M",
           17.41,
           28356675,
           41.92,
           "East",
           22.9868,
           87.855
          ],
          [
           "West Bengal",
           " 30-06-2020",
           " M",
           7.29,
           30726310,
           40.39,
           "East",
           22.9868,
           87.855
          ],
          [
           "West Bengal",
           " 31-07-2020",
           " M",
           6.83,
           35372506,
           46.17,
           "East",
           22.9868,
           87.855
          ],
          [
           "West Bengal",
           " 31-08-2020",
           " M",
           14.87,
           33298644,
           47.48,
           "East",
           22.9868,
           87.855
          ],
          [
           "West Bengal",
           " 30-09-2020",
           " M",
           9.35,
           35707239,
           47.73,
           "East",
           22.9868,
           87.855
          ],
          [
           "West Bengal",
           " 31-10-2020",
           " M",
           9.98,
           33962549,
           45.63,
           "East",
           22.9868,
           87.855
          ]
         ]
        }
       ],
       "layout": {
        "coloraxis": {
         "colorscale": [
          [
           0,
           "#0d0887"
          ],
          [
           0.1111111111111111,
           "#46039f"
          ],
          [
           0.2222222222222222,
           "#7201a8"
          ],
          [
           0.3333333333333333,
           "#9c179e"
          ],
          [
           0.4444444444444444,
           "#bd3786"
          ],
          [
           0.5555555555555556,
           "#d8576b"
          ],
          [
           0.6666666666666666,
           "#ed7953"
          ],
          [
           0.7777777777777778,
           "#fb9f3a"
          ],
          [
           0.8888888888888888,
           "#fdca26"
          ],
          [
           1,
           "#f0f921"
          ]
         ]
        },
        "margin": {
         "t": 60
        },
        "template": {
         "data": {
          "bar": [
           {
            "error_x": {
             "color": "#2a3f5f"
            },
            "error_y": {
             "color": "#2a3f5f"
            },
            "marker": {
             "line": {
              "color": "#E5ECF6",
              "width": 0.5
             },
             "pattern": {
              "fillmode": "overlay",
              "size": 10,
              "solidity": 0.2
             }
            },
            "type": "bar"
           }
          ],
          "barpolar": [
           {
            "marker": {
             "line": {
              "color": "#E5ECF6",
              "width": 0.5
             },
             "pattern": {
              "fillmode": "overlay",
              "size": 10,
              "solidity": 0.2
             }
            },
            "type": "barpolar"
           }
          ],
          "carpet": [
           {
            "aaxis": {
             "endlinecolor": "#2a3f5f",
             "gridcolor": "white",
             "linecolor": "white",
             "minorgridcolor": "white",
             "startlinecolor": "#2a3f5f"
            },
            "baxis": {
             "endlinecolor": "#2a3f5f",
             "gridcolor": "white",
             "linecolor": "white",
             "minorgridcolor": "white",
             "startlinecolor": "#2a3f5f"
            },
            "type": "carpet"
           }
          ],
          "choropleth": [
           {
            "colorbar": {
             "outlinewidth": 0,
             "ticks": ""
            },
            "type": "choropleth"
           }
          ],
          "contour": [
           {
            "colorbar": {
             "outlinewidth": 0,
             "ticks": ""
            },
            "colorscale": [
             [
              0,
              "#0d0887"
             ],
             [
              0.1111111111111111,
              "#46039f"
             ],
             [
              0.2222222222222222,
              "#7201a8"
             ],
             [
              0.3333333333333333,
              "#9c179e"
             ],
             [
              0.4444444444444444,
              "#bd3786"
             ],
             [
              0.5555555555555556,
              "#d8576b"
             ],
             [
              0.6666666666666666,
              "#ed7953"
             ],
             [
              0.7777777777777778,
              "#fb9f3a"
             ],
             [
              0.8888888888888888,
              "#fdca26"
             ],
             [
              1,
              "#f0f921"
             ]
            ],
            "type": "contour"
           }
          ],
          "contourcarpet": [
           {
            "colorbar": {
             "outlinewidth": 0,
             "ticks": ""
            },
            "type": "contourcarpet"
           }
          ],
          "heatmap": [
           {
            "colorbar": {
             "outlinewidth": 0,
             "ticks": ""
            },
            "colorscale": [
             [
              0,
              "#0d0887"
             ],
             [
              0.1111111111111111,
              "#46039f"
             ],
             [
              0.2222222222222222,
              "#7201a8"
             ],
             [
              0.3333333333333333,
              "#9c179e"
             ],
             [
              0.4444444444444444,
              "#bd3786"
             ],
             [
              0.5555555555555556,
              "#d8576b"
             ],
             [
              0.6666666666666666,
              "#ed7953"
             ],
             [
              0.7777777777777778,
              "#fb9f3a"
             ],
             [
              0.8888888888888888,
              "#fdca26"
             ],
             [
              1,
              "#f0f921"
             ]
            ],
            "type": "heatmap"
           }
          ],
          "heatmapgl": [
           {
            "colorbar": {
             "outlinewidth": 0,
             "ticks": ""
            },
            "colorscale": [
             [
              0,
              "#0d0887"
             ],
             [
              0.1111111111111111,
              "#46039f"
             ],
             [
              0.2222222222222222,
              "#7201a8"
             ],
             [
              0.3333333333333333,
              "#9c179e"
             ],
             [
              0.4444444444444444,
              "#bd3786"
             ],
             [
              0.5555555555555556,
              "#d8576b"
             ],
             [
              0.6666666666666666,
              "#ed7953"
             ],
             [
              0.7777777777777778,
              "#fb9f3a"
             ],
             [
              0.8888888888888888,
              "#fdca26"
             ],
             [
              1,
              "#f0f921"
             ]
            ],
            "type": "heatmapgl"
           }
          ],
          "histogram": [
           {
            "marker": {
             "pattern": {
              "fillmode": "overlay",
              "size": 10,
              "solidity": 0.2
             }
            },
            "type": "histogram"
           }
          ],
          "histogram2d": [
           {
            "colorbar": {
             "outlinewidth": 0,
             "ticks": ""
            },
            "colorscale": [
             [
              0,
              "#0d0887"
             ],
             [
              0.1111111111111111,
              "#46039f"
             ],
             [
              0.2222222222222222,
              "#7201a8"
             ],
             [
              0.3333333333333333,
              "#9c179e"
             ],
             [
              0.4444444444444444,
              "#bd3786"
             ],
             [
              0.5555555555555556,
              "#d8576b"
             ],
             [
              0.6666666666666666,
              "#ed7953"
             ],
             [
              0.7777777777777778,
              "#fb9f3a"
             ],
             [
              0.8888888888888888,
              "#fdca26"
             ],
             [
              1,
              "#f0f921"
             ]
            ],
            "type": "histogram2d"
           }
          ],
          "histogram2dcontour": [
           {
            "colorbar": {
             "outlinewidth": 0,
             "ticks": ""
            },
            "colorscale": [
             [
              0,
              "#0d0887"
             ],
             [
              0.1111111111111111,
              "#46039f"
             ],
             [
              0.2222222222222222,
              "#7201a8"
             ],
             [
              0.3333333333333333,
              "#9c179e"
             ],
             [
              0.4444444444444444,
              "#bd3786"
             ],
             [
              0.5555555555555556,
              "#d8576b"
             ],
             [
              0.6666666666666666,
              "#ed7953"
             ],
             [
              0.7777777777777778,
              "#fb9f3a"
             ],
             [
              0.8888888888888888,
              "#fdca26"
             ],
             [
              1,
              "#f0f921"
             ]
            ],
            "type": "histogram2dcontour"
           }
          ],
          "mesh3d": [
           {
            "colorbar": {
             "outlinewidth": 0,
             "ticks": ""
            },
            "type": "mesh3d"
           }
          ],
          "parcoords": [
           {
            "line": {
             "colorbar": {
              "outlinewidth": 0,
              "ticks": ""
             }
            },
            "type": "parcoords"
           }
          ],
          "pie": [
           {
            "automargin": true,
            "type": "pie"
           }
          ],
          "scatter": [
           {
            "fillpattern": {
             "fillmode": "overlay",
             "size": 10,
             "solidity": 0.2
            },
            "type": "scatter"
           }
          ],
          "scatter3d": [
           {
            "line": {
             "colorbar": {
              "outlinewidth": 0,
              "ticks": ""
             }
            },
            "marker": {
             "colorbar": {
              "outlinewidth": 0,
              "ticks": ""
             }
            },
            "type": "scatter3d"
           }
          ],
          "scattercarpet": [
           {
            "marker": {
             "colorbar": {
              "outlinewidth": 0,
              "ticks": ""
             }
            },
            "type": "scattercarpet"
           }
          ],
          "scattergeo": [
           {
            "marker": {
             "colorbar": {
              "outlinewidth": 0,
              "ticks": ""
             }
            },
            "type": "scattergeo"
           }
          ],
          "scattergl": [
           {
            "marker": {
             "colorbar": {
              "outlinewidth": 0,
              "ticks": ""
             }
            },
            "type": "scattergl"
           }
          ],
          "scattermapbox": [
           {
            "marker": {
             "colorbar": {
              "outlinewidth": 0,
              "ticks": ""
             }
            },
            "type": "scattermapbox"
           }
          ],
          "scatterpolar": [
           {
            "marker": {
             "colorbar": {
              "outlinewidth": 0,
              "ticks": ""
             }
            },
            "type": "scatterpolar"
           }
          ],
          "scatterpolargl": [
           {
            "marker": {
             "colorbar": {
              "outlinewidth": 0,
              "ticks": ""
             }
            },
            "type": "scatterpolargl"
           }
          ],
          "scatterternary": [
           {
            "marker": {
             "colorbar": {
              "outlinewidth": 0,
              "ticks": ""
             }
            },
            "type": "scatterternary"
           }
          ],
          "surface": [
           {
            "colorbar": {
             "outlinewidth": 0,
             "ticks": ""
            },
            "colorscale": [
             [
              0,
              "#0d0887"
             ],
             [
              0.1111111111111111,
              "#46039f"
             ],
             [
              0.2222222222222222,
              "#7201a8"
             ],
             [
              0.3333333333333333,
              "#9c179e"
             ],
             [
              0.4444444444444444,
              "#bd3786"
             ],
             [
              0.5555555555555556,
              "#d8576b"
             ],
             [
              0.6666666666666666,
              "#ed7953"
             ],
             [
              0.7777777777777778,
              "#fb9f3a"
             ],
             [
              0.8888888888888888,
              "#fdca26"
             ],
             [
              1,
              "#f0f921"
             ]
            ],
            "type": "surface"
           }
          ],
          "table": [
           {
            "cells": {
             "fill": {
              "color": "#EBF0F8"
             },
             "line": {
              "color": "white"
             }
            },
            "header": {
             "fill": {
              "color": "#C8D4E3"
             },
             "line": {
              "color": "white"
             }
            },
            "type": "table"
           }
          ]
         },
         "layout": {
          "annotationdefaults": {
           "arrowcolor": "#2a3f5f",
           "arrowhead": 0,
           "arrowwidth": 1
          },
          "autotypenumbers": "strict",
          "coloraxis": {
           "colorbar": {
            "outlinewidth": 0,
            "ticks": ""
           }
          },
          "colorscale": {
           "diverging": [
            [
             0,
             "#8e0152"
            ],
            [
             0.1,
             "#c51b7d"
            ],
            [
             0.2,
             "#de77ae"
            ],
            [
             0.3,
             "#f1b6da"
            ],
            [
             0.4,
             "#fde0ef"
            ],
            [
             0.5,
             "#f7f7f7"
            ],
            [
             0.6,
             "#e6f5d0"
            ],
            [
             0.7,
             "#b8e186"
            ],
            [
             0.8,
             "#7fbc41"
            ],
            [
             0.9,
             "#4d9221"
            ],
            [
             1,
             "#276419"
            ]
           ],
           "sequential": [
            [
             0,
             "#0d0887"
            ],
            [
             0.1111111111111111,
             "#46039f"
            ],
            [
             0.2222222222222222,
             "#7201a8"
            ],
            [
             0.3333333333333333,
             "#9c179e"
            ],
            [
             0.4444444444444444,
             "#bd3786"
            ],
            [
             0.5555555555555556,
             "#d8576b"
            ],
            [
             0.6666666666666666,
             "#ed7953"
            ],
            [
             0.7777777777777778,
             "#fb9f3a"
            ],
            [
             0.8888888888888888,
             "#fdca26"
            ],
            [
             1,
             "#f0f921"
            ]
           ],
           "sequentialminus": [
            [
             0,
             "#0d0887"
            ],
            [
             0.1111111111111111,
             "#46039f"
            ],
            [
             0.2222222222222222,
             "#7201a8"
            ],
            [
             0.3333333333333333,
             "#9c179e"
            ],
            [
             0.4444444444444444,
             "#bd3786"
            ],
            [
             0.5555555555555556,
             "#d8576b"
            ],
            [
             0.6666666666666666,
             "#ed7953"
            ],
            [
             0.7777777777777778,
             "#fb9f3a"
            ],
            [
             0.8888888888888888,
             "#fdca26"
            ],
            [
             1,
             "#f0f921"
            ]
           ]
          },
          "colorway": [
           "#636efa",
           "#EF553B",
           "#00cc96",
           "#ab63fa",
           "#FFA15A",
           "#19d3f3",
           "#FF6692",
           "#B6E880",
           "#FF97FF",
           "#FECB52"
          ],
          "font": {
           "color": "#2a3f5f"
          },
          "geo": {
           "bgcolor": "white",
           "lakecolor": "white",
           "landcolor": "#E5ECF6",
           "showlakes": true,
           "showland": true,
           "subunitcolor": "white"
          },
          "hoverlabel": {
           "align": "left"
          },
          "hovermode": "closest",
          "mapbox": {
           "style": "light"
          },
          "paper_bgcolor": "white",
          "plot_bgcolor": "#E5ECF6",
          "polar": {
           "angularaxis": {
            "gridcolor": "white",
            "linecolor": "white",
            "ticks": ""
           },
           "bgcolor": "#E5ECF6",
           "radialaxis": {
            "gridcolor": "white",
            "linecolor": "white",
            "ticks": ""
           }
          },
          "scene": {
           "xaxis": {
            "backgroundcolor": "#E5ECF6",
            "gridcolor": "white",
            "gridwidth": 2,
            "linecolor": "white",
            "showbackground": true,
            "ticks": "",
            "zerolinecolor": "white"
           },
           "yaxis": {
            "backgroundcolor": "#E5ECF6",
            "gridcolor": "white",
            "gridwidth": 2,
            "linecolor": "white",
            "showbackground": true,
            "ticks": "",
            "zerolinecolor": "white"
           },
           "zaxis": {
            "backgroundcolor": "#E5ECF6",
            "gridcolor": "white",
            "gridwidth": 2,
            "linecolor": "white",
            "showbackground": true,
            "ticks": "",
            "zerolinecolor": "white"
           }
          },
          "shapedefaults": {
           "line": {
            "color": "#2a3f5f"
           }
          },
          "ternary": {
           "aaxis": {
            "gridcolor": "white",
            "linecolor": "white",
            "ticks": ""
           },
           "baxis": {
            "gridcolor": "white",
            "linecolor": "white",
            "ticks": ""
           },
           "bgcolor": "#E5ECF6",
           "caxis": {
            "gridcolor": "white",
            "linecolor": "white",
            "ticks": ""
           }
          },
          "title": {
           "x": 0.05
          },
          "xaxis": {
           "automargin": true,
           "gridcolor": "white",
           "linecolor": "white",
           "ticks": "",
           "title": {
            "standoff": 15
           },
           "zerolinecolor": "white",
           "zerolinewidth": 2
          },
          "yaxis": {
           "automargin": true,
           "gridcolor": "white",
           "linecolor": "white",
           "ticks": "",
           "title": {
            "standoff": 15
           },
           "zerolinecolor": "white",
           "zerolinewidth": 2
          }
         }
        },
        "xaxis": {
         "anchor": "y",
         "constrain": "domain",
         "domain": [
          0,
          1
         ],
         "scaleanchor": "y"
        },
        "yaxis": {
         "anchor": "x",
         "autorange": "reversed",
         "constrain": "domain",
         "domain": [
          0,
          1
         ]
        }
       }
      },
      "text/html": [
       "<div>                            <div id=\"40485fca-9854-42f6-adac-77a13d4abc66\" class=\"plotly-graph-div\" style=\"height:525px; width:100%;\"></div>            <script type=\"text/javascript\">                require([\"plotly\"], function(Plotly) {                    window.PLOTLYENV=window.PLOTLYENV || {};                                    if (document.getElementById(\"40485fca-9854-42f6-adac-77a13d4abc66\")) {                    Plotly.newPlot(                        \"40485fca-9854-42f6-adac-77a13d4abc66\",                        [{\"coloraxis\":\"coloraxis\",\"name\":\"0\",\"x\":[\"Region\",\" Date\",\" Frequency\",\" Estimated Unemployment Rate (%)\",\" Estimated Employed\",\" Estimated Labour Participation Rate (%)\",\"Region.1\",\"longitude\",\"latitude\"],\"y\":[0,1,2,3,4,5,6,7,8,9,10,11,12,13,14,15,16,17,18,19,20,21,22,23,24,25,26,27,28,29,30,31,32,33,34,35,36,37,38,39,40,41,42,43,44,45,46,47,48,49,50,51,52,53,54,55,56,57,58,59,60,61,62,63,64,65,66,67,68,69,70,71,72,73,74,75,76,77,78,79,80,81,82,83,84,85,86,87,88,89,90,91,92,93,94,95,96,97,98,99,100,101,102,103,104,105,106,107,108,109,110,111,112,113,114,115,116,117,118,119,120,121,122,123,124,125,126,127,128,129,130,131,132,133,134,135,136,137,138,139,140,141,142,143,144,145,146,147,148,149,150,151,152,153,154,155,156,157,158,159,160,161,162,163,164,165,166,167,168,169,170,171,172,173,174,175,176,177,178,179,180,181,182,183,184,185,186,187,188,189,190,191,192,193,194,195,196,197,198,199,200,201,202,203,204,205,206,207,208,209,210,211,212,213,214,215,216,217,218,219,220,221,222,223,224,225,226,227,228,229,230,231,232,233,234,235,236,237,238,239,240,241,242,243,244,245,246,247,248,249,250,251,252,253,254,255,256,257,258,259,260,261,262,263,264,265,266],\"z\":[[\"Andhra Pradesh\",\" 31-01-2020\",\" M\",5.48,16635535,41.02,\"South\",15.9129,79.74],[\"Andhra Pradesh\",\" 29-02-2020\",\" M\",5.83,16545652,40.9,\"South\",15.9129,79.74],[\"Andhra Pradesh\",\" 31-03-2020\",\" M\",5.79,15881197,39.18,\"South\",15.9129,79.74],[\"Andhra Pradesh\",\" 30-04-2020\",\" M\",20.51,11336911,33.1,\"South\",15.9129,79.74],[\"Andhra Pradesh\",\" 31-05-2020\",\" M\",17.43,12988845,36.46,\"South\",15.9129,79.74],[\"Andhra Pradesh\",\" 30-06-2020\",\" M\",3.31,19805400,47.41,\"South\",15.9129,79.74],[\"Andhra Pradesh\",\" 31-07-2020\",\" M\",8.34,15431615,38.91,\"South\",15.9129,79.74],[\"Andhra Pradesh\",\" 31-08-2020\",\" M\",6.96,15251776,37.83,\"South\",15.9129,79.74],[\"Andhra Pradesh\",\" 30-09-2020\",\" M\",6.4,15220312,37.47,\"South\",15.9129,79.74],[\"Andhra Pradesh\",\" 31-10-2020\",\" M\",6.59,15157557,37.34,\"South\",15.9129,79.74],[\"Assam\",\" 31-01-2020\",\" M\",4.66,13051904,52.98,\"Northeast\",26.2006,92.9376],[\"Assam\",\" 29-02-2020\",\" M\",4.41,10088268,40.77,\"Northeast\",26.2006,92.9376],[\"Assam\",\" 31-03-2020\",\" M\",4.77,11542888,46.73,\"Northeast\",26.2006,92.9376],[\"Assam\",\" 30-04-2020\",\" M\",11.06,6830817,29.55,\"Northeast\",26.2006,92.9376],[\"Assam\",\" 31-05-2020\",\" M\",9.55,11367897,48.26,\"Northeast\",26.2006,92.9376],[\"Assam\",\" 30-06-2020\",\" M\",0.6,9095944,35.07,\"Northeast\",26.2006,92.9376],[\"Assam\",\" 31-07-2020\",\" M\",3.77,10286757,40.88,\"Northeast\",26.2006,92.9376],[\"Assam\",\" 31-08-2020\",\" M\",5.53,9781310,39.52,\"Northeast\",26.2006,92.9376],[\"Assam\",\" 30-09-2020\",\" M\",1.19,14107641,54.38,\"Northeast\",26.2006,92.9376],[\"Assam\",\" 31-10-2020\",\" M\",3.02,11949329,46.84,\"Northeast\",26.2006,92.9376],[\"Bihar\",\" 31-01-2020\",\" M\",10.61,26397671,37.72,\"East\",25.0961,85.3131],[\"Bihar\",\" 29-02-2020\",\" M\",10.29,26281655,37.35,\"East\",25.0961,85.3131],[\"Bihar\",\" 31-03-2020\",\" M\",15.43,25717519,38.69,\"East\",25.0961,85.3131],[\"Bihar\",\" 30-04-2020\",\" M\",46.64,16046236,38.17,\"East\",25.0961,85.3131],[\"Bihar\",\" 31-05-2020\",\" M\",45.96,16280203,38.16,\"East\",25.0961,85.3131],[\"Bihar\",\" 30-06-2020\",\" M\",17.82,23963933,36.86,\"East\",25.0961,85.3131],[\"Bihar\",\" 31-07-2020\",\" M\",12.79,24989370,36.14,\"East\",25.0961,85.3131],[\"Bihar\",\" 31-08-2020\",\" M\",13.44,23795534,34.59,\"East\",25.0961,85.3131],[\"Bihar\",\" 30-09-2020\",\" M\",11.91,26902907,38.35,\"East\",25.0961,85.3131],[\"Bihar\",\" 31-10-2020\",\" M\",9.82,25693252,35.7,\"East\",25.0961,85.3131],[\"Chhattisgarh\",\" 31-01-2020\",\" M\",9.65,8552172,43.08,\"West\",21.2787,81.8661],[\"Chhattisgarh\",\" 29-02-2020\",\" M\",8.38,9195114,45.58,\"West\",21.2787,81.8661],[\"Chhattisgarh\",\" 31-03-2020\",\" M\",7.54,9302317,45.59,\"West\",21.2787,81.8661],[\"Chhattisgarh\",\" 30-04-2020\",\" M\",3.41,7600448,35.58,\"West\",21.2787,81.8661],[\"Chhattisgarh\",\" 31-05-2020\",\" M\",10.5,6991217,35.23,\"West\",21.2787,81.8661],[\"Chhattisgarh\",\" 30-06-2020\",\" M\",14.23,7332807,38.48,\"West\",21.2787,81.8661],[\"Chhattisgarh\",\" 31-07-2020\",\" M\",10.27,8620294,43.14,\"West\",21.2787,81.8661],[\"Chhattisgarh\",\" 31-08-2020\",\" M\",5.63,9050422,42.97,\"West\",21.2787,81.8661],[\"Chhattisgarh\",\" 30-09-2020\",\" M\",1.96,9021854,41.14,\"West\",21.2787,81.8661],[\"Chhattisgarh\",\" 31-10-2020\",\" M\",6.62,8546847,40.82,\"West\",21.2787,81.8661],[\"Delhi\",\" 31-01-2020\",\" M\",22.23,5805284,47.79,\"North\",28.7041,77.1025],[\"Delhi\",\" 29-02-2020\",\" M\",14.84,5856307,43.92,\"North\",28.7041,77.1025],[\"Delhi\",\" 31-03-2020\",\" M\",17.04,5553805,42.65,\"North\",28.7041,77.1025],[\"Delhi\",\" 30-04-2020\",\" M\",16.68,3119274,23.8,\"North\",28.7041,77.1025],[\"Delhi\",\" 31-05-2020\",\" M\",42.27,2632404,28.91,\"North\",28.7041,77.1025],[\"Delhi\",\" 30-06-2020\",\" M\",18.19,4418914,34.17,\"North\",28.7041,77.1025],[\"Delhi\",\" 31-07-2020\",\" M\",20.3,4291053,33.97,\"North\",28.7041,77.1025],[\"Delhi\",\" 31-08-2020\",\" M\",13.79,4850107,35.41,\"North\",28.7041,77.1025],[\"Delhi\",\" 30-09-2020\",\" M\",12.53,4958373,35.59,\"North\",28.7041,77.1025],[\"Delhi\",\" 31-10-2020\",\" M\",6.27,4842698,32.36,\"North\",28.7041,77.1025],[\"Goa\",\" 31-01-2020\",\" M\",8.89,416750,35.73,\"West\",15.2993,74.124],[\"Goa\",\" 29-02-2020\",\" M\",2.81,478068,38.38,\"West\",15.2993,74.124],[\"Goa\",\" 31-03-2020\",\" M\",5.25,411761,33.88,\"West\",15.2993,74.124],[\"Goa\",\" 30-04-2020\",\" M\",13.31,500614,44.97,\"West\",15.2993,74.124],[\"Goa\",\" 31-05-2020\",\" M\",21.25,378244,37.36,\"West\",15.2993,74.124],[\"Goa\",\" 30-06-2020\",\" M\",9.96,489111,42.21,\"West\",15.2993,74.124],[\"Goa\",\" 31-07-2020\",\" M\",17.07,458876,42.94,\"West\",15.2993,74.124],[\"Goa\",\" 31-08-2020\",\" M\",16.21,473016,43.76,\"West\",15.2993,74.124],[\"Goa\",\" 30-09-2020\",\" M\",15.38,425004,38.89,\"West\",15.2993,74.124],[\"Goa\",\" 31-10-2020\",\" M\",11.54,392304,34.3,\"West\",15.2993,74.124],[\"Gujarat\",\" 31-01-2020\",\" M\",5.54,24126346,48.49,\"West\",22.2587,71.1924],[\"Gujarat\",\" 29-02-2020\",\" M\",6.38,24757795,50.11,\"West\",22.2587,71.1924],[\"Gujarat\",\" 31-03-2020\",\" M\",6.66,23566641,47.75,\"West\",22.2587,71.1924],[\"Gujarat\",\" 30-04-2020\",\" M\",18.71,15288878,35.5,\"West\",22.2587,71.1924],[\"Gujarat\",\" 31-05-2020\",\" M\",12.11,17836936,38.23,\"West\",22.2587,71.1924],[\"Gujarat\",\" 30-06-2020\",\" M\",3.2,23657055,45.96,\"West\",22.2587,71.1924],[\"Gujarat\",\" 31-07-2020\",\" M\",1.84,24276120,46.41,\"West\",22.2587,71.1924],[\"Gujarat\",\" 31-08-2020\",\" M\",1.87,22817232,43.55,\"West\",22.2587,71.1924],[\"Gujarat\",\" 30-09-2020\",\" M\",3.42,25010199,48.41,\"West\",22.2587,71.1924],[\"Gujarat\",\" 31-10-2020\",\" M\",4.03,25970259,50.49,\"West\",22.2587,71.1924],[\"Haryana\",\" 31-01-2020\",\" M\",20.34,7693231,43.36,\"North\",29.0588,76.0856],[\"Haryana\",\" 29-02-2020\",\" M\",25.77,7322942,44.21,\"North\",29.0588,76.0856],[\"Haryana\",\" 31-03-2020\",\" M\",25.05,6641555,39.63,\"North\",29.0588,76.0856],[\"Haryana\",\" 30-04-2020\",\" M\",43.22,5647630,44.38,\"North\",29.0588,76.0856],[\"Haryana\",\" 31-05-2020\",\" M\",29.02,6437868,40.39,\"North\",29.0588,76.0856],[\"Haryana\",\" 30-06-2020\",\" M\",26.7,6951934,42.14,\"North\",29.0588,76.0856],[\"Haryana\",\" 31-07-2020\",\" M\",24.18,6800652,39.77,\"North\",29.0588,76.0856],[\"Haryana\",\" 31-08-2020\",\" M\",33.5,7113788,47.32,\"North\",29.0588,76.0856],[\"Haryana\",\" 30-09-2020\",\" M\",19.68,7132439,39.2,\"North\",29.0588,76.0856],[\"Haryana\",\" 31-10-2020\",\" M\",27.31,6698551,40.6,\"North\",29.0588,76.0856],[\"Himachal Pradesh\",\" 31-01-2020\",\" M\",16.83,2287632,45.5,\"North\",31.1048,77.1734],[\"Himachal Pradesh\",\" 29-02-2020\",\" M\",16.84,2180268,43.3,\"North\",31.1048,77.1734],[\"Himachal Pradesh\",\" 31-03-2020\",\" M\",18.76,2021858,41.04,\"North\",31.1048,77.1734],[\"Himachal Pradesh\",\" 30-04-2020\",\" M\",2.2,1131128,19.04,\"North\",31.1048,77.1734],[\"Himachal Pradesh\",\" 31-05-2020\",\" M\",26.95,1897639,42.7,\"North\",31.1048,77.1734],[\"Himachal Pradesh\",\" 30-06-2020\",\" M\",13.47,2199683,41.72,\"North\",31.1048,77.1734],[\"Himachal Pradesh\",\" 31-07-2020\",\" M\",24.31,2229456,48.25,\"North\",31.1048,77.1734],[\"Himachal Pradesh\",\" 31-08-2020\",\" M\",15.79,2029740,39.42,\"North\",31.1048,77.1734],[\"Himachal Pradesh\",\" 30-09-2020\",\" M\",12.04,2237480,41.54,\"North\",31.1048,77.1734],[\"Himachal Pradesh\",\" 31-10-2020\",\" M\",13.46,2123965,40.01,\"North\",31.1048,77.1734],[\"Jammu & Kashmir\",\" 31-01-2020\",\" M\",21.08,3453025,42.2,\"North\",33.7782,76.5762],[\"Jammu & Kashmir\",\" 29-02-2020\",\" M\",20.78,3223513,39.17,\"North\",33.7782,76.5762],[\"Jammu & Kashmir\",\" 31-03-2020\",\" M\",15.5,3359107,38.18,\"North\",33.7782,76.5762],[\"Jammu & Kashmir\",\" 31-05-2020\",\" M\",18.74,3246493,38.21,\"North\",33.7782,76.5762],[\"Jammu & Kashmir\",\" 30-06-2020\",\" M\",17.92,3202336,37.24,\"North\",33.7782,76.5762],[\"Jammu & Kashmir\",\" 31-07-2020\",\" M\",10.88,3558889,38.03,\"North\",33.7782,76.5762],[\"Jammu & Kashmir\",\" 31-08-2020\",\" M\",11.09,3429950,36.66,\"North\",33.7782,76.5762],[\"Jammu & Kashmir\",\" 30-09-2020\",\" M\",16.17,3210281,36.31,\"North\",33.7782,76.5762],[\"Jammu & Kashmir\",\" 31-10-2020\",\" M\",16.14,3106691,35.05,\"North\",33.7782,76.5762],[\"Jharkhand\",\" 31-01-2020\",\" M\",10.61,10198029,42.92,\"East\",23.6102,85.2799],[\"Jharkhand\",\" 29-02-2020\",\" M\",11.85,10425425,44.4,\"East\",23.6102,85.2799],[\"Jharkhand\",\" 31-03-2020\",\" M\",8.23,9638115,39.34,\"East\",23.6102,85.2799],[\"Jharkhand\",\" 30-04-2020\",\" M\",47.09,5335262,37.69,\"East\",23.6102,85.2799],[\"Jharkhand\",\" 31-05-2020\",\" M\",59.23,4145385,37.92,\"East\",23.6102,85.2799],[\"Jharkhand\",\" 30-06-2020\",\" M\",20.95,8622722,40.59,\"East\",23.6102,85.2799],[\"Jharkhand\",\" 31-07-2020\",\" M\",7.63,9521900,38.27,\"East\",23.6102,85.2799],[\"Jharkhand\",\" 31-08-2020\",\" M\",9.76,9331640,38.31,\"East\",23.6102,85.2799],[\"Jharkhand\",\" 30-09-2020\",\" M\",8.24,10185670,41.04,\"East\",23.6102,85.2799],[\"Jharkhand\",\" 31-10-2020\",\" M\",11.8,10302276,43.08,\"East\",23.6102,85.2799],[\"Karnataka\",\" 31-01-2020\",\" M\",2.86,22688028,42.18,\"South\",15.3173,75.7139],[\"Karnataka\",\" 29-02-2020\",\" M\",3.61,21677719,40.54,\"South\",15.3173,75.7139],[\"Karnataka\",\" 31-03-2020\",\" M\",3.46,22079653,41.14,\"South\",15.3173,75.7139],[\"Karnataka\",\" 30-04-2020\",\" M\",29.84,16718395,42.78,\"South\",15.3173,75.7139],[\"Karnataka\",\" 31-05-2020\",\" M\",19.97,19397853,43.43,\"South\",15.3173,75.7139],[\"Karnataka\",\" 30-06-2020\",\" M\",8.44,24215057,47.29,\"South\",15.3173,75.7139],[\"Karnataka\",\" 31-07-2020\",\" M\",4.01,22885616,42.55,\"South\",15.3173,75.7139],[\"Karnataka\",\" 31-08-2020\",\" M\",0.5,24094289,43.13,\"South\",15.3173,75.7139],[\"Karnataka\",\" 30-09-2020\",\" M\",2.41,20127176,36.66,\"South\",15.3173,75.7139],[\"Karnataka\",\" 31-10-2020\",\" M\",1.58,22356390,40.3,\"South\",15.3173,75.7139],[\"Kerala\",\" 31-01-2020\",\" M\",5.31,9904534,37.12,\"South\",10.8505,76.2711],[\"Kerala\",\" 29-02-2020\",\" M\",7.6,9828023,37.71,\"South\",10.8505,76.2711],[\"Kerala\",\" 31-03-2020\",\" M\",8.99,8221728,32.0,\"South\",10.8505,76.2711],[\"Kerala\",\" 30-04-2020\",\" M\",16.99,3933276,16.77,\"South\",10.8505,76.2711],[\"Kerala\",\" 31-05-2020\",\" M\",17.88,7921962,34.11,\"South\",10.8505,76.2711],[\"Kerala\",\" 30-06-2020\",\" M\",9.71,9228268,36.11,\"South\",10.8505,76.2711],[\"Kerala\",\" 31-07-2020\",\" M\",7.09,9504420,36.1,\"South\",10.8505,76.2711],[\"Kerala\",\" 31-08-2020\",\" M\",10.98,9031944,35.78,\"South\",10.8505,76.2711],[\"Kerala\",\" 30-09-2020\",\" M\",5.91,9240913,34.6,\"South\",10.8505,76.2711],[\"Kerala\",\" 31-10-2020\",\" M\",3.88,9152881,33.52,\"South\",10.8505,76.2711],[\"Madhya Pradesh\",\" 31-01-2020\",\" M\",4.11,23018632,39.42,\"West\",22.9734,78.6569],[\"Madhya Pradesh\",\" 29-02-2020\",\" M\",4.57,22711479,39.0,\"West\",22.9734,78.6569],[\"Madhya Pradesh\",\" 31-03-2020\",\" M\",2.22,22867164,38.24,\"West\",22.9734,78.6569],[\"Madhya Pradesh\",\" 30-04-2020\",\" M\",12.36,19041832,35.45,\"West\",22.9734,78.6569],[\"Madhya Pradesh\",\" 31-05-2020\",\" M\",21.98,18443927,38.48,\"West\",22.9734,78.6569],[\"Madhya Pradesh\",\" 30-06-2020\",\" M\",6.48,23054646,40.04,\"West\",22.9734,78.6569],[\"Madhya Pradesh\",\" 31-07-2020\",\" M\",5.08,23940158,40.88,\"West\",22.9734,78.6569],[\"Madhya Pradesh\",\" 31-08-2020\",\" M\",4.7,23619011,40.08,\"West\",22.9734,78.6569],[\"Madhya Pradesh\",\" 30-09-2020\",\" M\",3.91,23341952,39.2,\"West\",22.9734,78.6569],[\"Madhya Pradesh\",\" 31-10-2020\",\" M\",3.13,23144552,38.47,\"West\",22.9734,78.6569],[\"Maharashtra\",\" 31-01-2020\",\" M\",4.95,42596868,44.19,\"West\",19.7515,75.7139],[\"Maharashtra\",\" 29-02-2020\",\" M\",4.69,42416317,43.8,\"West\",19.7515,75.7139],[\"Maharashtra\",\" 31-03-2020\",\" M\",5.79,40196806,41.91,\"West\",19.7515,75.7139],[\"Maharashtra\",\" 30-04-2020\",\" M\",20.9,27689253,34.32,\"West\",19.7515,75.7139],[\"Maharashtra\",\" 31-05-2020\",\" M\",15.46,32116847,37.17,\"West\",19.7515,75.7139],[\"Maharashtra\",\" 30-06-2020\",\" M\",9.23,39708538,42.71,\"West\",19.7515,75.7139],[\"Maharashtra\",\" 31-07-2020\",\" M\",3.89,40998545,41.57,\"West\",19.7515,75.7139],[\"Maharashtra\",\" 31-08-2020\",\" M\",6.23,40963616,42.49,\"West\",19.7515,75.7139],[\"Maharashtra\",\" 30-09-2020\",\" M\",4.55,42042911,42.75,\"West\",19.7515,75.7139],[\"Maharashtra\",\" 31-10-2020\",\" M\",4.1,43317881,43.75,\"West\",19.7515,75.7139],[\"Meghalaya\",\" 31-01-2020\",\" M\",1.66,1491093,65.49,\"Northeast\",25.467,91.3662],[\"Meghalaya\",\" 29-02-2020\",\" M\",3.59,1346829,60.2,\"Northeast\",25.467,91.3662],[\"Meghalaya\",\" 31-03-2020\",\" M\",1.58,1482351,64.74,\"Northeast\",25.467,91.3662],[\"Meghalaya\",\" 30-04-2020\",\" M\",10.03,965057,45.99,\"Northeast\",25.467,91.3662],[\"Meghalaya\",\" 31-05-2020\",\" M\",5.92,1215064,55.24,\"Northeast\",25.467,91.3662],[\"Meghalaya\",\" 30-06-2020\",\" M\",1.15,1350794,58.31,\"Northeast\",25.467,91.3662],[\"Meghalaya\",\" 31-07-2020\",\" M\",2.1,1448106,62.96,\"Northeast\",25.467,91.3662],[\"Meghalaya\",\" 31-08-2020\",\" M\",3.74,1357643,59.88,\"Northeast\",25.467,91.3662],[\"Meghalaya\",\" 30-09-2020\",\" M\",4.29,1459726,64.6,\"Northeast\",25.467,91.3662],[\"Meghalaya\",\" 31-10-2020\",\" M\",4.6,1381490,61.18,\"Northeast\",25.467,91.3662],[\"Odisha\",\" 31-01-2020\",\" M\",1.9,13743448,39.44,\"East\",20.9517,85.0985],[\"Odisha\",\" 29-02-2020\",\" M\",3.12,14280735,41.44,\"East\",20.9517,85.0985],[\"Odisha\",\" 31-03-2020\",\" M\",13.08,12272109,39.62,\"East\",20.9517,85.0985],[\"Odisha\",\" 30-04-2020\",\" M\",23.76,6865693,25.23,\"East\",20.9517,85.0985],[\"Odisha\",\" 31-05-2020\",\" M\",11.41,11730937,37.04,\"East\",20.9517,85.0985],[\"Odisha\",\" 30-06-2020\",\" M\",3.77,12903993,37.45,\"East\",20.9517,85.0985],[\"Odisha\",\" 31-07-2020\",\" M\",1.88,13614400,38.69,\"East\",20.9517,85.0985],[\"Odisha\",\" 31-08-2020\",\" M\",1.42,14154039,39.96,\"East\",20.9517,85.0985],[\"Odisha\",\" 30-09-2020\",\" M\",2.1,13608422,38.63,\"East\",20.9517,85.0985],[\"Odisha\",\" 31-10-2020\",\" M\",2.18,14094553,39.98,\"East\",20.9517,85.0985],[\"Puducherry\",\" 31-01-2020\",\" M\",0.58,457950,37.46,\"South\",11.9416,79.8083],[\"Puducherry\",\" 29-02-2020\",\" M\",1.76,493961,40.8,\"South\",11.9416,79.8083],[\"Puducherry\",\" 31-03-2020\",\" M\",1.2,421028,34.49,\"South\",11.9416,79.8083],[\"Puducherry\",\" 30-04-2020\",\" M\",75.85,117542,39.3,\"South\",11.9416,79.8083],[\"Puducherry\",\" 31-05-2020\",\" M\",58.19,172308,33.19,\"South\",11.9416,79.8083],[\"Puducherry\",\" 30-06-2020\",\" M\",4.24,367135,30.8,\"South\",11.9416,79.8083],[\"Puducherry\",\" 31-07-2020\",\" M\",15.47,386563,36.64,\"South\",11.9416,79.8083],[\"Puducherry\",\" 31-08-2020\",\" M\",5.05,396006,33.34,\"South\",11.9416,79.8083],[\"Puducherry\",\" 30-09-2020\",\" M\",10.9,411717,36.84,\"South\",11.9416,79.8083],[\"Puducherry\",\" 31-10-2020\",\" M\",6.18,428419,36.32,\"South\",11.9416,79.8083],[\"Punjab\",\" 31-01-2020\",\" M\",11.11,9442093,42.82,\"North\",31.1471,75.3412],[\"Punjab\",\" 29-02-2020\",\" M\",10.97,9229047,41.72,\"North\",31.1471,75.3412],[\"Punjab\",\" 31-03-2020\",\" M\",10.32,9975485,44.69,\"North\",31.1471,75.3412],[\"Punjab\",\" 30-04-2020\",\" M\",2.86,7020565,28.99,\"North\",31.1471,75.3412],[\"Punjab\",\" 31-05-2020\",\" M\",28.33,6872938,38.39,\"North\",31.1471,75.3412],[\"Punjab\",\" 30-06-2020\",\" M\",16.55,8390766,40.18,\"North\",31.1471,75.3412],[\"Punjab\",\" 31-07-2020\",\" M\",9.19,9732417,42.76,\"North\",31.1471,75.3412],[\"Punjab\",\" 31-08-2020\",\" M\",10.99,9386169,41.99,\"North\",31.1471,75.3412],[\"Punjab\",\" 30-09-2020\",\" M\",9.61,8980432,39.5,\"North\",31.1471,75.3412],[\"Punjab\",\" 31-10-2020\",\" M\",9.88,8800430,38.75,\"North\",31.1471,75.3412],[\"Rajasthan\",\" 31-01-2020\",\" M\",10.97,20641716,40.51,\"North\",27.0238,74.2179],[\"Rajasthan\",\" 29-02-2020\",\" M\",15.16,20328915,41.77,\"North\",27.0238,74.2179],[\"Rajasthan\",\" 31-03-2020\",\" M\",11.9,20024680,39.54,\"North\",27.0238,74.2179],[\"Rajasthan\",\" 30-04-2020\",\" M\",17.7,15984142,33.71,\"North\",27.0238,74.2179],[\"Rajasthan\",\" 31-05-2020\",\" M\",15.74,19826602,40.74,\"North\",27.0238,74.2179],[\"Rajasthan\",\" 30-06-2020\",\" M\",14.39,20506612,41.38,\"North\",27.0238,74.2179],[\"Rajasthan\",\" 31-07-2020\",\" M\",15.81,19932393,40.8,\"North\",27.0238,74.2179],[\"Rajasthan\",\" 31-08-2020\",\" M\",17.51,20014060,41.71,\"North\",27.0238,74.2179],[\"Rajasthan\",\" 30-09-2020\",\" M\",15.35,20149594,40.83,\"North\",27.0238,74.2179],[\"Rajasthan\",\" 31-10-2020\",\" M\",24.15,19908808,44.92,\"North\",27.0238,74.2179],[\"Sikkim\",\" 31-03-2020\",\" M\",23.57,262895,60.59,\"Northeast\",27.533,88.5122],[\"Sikkim\",\" 30-04-2020\",\" M\",2.28,215303,38.7,\"Northeast\",27.533,88.5122],[\"Sikkim\",\" 31-05-2020\",\" M\",24.51,193427,44.88,\"Northeast\",27.533,88.5122],[\"Sikkim\",\" 30-06-2020\",\" M\",4.46,221058,40.4,\"Northeast\",27.533,88.5122],[\"Sikkim\",\" 31-07-2020\",\" M\",4.45,265175,48.32,\"Northeast\",27.533,88.5122],[\"Sikkim\",\" 31-08-2020\",\" M\",12.49,244462,48.49,\"Northeast\",27.533,88.5122],[\"Sikkim\",\" 30-09-2020\",\" M\",5.7,231798,42.54,\"Northeast\",27.533,88.5122],[\"Sikkim\",\" 31-10-2020\",\" M\",0.88,242068,42.13,\"Northeast\",27.533,88.5122],[\"Tamil Nadu\",\" 31-01-2020\",\" M\",1.57,26881641,41.96,\"South\",11.1271,78.6569],[\"Tamil Nadu\",\" 29-02-2020\",\" M\",2.09,27570589,43.2,\"South\",11.1271,78.6569],[\"Tamil Nadu\",\" 31-03-2020\",\" M\",6.4,26830768,43.91,\"South\",11.1271,78.6569],[\"Tamil Nadu\",\" 30-04-2020\",\" M\",49.83,9719167,29.63,\"South\",11.1271,78.6569],[\"Tamil Nadu\",\" 31-05-2020\",\" M\",33.16,11483256,26.23,\"South\",11.1271,78.6569],[\"Tamil Nadu\",\" 30-06-2020\",\" M\",12.2,19096847,33.16,\"South\",11.1271,78.6569],[\"Tamil Nadu\",\" 31-07-2020\",\" M\",6.81,24572827,40.13,\"South\",11.1271,78.6569],[\"Tamil Nadu\",\" 31-08-2020\",\" M\",2.65,27046415,42.22,\"South\",11.1271,78.6569],[\"Tamil Nadu\",\" 30-09-2020\",\" M\",5.0,23025845,36.77,\"South\",11.1271,78.6569],[\"Tamil Nadu\",\" 31-10-2020\",\" M\",2.16,23651626,36.62,\"South\",11.1271,78.6569],[\"Telangana\",\" 31-01-2020\",\" M\",5.49,17609295,59.25,\"South\",18.1124,79.0193],[\"Telangana\",\" 29-02-2020\",\" M\",8.29,16825970,58.24,\"South\",18.1124,79.0193],[\"Telangana\",\" 31-03-2020\",\" M\",5.77,17341613,58.31,\"South\",18.1124,79.0193],[\"Telangana\",\" 30-04-2020\",\" M\",6.25,12172230,41.06,\"South\",18.1124,79.0193],[\"Telangana\",\" 31-05-2020\",\" M\",14.7,14977774,55.43,\"South\",18.1124,79.0193],[\"Telangana\",\" 30-06-2020\",\" M\",10.55,15108910,53.22,\"South\",18.1124,79.0193],[\"Telangana\",\" 31-07-2020\",\" M\",5.36,15679417,52.1,\"South\",18.1124,79.0193],[\"Telangana\",\" 31-08-2020\",\" M\",5.79,18185429,60.59,\"South\",18.1124,79.0193],[\"Telangana\",\" 30-09-2020\",\" M\",3.27,16961448,54.94,\"South\",18.1124,79.0193],[\"Telangana\",\" 31-10-2020\",\" M\",2.86,17578739,56.58,\"South\",18.1124,79.0193],[\"Tripura\",\" 31-01-2020\",\" M\",32.67,1508130,69.69,\"Northeast\",23.9408,91.9882],[\"Tripura\",\" 29-02-2020\",\" M\",28.4,1584686,68.74,\"Northeast\",23.9408,91.9882],[\"Tripura\",\" 31-03-2020\",\" M\",29.95,1511217,66.89,\"Northeast\",23.9408,91.9882],[\"Tripura\",\" 30-04-2020\",\" M\",41.23,971514,51.16,\"Northeast\",23.9408,91.9882],[\"Tripura\",\" 31-05-2020\",\" M\",21.51,1290986,50.81,\"Northeast\",23.9408,91.9882],[\"Tripura\",\" 30-06-2020\",\" M\",21.71,1494140,58.85,\"Northeast\",23.9408,91.9882],[\"Tripura\",\" 31-07-2020\",\" M\",18.24,1348849,50.78,\"Northeast\",23.9408,91.9882],[\"Tripura\",\" 31-08-2020\",\" M\",27.92,1318621,56.21,\"Northeast\",23.9408,91.9882],[\"Tripura\",\" 30-09-2020\",\" M\",17.35,1368244,50.77,\"Northeast\",23.9408,91.9882],[\"Tripura\",\" 31-10-2020\",\" M\",11.57,1576529,54.58,\"Northeast\",23.9408,91.9882],[\"Uttar Pradesh\",\" 31-01-2020\",\" M\",7.58,59433759,39.63,\"North\",26.8467,80.9462],[\"Uttar Pradesh\",\" 29-02-2020\",\" M\",8.98,58060531,39.23,\"North\",26.8467,80.9462],[\"Uttar Pradesh\",\" 31-03-2020\",\" M\",10.11,56976338,38.89,\"North\",26.8467,80.9462],[\"Uttar Pradesh\",\" 30-04-2020\",\" M\",21.54,50915056,39.73,\"North\",26.8467,80.9462],[\"Uttar Pradesh\",\" 31-05-2020\",\" M\",20.41,49801902,38.22,\"North\",26.8467,80.9462],[\"Uttar Pradesh\",\" 30-06-2020\",\" M\",9.47,55380649,37.29,\"North\",26.8467,80.9462],[\"Uttar Pradesh\",\" 31-07-2020\",\" M\",5.56,56201654,36.19,\"North\",26.8467,80.9462],[\"Uttar Pradesh\",\" 31-08-2020\",\" M\",5.79,55831744,35.96,\"North\",26.8467,80.9462],[\"Uttar Pradesh\",\" 30-09-2020\",\" M\",4.18,56106836,35.45,\"North\",26.8467,80.9462],[\"Uttar Pradesh\",\" 31-10-2020\",\" M\",3.75,56539521,35.49,\"North\",26.8467,80.9462],[\"Uttarakhand\",\" 31-01-2020\",\" M\",5.49,2711639,32.99,\"North\",30.0668,79.0193],[\"Uttarakhand\",\" 29-02-2020\",\" M\",4.99,3020931,36.48,\"North\",30.0668,79.0193],[\"Uttarakhand\",\" 31-03-2020\",\" M\",19.85,2539302,36.27,\"North\",30.0668,79.0193],[\"Uttarakhand\",\" 30-04-2020\",\" M\",6.48,2720115,33.23,\"North\",30.0668,79.0193],[\"Uttarakhand\",\" 31-05-2020\",\" M\",8.01,2694072,33.38,\"North\",30.0668,79.0193],[\"Uttarakhand\",\" 30-06-2020\",\" M\",8.61,2656071,33.06,\"North\",30.0668,79.0193],[\"Uttarakhand\",\" 31-07-2020\",\" M\",12.38,2938552,38.07,\"North\",30.0668,79.0193],[\"Uttarakhand\",\" 31-08-2020\",\" M\",14.26,2717528,35.9,\"North\",30.0668,79.0193],[\"Uttarakhand\",\" 30-09-2020\",\" M\",22.26,2695230,39.18,\"North\",30.0668,79.0193],[\"Uttarakhand\",\" 31-10-2020\",\" M\",9.23,2739309,34.03,\"North\",30.0668,79.0193],[\"West Bengal\",\" 31-01-2020\",\" M\",6.94,35820789,47.35,\"East\",22.9868,87.855],[\"West Bengal\",\" 29-02-2020\",\" M\",4.92,36964178,47.74,\"East\",22.9868,87.855],[\"West Bengal\",\" 31-03-2020\",\" M\",6.92,35903917,47.27,\"East\",22.9868,87.855],[\"West Bengal\",\" 30-04-2020\",\" M\",17.41,26938836,39.9,\"East\",22.9868,87.855],[\"West Bengal\",\" 31-05-2020\",\" M\",17.41,28356675,41.92,\"East\",22.9868,87.855],[\"West Bengal\",\" 30-06-2020\",\" M\",7.29,30726310,40.39,\"East\",22.9868,87.855],[\"West Bengal\",\" 31-07-2020\",\" M\",6.83,35372506,46.17,\"East\",22.9868,87.855],[\"West Bengal\",\" 31-08-2020\",\" M\",14.87,33298644,47.48,\"East\",22.9868,87.855],[\"West Bengal\",\" 30-09-2020\",\" M\",9.35,35707239,47.73,\"East\",22.9868,87.855],[\"West Bengal\",\" 31-10-2020\",\" M\",9.98,33962549,45.63,\"East\",22.9868,87.855]],\"type\":\"heatmap\",\"xaxis\":\"x\",\"yaxis\":\"y\",\"hovertemplate\":\"x: %{x}<br>y: %{y}<br>color: %{z}<extra></extra>\"}],                        {\"template\":{\"data\":{\"histogram2dcontour\":[{\"type\":\"histogram2dcontour\",\"colorbar\":{\"outlinewidth\":0,\"ticks\":\"\"},\"colorscale\":[[0.0,\"#0d0887\"],[0.1111111111111111,\"#46039f\"],[0.2222222222222222,\"#7201a8\"],[0.3333333333333333,\"#9c179e\"],[0.4444444444444444,\"#bd3786\"],[0.5555555555555556,\"#d8576b\"],[0.6666666666666666,\"#ed7953\"],[0.7777777777777778,\"#fb9f3a\"],[0.8888888888888888,\"#fdca26\"],[1.0,\"#f0f921\"]]}],\"choropleth\":[{\"type\":\"choropleth\",\"colorbar\":{\"outlinewidth\":0,\"ticks\":\"\"}}],\"histogram2d\":[{\"type\":\"histogram2d\",\"colorbar\":{\"outlinewidth\":0,\"ticks\":\"\"},\"colorscale\":[[0.0,\"#0d0887\"],[0.1111111111111111,\"#46039f\"],[0.2222222222222222,\"#7201a8\"],[0.3333333333333333,\"#9c179e\"],[0.4444444444444444,\"#bd3786\"],[0.5555555555555556,\"#d8576b\"],[0.6666666666666666,\"#ed7953\"],[0.7777777777777778,\"#fb9f3a\"],[0.8888888888888888,\"#fdca26\"],[1.0,\"#f0f921\"]]}],\"heatmap\":[{\"type\":\"heatmap\",\"colorbar\":{\"outlinewidth\":0,\"ticks\":\"\"},\"colorscale\":[[0.0,\"#0d0887\"],[0.1111111111111111,\"#46039f\"],[0.2222222222222222,\"#7201a8\"],[0.3333333333333333,\"#9c179e\"],[0.4444444444444444,\"#bd3786\"],[0.5555555555555556,\"#d8576b\"],[0.6666666666666666,\"#ed7953\"],[0.7777777777777778,\"#fb9f3a\"],[0.8888888888888888,\"#fdca26\"],[1.0,\"#f0f921\"]]}],\"heatmapgl\":[{\"type\":\"heatmapgl\",\"colorbar\":{\"outlinewidth\":0,\"ticks\":\"\"},\"colorscale\":[[0.0,\"#0d0887\"],[0.1111111111111111,\"#46039f\"],[0.2222222222222222,\"#7201a8\"],[0.3333333333333333,\"#9c179e\"],[0.4444444444444444,\"#bd3786\"],[0.5555555555555556,\"#d8576b\"],[0.6666666666666666,\"#ed7953\"],[0.7777777777777778,\"#fb9f3a\"],[0.8888888888888888,\"#fdca26\"],[1.0,\"#f0f921\"]]}],\"contourcarpet\":[{\"type\":\"contourcarpet\",\"colorbar\":{\"outlinewidth\":0,\"ticks\":\"\"}}],\"contour\":[{\"type\":\"contour\",\"colorbar\":{\"outlinewidth\":0,\"ticks\":\"\"},\"colorscale\":[[0.0,\"#0d0887\"],[0.1111111111111111,\"#46039f\"],[0.2222222222222222,\"#7201a8\"],[0.3333333333333333,\"#9c179e\"],[0.4444444444444444,\"#bd3786\"],[0.5555555555555556,\"#d8576b\"],[0.6666666666666666,\"#ed7953\"],[0.7777777777777778,\"#fb9f3a\"],[0.8888888888888888,\"#fdca26\"],[1.0,\"#f0f921\"]]}],\"surface\":[{\"type\":\"surface\",\"colorbar\":{\"outlinewidth\":0,\"ticks\":\"\"},\"colorscale\":[[0.0,\"#0d0887\"],[0.1111111111111111,\"#46039f\"],[0.2222222222222222,\"#7201a8\"],[0.3333333333333333,\"#9c179e\"],[0.4444444444444444,\"#bd3786\"],[0.5555555555555556,\"#d8576b\"],[0.6666666666666666,\"#ed7953\"],[0.7777777777777778,\"#fb9f3a\"],[0.8888888888888888,\"#fdca26\"],[1.0,\"#f0f921\"]]}],\"mesh3d\":[{\"type\":\"mesh3d\",\"colorbar\":{\"outlinewidth\":0,\"ticks\":\"\"}}],\"scatter\":[{\"fillpattern\":{\"fillmode\":\"overlay\",\"size\":10,\"solidity\":0.2},\"type\":\"scatter\"}],\"parcoords\":[{\"type\":\"parcoords\",\"line\":{\"colorbar\":{\"outlinewidth\":0,\"ticks\":\"\"}}}],\"scatterpolargl\":[{\"type\":\"scatterpolargl\",\"marker\":{\"colorbar\":{\"outlinewidth\":0,\"ticks\":\"\"}}}],\"bar\":[{\"error_x\":{\"color\":\"#2a3f5f\"},\"error_y\":{\"color\":\"#2a3f5f\"},\"marker\":{\"line\":{\"color\":\"#E5ECF6\",\"width\":0.5},\"pattern\":{\"fillmode\":\"overlay\",\"size\":10,\"solidity\":0.2}},\"type\":\"bar\"}],\"scattergeo\":[{\"type\":\"scattergeo\",\"marker\":{\"colorbar\":{\"outlinewidth\":0,\"ticks\":\"\"}}}],\"scatterpolar\":[{\"type\":\"scatterpolar\",\"marker\":{\"colorbar\":{\"outlinewidth\":0,\"ticks\":\"\"}}}],\"histogram\":[{\"marker\":{\"pattern\":{\"fillmode\":\"overlay\",\"size\":10,\"solidity\":0.2}},\"type\":\"histogram\"}],\"scattergl\":[{\"type\":\"scattergl\",\"marker\":{\"colorbar\":{\"outlinewidth\":0,\"ticks\":\"\"}}}],\"scatter3d\":[{\"type\":\"scatter3d\",\"line\":{\"colorbar\":{\"outlinewidth\":0,\"ticks\":\"\"}},\"marker\":{\"colorbar\":{\"outlinewidth\":0,\"ticks\":\"\"}}}],\"scattermapbox\":[{\"type\":\"scattermapbox\",\"marker\":{\"colorbar\":{\"outlinewidth\":0,\"ticks\":\"\"}}}],\"scatterternary\":[{\"type\":\"scatterternary\",\"marker\":{\"colorbar\":{\"outlinewidth\":0,\"ticks\":\"\"}}}],\"scattercarpet\":[{\"type\":\"scattercarpet\",\"marker\":{\"colorbar\":{\"outlinewidth\":0,\"ticks\":\"\"}}}],\"carpet\":[{\"aaxis\":{\"endlinecolor\":\"#2a3f5f\",\"gridcolor\":\"white\",\"linecolor\":\"white\",\"minorgridcolor\":\"white\",\"startlinecolor\":\"#2a3f5f\"},\"baxis\":{\"endlinecolor\":\"#2a3f5f\",\"gridcolor\":\"white\",\"linecolor\":\"white\",\"minorgridcolor\":\"white\",\"startlinecolor\":\"#2a3f5f\"},\"type\":\"carpet\"}],\"table\":[{\"cells\":{\"fill\":{\"color\":\"#EBF0F8\"},\"line\":{\"color\":\"white\"}},\"header\":{\"fill\":{\"color\":\"#C8D4E3\"},\"line\":{\"color\":\"white\"}},\"type\":\"table\"}],\"barpolar\":[{\"marker\":{\"line\":{\"color\":\"#E5ECF6\",\"width\":0.5},\"pattern\":{\"fillmode\":\"overlay\",\"size\":10,\"solidity\":0.2}},\"type\":\"barpolar\"}],\"pie\":[{\"automargin\":true,\"type\":\"pie\"}]},\"layout\":{\"autotypenumbers\":\"strict\",\"colorway\":[\"#636efa\",\"#EF553B\",\"#00cc96\",\"#ab63fa\",\"#FFA15A\",\"#19d3f3\",\"#FF6692\",\"#B6E880\",\"#FF97FF\",\"#FECB52\"],\"font\":{\"color\":\"#2a3f5f\"},\"hovermode\":\"closest\",\"hoverlabel\":{\"align\":\"left\"},\"paper_bgcolor\":\"white\",\"plot_bgcolor\":\"#E5ECF6\",\"polar\":{\"bgcolor\":\"#E5ECF6\",\"angularaxis\":{\"gridcolor\":\"white\",\"linecolor\":\"white\",\"ticks\":\"\"},\"radialaxis\":{\"gridcolor\":\"white\",\"linecolor\":\"white\",\"ticks\":\"\"}},\"ternary\":{\"bgcolor\":\"#E5ECF6\",\"aaxis\":{\"gridcolor\":\"white\",\"linecolor\":\"white\",\"ticks\":\"\"},\"baxis\":{\"gridcolor\":\"white\",\"linecolor\":\"white\",\"ticks\":\"\"},\"caxis\":{\"gridcolor\":\"white\",\"linecolor\":\"white\",\"ticks\":\"\"}},\"coloraxis\":{\"colorbar\":{\"outlinewidth\":0,\"ticks\":\"\"}},\"colorscale\":{\"sequential\":[[0.0,\"#0d0887\"],[0.1111111111111111,\"#46039f\"],[0.2222222222222222,\"#7201a8\"],[0.3333333333333333,\"#9c179e\"],[0.4444444444444444,\"#bd3786\"],[0.5555555555555556,\"#d8576b\"],[0.6666666666666666,\"#ed7953\"],[0.7777777777777778,\"#fb9f3a\"],[0.8888888888888888,\"#fdca26\"],[1.0,\"#f0f921\"]],\"sequentialminus\":[[0.0,\"#0d0887\"],[0.1111111111111111,\"#46039f\"],[0.2222222222222222,\"#7201a8\"],[0.3333333333333333,\"#9c179e\"],[0.4444444444444444,\"#bd3786\"],[0.5555555555555556,\"#d8576b\"],[0.6666666666666666,\"#ed7953\"],[0.7777777777777778,\"#fb9f3a\"],[0.8888888888888888,\"#fdca26\"],[1.0,\"#f0f921\"]],\"diverging\":[[0,\"#8e0152\"],[0.1,\"#c51b7d\"],[0.2,\"#de77ae\"],[0.3,\"#f1b6da\"],[0.4,\"#fde0ef\"],[0.5,\"#f7f7f7\"],[0.6,\"#e6f5d0\"],[0.7,\"#b8e186\"],[0.8,\"#7fbc41\"],[0.9,\"#4d9221\"],[1,\"#276419\"]]},\"xaxis\":{\"gridcolor\":\"white\",\"linecolor\":\"white\",\"ticks\":\"\",\"title\":{\"standoff\":15},\"zerolinecolor\":\"white\",\"automargin\":true,\"zerolinewidth\":2},\"yaxis\":{\"gridcolor\":\"white\",\"linecolor\":\"white\",\"ticks\":\"\",\"title\":{\"standoff\":15},\"zerolinecolor\":\"white\",\"automargin\":true,\"zerolinewidth\":2},\"scene\":{\"xaxis\":{\"backgroundcolor\":\"#E5ECF6\",\"gridcolor\":\"white\",\"linecolor\":\"white\",\"showbackground\":true,\"ticks\":\"\",\"zerolinecolor\":\"white\",\"gridwidth\":2},\"yaxis\":{\"backgroundcolor\":\"#E5ECF6\",\"gridcolor\":\"white\",\"linecolor\":\"white\",\"showbackground\":true,\"ticks\":\"\",\"zerolinecolor\":\"white\",\"gridwidth\":2},\"zaxis\":{\"backgroundcolor\":\"#E5ECF6\",\"gridcolor\":\"white\",\"linecolor\":\"white\",\"showbackground\":true,\"ticks\":\"\",\"zerolinecolor\":\"white\",\"gridwidth\":2}},\"shapedefaults\":{\"line\":{\"color\":\"#2a3f5f\"}},\"annotationdefaults\":{\"arrowcolor\":\"#2a3f5f\",\"arrowhead\":0,\"arrowwidth\":1},\"geo\":{\"bgcolor\":\"white\",\"landcolor\":\"#E5ECF6\",\"subunitcolor\":\"white\",\"showland\":true,\"showlakes\":true,\"lakecolor\":\"white\"},\"title\":{\"x\":0.05},\"mapbox\":{\"style\":\"light\"}}},\"xaxis\":{\"anchor\":\"y\",\"domain\":[0.0,1.0],\"scaleanchor\":\"y\",\"constrain\":\"domain\"},\"yaxis\":{\"anchor\":\"x\",\"domain\":[0.0,1.0],\"autorange\":\"reversed\",\"constrain\":\"domain\"},\"coloraxis\":{\"colorscale\":[[0.0,\"#0d0887\"],[0.1111111111111111,\"#46039f\"],[0.2222222222222222,\"#7201a8\"],[0.3333333333333333,\"#9c179e\"],[0.4444444444444444,\"#bd3786\"],[0.5555555555555556,\"#d8576b\"],[0.6666666666666666,\"#ed7953\"],[0.7777777777777778,\"#fb9f3a\"],[0.8888888888888888,\"#fdca26\"],[1.0,\"#f0f921\"]]},\"margin\":{\"t\":60}},                        {\"responsive\": true}                    ).then(function(){\n",
       "                            \n",
       "var gd = document.getElementById('40485fca-9854-42f6-adac-77a13d4abc66');\n",
       "var x = new MutationObserver(function (mutations, observer) {{\n",
       "        var display = window.getComputedStyle(gd).display;\n",
       "        if (!display || display === 'none') {{\n",
       "            console.log([gd, 'removed!']);\n",
       "            Plotly.purge(gd);\n",
       "            observer.disconnect();\n",
       "        }}\n",
       "}});\n",
       "\n",
       "// Listen for the removal of the full notebook cells\n",
       "var notebookContainer = gd.closest('#notebook-container');\n",
       "if (notebookContainer) {{\n",
       "    x.observe(notebookContainer, {childList: true});\n",
       "}}\n",
       "\n",
       "// Listen for the clearing of the current output cell\n",
       "var outputEl = gd.closest('.output');\n",
       "if (outputEl) {{\n",
       "    x.observe(outputEl, {childList: true});\n",
       "}}\n",
       "\n",
       "                        })                };                });            </script>        </div>"
      ]
     },
     "metadata": {},
     "output_type": "display_data"
    }
   ],
   "source": [
    "fig = px.imshow(df)\n",
    "fig.show()"
   ]
  },
  {
   "cell_type": "code",
   "execution_count": null,
   "id": "dbfd8faa",
   "metadata": {},
   "outputs": [],
   "source": []
  }
 ],
 "metadata": {
  "kernelspec": {
   "display_name": "Python 3 (ipykernel)",
   "language": "python",
   "name": "python3"
  },
  "language_info": {
   "codemirror_mode": {
    "name": "ipython",
    "version": 3
   },
   "file_extension": ".py",
   "mimetype": "text/x-python",
   "name": "python",
   "nbconvert_exporter": "python",
   "pygments_lexer": "ipython3",
   "version": "3.11.3"
  }
 },
 "nbformat": 4,
 "nbformat_minor": 5
}
